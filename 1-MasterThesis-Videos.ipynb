{
  "nbformat": 4,
  "nbformat_minor": 0,
  "metadata": {
    "colab": {
      "provenance": []
    },
    "kernelspec": {
      "name": "python3",
      "display_name": "Python 3"
    },
    "language_info": {
      "name": "python"
    }
  },
  "cells": [
    {
      "cell_type": "code",
      "source": [
        "from googleapiclient.discovery import build\n",
        "from google.colab import drive\n",
        "import pandas as pd"
      ],
      "metadata": {
        "id": "xVREzVeTzD58"
      },
      "execution_count": null,
      "outputs": []
    },
    {
      "cell_type": "code",
      "execution_count": null,
      "metadata": {
        "colab": {
          "base_uri": "https://localhost:8080/"
        },
        "id": "8pIUD6C-sLNI",
        "outputId": "b437fe21-0df2-4b43-ec34-1e86b244a85c"
      },
      "outputs": [
        {
          "output_type": "stream",
          "name": "stdout",
          "text": [
            "Total collected videos: 315\n",
            "                                               title     video_id  \\\n",
            "0                          Is inequality inevitable?  rEnf_CFoyv0   \n",
            "1  How Wealth Inequality Spiraled Out of Control ...  wOI8RuhW7q0   \n",
            "2  Wealth Gap: Last Week Tonight with John Oliver...  LfgSEwjAeno   \n",
            "3  A Look At Income Inequality In The United Stat...  qc7g6Uhi1i4   \n",
            "4  Thomas Sowell on the Myths of Economic Inequality  mS5WYp5xmvI   \n",
            "\n",
            "                                         description comment_count view_count  \\\n",
            "0  Explore how economic inequality can be measure...          2246     995686   \n",
            "1  Here it is: The full story of wealth inequalit...          5955     973519   \n",
            "2  John Oliver discusses America's growing wealth...          8656   17937666   \n",
            "3  Income inequality has always existed in the U....           209     130275   \n",
            "4  Recorded on November 15, 2018 Thomas Sowell di...          2153    7832958   \n",
            "\n",
            "           published_at channel_subscriber_count  \n",
            "0  2022-10-11T15:01:01Z                 19800000  \n",
            "1  2021-11-03T19:01:04Z                   630000  \n",
            "2  2014-07-14T06:30:01Z                  9440000  \n",
            "3  2020-02-20T21:22:33Z                  1330000  \n",
            "4  2018-12-03T15:57:22Z                   902000  \n"
          ]
        }
      ],
      "source": [
        "# API Key\n",
        "api_key = '...'\n",
        "\n",
        "youtube = build('youtube', 'v3', developerKey=api_key)\n",
        "\n",
        "def get_channel_statistics(channel_id):\n",
        "    channel_request = youtube.channels().list(\n",
        "        part='statistics',\n",
        "        id=channel_id\n",
        "    )\n",
        "    channel_response = channel_request.execute()\n",
        "    if 'items' in channel_response and channel_response['items']:\n",
        "        return channel_response['items'][0]['statistics']\n",
        "    else:\n",
        "        return None\n",
        "\n",
        "# Empty frame\n",
        "videos_info = []\n",
        "pageToken = None\n",
        "\n",
        "while True:\n",
        "    request = youtube.search().list(\n",
        "        q='income inequality',\n",
        "        part='snippet',\n",
        "        type='video',\n",
        "        maxResults=50,\n",
        "        pageToken=pageToken,\n",
        "        regionCode='US'\n",
        "    )\n",
        "    response = request.execute()\n",
        "    for item in response['items']:\n",
        "        video_id = item['id']['videoId']\n",
        "        channel_id = item['snippet']['channelId']\n",
        "        stats = get_video_statistics(video_id)\n",
        "        channel_stats = get_channel_statistics(channel_id)\n",
        "        if stats and int(stats.get('commentCount', 0)) >= 10:\n",
        "            videos_info.append({\n",
        "                'title': item['snippet']['title'],\n",
        "                'video_id': video_id,\n",
        "                'description': item['snippet']['description'],\n",
        "                'comment_count': stats['commentCount'],\n",
        "                'view_count': stats.get('viewCount'),  # viewCount\n",
        "                'published_at': item['snippet']['publishedAt'],  # time\n",
        "                'channel_subscriber_count': channel_stats.get('subscriberCount') if channel_stats else 'Unknown'  # Add channel subcribers\n",
        "            })\n",
        "    pageToken = response.get('nextPageToken')\n",
        "    if not pageToken:\n",
        "        break\n",
        "\n",
        "# DataFrame\n",
        "df_videos = pd.DataFrame(videos_info)\n",
        "\n",
        "# Result\n",
        "print(f\"Total collected videos: {len(df_videos)}\")\n",
        "print(df_videos.head())"
      ]
    },
    {
      "cell_type": "code",
      "source": [
        "df_videos.drop_duplicates(subset='video_id', inplace=True)\n",
        "print(f\"Total videos with >10 comments after removing duplicates: {len(df_videos)}\")\n",
        "df_videos.head()"
      ],
      "metadata": {
        "colab": {
          "base_uri": "https://localhost:8080/",
          "height": 223
        },
        "id": "DId4MZ8yzucs",
        "outputId": "6f8def3f-c806-4dcd-a878-dac0bddf09fa"
      },
      "execution_count": null,
      "outputs": [
        {
          "output_type": "stream",
          "name": "stdout",
          "text": [
            "Total videos with >10 comments after removing duplicates: 276\n"
          ]
        },
        {
          "output_type": "execute_result",
          "data": {
            "text/plain": [
              "                                               title     video_id  \\\n",
              "0                          Is inequality inevitable?  rEnf_CFoyv0   \n",
              "1  How Wealth Inequality Spiraled Out of Control ...  wOI8RuhW7q0   \n",
              "2  Wealth Gap: Last Week Tonight with John Oliver...  LfgSEwjAeno   \n",
              "3  A Look At Income Inequality In The United Stat...  qc7g6Uhi1i4   \n",
              "4  Thomas Sowell on the Myths of Economic Inequality  mS5WYp5xmvI   \n",
              "\n",
              "                                         description comment_count view_count  \\\n",
              "0  Explore how economic inequality can be measure...          2246     995686   \n",
              "1  Here it is: The full story of wealth inequalit...          5955     973519   \n",
              "2  John Oliver discusses America's growing wealth...          8656   17937666   \n",
              "3  Income inequality has always existed in the U....           209     130275   \n",
              "4  Recorded on November 15, 2018 Thomas Sowell di...          2153    7832958   \n",
              "\n",
              "           published_at channel_subscriber_count  \n",
              "0  2022-10-11T15:01:01Z                 19800000  \n",
              "1  2021-11-03T19:01:04Z                   630000  \n",
              "2  2014-07-14T06:30:01Z                  9440000  \n",
              "3  2020-02-20T21:22:33Z                  1330000  \n",
              "4  2018-12-03T15:57:22Z                   902000  "
            ],
            "text/html": [
              "\n",
              "  <div id=\"df-95e0f5ea-e8ce-4d90-9d0b-47307ba624be\" class=\"colab-df-container\">\n",
              "    <div>\n",
              "<style scoped>\n",
              "    .dataframe tbody tr th:only-of-type {\n",
              "        vertical-align: middle;\n",
              "    }\n",
              "\n",
              "    .dataframe tbody tr th {\n",
              "        vertical-align: top;\n",
              "    }\n",
              "\n",
              "    .dataframe thead th {\n",
              "        text-align: right;\n",
              "    }\n",
              "</style>\n",
              "<table border=\"1\" class=\"dataframe\">\n",
              "  <thead>\n",
              "    <tr style=\"text-align: right;\">\n",
              "      <th></th>\n",
              "      <th>title</th>\n",
              "      <th>video_id</th>\n",
              "      <th>description</th>\n",
              "      <th>comment_count</th>\n",
              "      <th>view_count</th>\n",
              "      <th>published_at</th>\n",
              "      <th>channel_subscriber_count</th>\n",
              "    </tr>\n",
              "  </thead>\n",
              "  <tbody>\n",
              "    <tr>\n",
              "      <th>0</th>\n",
              "      <td>Is inequality inevitable?</td>\n",
              "      <td>rEnf_CFoyv0</td>\n",
              "      <td>Explore how economic inequality can be measure...</td>\n",
              "      <td>2246</td>\n",
              "      <td>995686</td>\n",
              "      <td>2022-10-11T15:01:01Z</td>\n",
              "      <td>19800000</td>\n",
              "    </tr>\n",
              "    <tr>\n",
              "      <th>1</th>\n",
              "      <td>How Wealth Inequality Spiraled Out of Control ...</td>\n",
              "      <td>wOI8RuhW7q0</td>\n",
              "      <td>Here it is: The full story of wealth inequalit...</td>\n",
              "      <td>5955</td>\n",
              "      <td>973519</td>\n",
              "      <td>2021-11-03T19:01:04Z</td>\n",
              "      <td>630000</td>\n",
              "    </tr>\n",
              "    <tr>\n",
              "      <th>2</th>\n",
              "      <td>Wealth Gap: Last Week Tonight with John Oliver...</td>\n",
              "      <td>LfgSEwjAeno</td>\n",
              "      <td>John Oliver discusses America's growing wealth...</td>\n",
              "      <td>8656</td>\n",
              "      <td>17937666</td>\n",
              "      <td>2014-07-14T06:30:01Z</td>\n",
              "      <td>9440000</td>\n",
              "    </tr>\n",
              "    <tr>\n",
              "      <th>3</th>\n",
              "      <td>A Look At Income Inequality In The United Stat...</td>\n",
              "      <td>qc7g6Uhi1i4</td>\n",
              "      <td>Income inequality has always existed in the U....</td>\n",
              "      <td>209</td>\n",
              "      <td>130275</td>\n",
              "      <td>2020-02-20T21:22:33Z</td>\n",
              "      <td>1330000</td>\n",
              "    </tr>\n",
              "    <tr>\n",
              "      <th>4</th>\n",
              "      <td>Thomas Sowell on the Myths of Economic Inequality</td>\n",
              "      <td>mS5WYp5xmvI</td>\n",
              "      <td>Recorded on November 15, 2018 Thomas Sowell di...</td>\n",
              "      <td>2153</td>\n",
              "      <td>7832958</td>\n",
              "      <td>2018-12-03T15:57:22Z</td>\n",
              "      <td>902000</td>\n",
              "    </tr>\n",
              "  </tbody>\n",
              "</table>\n",
              "</div>\n",
              "    <div class=\"colab-df-buttons\">\n",
              "\n",
              "  <div class=\"colab-df-container\">\n",
              "    <button class=\"colab-df-convert\" onclick=\"convertToInteractive('df-95e0f5ea-e8ce-4d90-9d0b-47307ba624be')\"\n",
              "            title=\"Convert this dataframe to an interactive table.\"\n",
              "            style=\"display:none;\">\n",
              "\n",
              "  <svg xmlns=\"http://www.w3.org/2000/svg\" height=\"24px\" viewBox=\"0 -960 960 960\">\n",
              "    <path d=\"M120-120v-720h720v720H120Zm60-500h600v-160H180v160Zm220 220h160v-160H400v160Zm0 220h160v-160H400v160ZM180-400h160v-160H180v160Zm440 0h160v-160H620v160ZM180-180h160v-160H180v160Zm440 0h160v-160H620v160Z\"/>\n",
              "  </svg>\n",
              "    </button>\n",
              "\n",
              "  <style>\n",
              "    .colab-df-container {\n",
              "      display:flex;\n",
              "      gap: 12px;\n",
              "    }\n",
              "\n",
              "    .colab-df-convert {\n",
              "      background-color: #E8F0FE;\n",
              "      border: none;\n",
              "      border-radius: 50%;\n",
              "      cursor: pointer;\n",
              "      display: none;\n",
              "      fill: #1967D2;\n",
              "      height: 32px;\n",
              "      padding: 0 0 0 0;\n",
              "      width: 32px;\n",
              "    }\n",
              "\n",
              "    .colab-df-convert:hover {\n",
              "      background-color: #E2EBFA;\n",
              "      box-shadow: 0px 1px 2px rgba(60, 64, 67, 0.3), 0px 1px 3px 1px rgba(60, 64, 67, 0.15);\n",
              "      fill: #174EA6;\n",
              "    }\n",
              "\n",
              "    .colab-df-buttons div {\n",
              "      margin-bottom: 4px;\n",
              "    }\n",
              "\n",
              "    [theme=dark] .colab-df-convert {\n",
              "      background-color: #3B4455;\n",
              "      fill: #D2E3FC;\n",
              "    }\n",
              "\n",
              "    [theme=dark] .colab-df-convert:hover {\n",
              "      background-color: #434B5C;\n",
              "      box-shadow: 0px 1px 3px 1px rgba(0, 0, 0, 0.15);\n",
              "      filter: drop-shadow(0px 1px 2px rgba(0, 0, 0, 0.3));\n",
              "      fill: #FFFFFF;\n",
              "    }\n",
              "  </style>\n",
              "\n",
              "    <script>\n",
              "      const buttonEl =\n",
              "        document.querySelector('#df-95e0f5ea-e8ce-4d90-9d0b-47307ba624be button.colab-df-convert');\n",
              "      buttonEl.style.display =\n",
              "        google.colab.kernel.accessAllowed ? 'block' : 'none';\n",
              "\n",
              "      async function convertToInteractive(key) {\n",
              "        const element = document.querySelector('#df-95e0f5ea-e8ce-4d90-9d0b-47307ba624be');\n",
              "        const dataTable =\n",
              "          await google.colab.kernel.invokeFunction('convertToInteractive',\n",
              "                                                    [key], {});\n",
              "        if (!dataTable) return;\n",
              "\n",
              "        const docLinkHtml = 'Like what you see? Visit the ' +\n",
              "          '<a target=\"_blank\" href=https://colab.research.google.com/notebooks/data_table.ipynb>data table notebook</a>'\n",
              "          + ' to learn more about interactive tables.';\n",
              "        element.innerHTML = '';\n",
              "        dataTable['output_type'] = 'display_data';\n",
              "        await google.colab.output.renderOutput(dataTable, element);\n",
              "        const docLink = document.createElement('div');\n",
              "        docLink.innerHTML = docLinkHtml;\n",
              "        element.appendChild(docLink);\n",
              "      }\n",
              "    </script>\n",
              "  </div>\n",
              "\n",
              "\n",
              "<div id=\"df-7166d154-9d83-4b03-a76d-8420a963754d\">\n",
              "  <button class=\"colab-df-quickchart\" onclick=\"quickchart('df-7166d154-9d83-4b03-a76d-8420a963754d')\"\n",
              "            title=\"Suggest charts\"\n",
              "            style=\"display:none;\">\n",
              "\n",
              "<svg xmlns=\"http://www.w3.org/2000/svg\" height=\"24px\"viewBox=\"0 0 24 24\"\n",
              "     width=\"24px\">\n",
              "    <g>\n",
              "        <path d=\"M19 3H5c-1.1 0-2 .9-2 2v14c0 1.1.9 2 2 2h14c1.1 0 2-.9 2-2V5c0-1.1-.9-2-2-2zM9 17H7v-7h2v7zm4 0h-2V7h2v10zm4 0h-2v-4h2v4z\"/>\n",
              "    </g>\n",
              "</svg>\n",
              "  </button>\n",
              "\n",
              "<style>\n",
              "  .colab-df-quickchart {\n",
              "      --bg-color: #E8F0FE;\n",
              "      --fill-color: #1967D2;\n",
              "      --hover-bg-color: #E2EBFA;\n",
              "      --hover-fill-color: #174EA6;\n",
              "      --disabled-fill-color: #AAA;\n",
              "      --disabled-bg-color: #DDD;\n",
              "  }\n",
              "\n",
              "  [theme=dark] .colab-df-quickchart {\n",
              "      --bg-color: #3B4455;\n",
              "      --fill-color: #D2E3FC;\n",
              "      --hover-bg-color: #434B5C;\n",
              "      --hover-fill-color: #FFFFFF;\n",
              "      --disabled-bg-color: #3B4455;\n",
              "      --disabled-fill-color: #666;\n",
              "  }\n",
              "\n",
              "  .colab-df-quickchart {\n",
              "    background-color: var(--bg-color);\n",
              "    border: none;\n",
              "    border-radius: 50%;\n",
              "    cursor: pointer;\n",
              "    display: none;\n",
              "    fill: var(--fill-color);\n",
              "    height: 32px;\n",
              "    padding: 0;\n",
              "    width: 32px;\n",
              "  }\n",
              "\n",
              "  .colab-df-quickchart:hover {\n",
              "    background-color: var(--hover-bg-color);\n",
              "    box-shadow: 0 1px 2px rgba(60, 64, 67, 0.3), 0 1px 3px 1px rgba(60, 64, 67, 0.15);\n",
              "    fill: var(--button-hover-fill-color);\n",
              "  }\n",
              "\n",
              "  .colab-df-quickchart-complete:disabled,\n",
              "  .colab-df-quickchart-complete:disabled:hover {\n",
              "    background-color: var(--disabled-bg-color);\n",
              "    fill: var(--disabled-fill-color);\n",
              "    box-shadow: none;\n",
              "  }\n",
              "\n",
              "  .colab-df-spinner {\n",
              "    border: 2px solid var(--fill-color);\n",
              "    border-color: transparent;\n",
              "    border-bottom-color: var(--fill-color);\n",
              "    animation:\n",
              "      spin 1s steps(1) infinite;\n",
              "  }\n",
              "\n",
              "  @keyframes spin {\n",
              "    0% {\n",
              "      border-color: transparent;\n",
              "      border-bottom-color: var(--fill-color);\n",
              "      border-left-color: var(--fill-color);\n",
              "    }\n",
              "    20% {\n",
              "      border-color: transparent;\n",
              "      border-left-color: var(--fill-color);\n",
              "      border-top-color: var(--fill-color);\n",
              "    }\n",
              "    30% {\n",
              "      border-color: transparent;\n",
              "      border-left-color: var(--fill-color);\n",
              "      border-top-color: var(--fill-color);\n",
              "      border-right-color: var(--fill-color);\n",
              "    }\n",
              "    40% {\n",
              "      border-color: transparent;\n",
              "      border-right-color: var(--fill-color);\n",
              "      border-top-color: var(--fill-color);\n",
              "    }\n",
              "    60% {\n",
              "      border-color: transparent;\n",
              "      border-right-color: var(--fill-color);\n",
              "    }\n",
              "    80% {\n",
              "      border-color: transparent;\n",
              "      border-right-color: var(--fill-color);\n",
              "      border-bottom-color: var(--fill-color);\n",
              "    }\n",
              "    90% {\n",
              "      border-color: transparent;\n",
              "      border-bottom-color: var(--fill-color);\n",
              "    }\n",
              "  }\n",
              "</style>\n",
              "\n",
              "  <script>\n",
              "    async function quickchart(key) {\n",
              "      const quickchartButtonEl =\n",
              "        document.querySelector('#' + key + ' button');\n",
              "      quickchartButtonEl.disabled = true;  // To prevent multiple clicks.\n",
              "      quickchartButtonEl.classList.add('colab-df-spinner');\n",
              "      try {\n",
              "        const charts = await google.colab.kernel.invokeFunction(\n",
              "            'suggestCharts', [key], {});\n",
              "      } catch (error) {\n",
              "        console.error('Error during call to suggestCharts:', error);\n",
              "      }\n",
              "      quickchartButtonEl.classList.remove('colab-df-spinner');\n",
              "      quickchartButtonEl.classList.add('colab-df-quickchart-complete');\n",
              "    }\n",
              "    (() => {\n",
              "      let quickchartButtonEl =\n",
              "        document.querySelector('#df-7166d154-9d83-4b03-a76d-8420a963754d button');\n",
              "      quickchartButtonEl.style.display =\n",
              "        google.colab.kernel.accessAllowed ? 'block' : 'none';\n",
              "    })();\n",
              "  </script>\n",
              "</div>\n",
              "    </div>\n",
              "  </div>\n"
            ],
            "application/vnd.google.colaboratory.intrinsic+json": {
              "type": "dataframe",
              "variable_name": "df_videos",
              "summary": "{\n  \"name\": \"df_videos\",\n  \"rows\": 276,\n  \"fields\": [\n    {\n      \"column\": \"title\",\n      \"properties\": {\n        \"dtype\": \"string\",\n        \"num_unique_values\": 276,\n        \"samples\": [\n          \"Explained | Racial Wealth Gap | FULL EPISODE | Netflix\",\n          \"Is Income Inequality That Bad?\",\n          \"Fixing Income Inequality by Getting to The Root Cause | Not What You Think\"\n        ],\n        \"semantic_type\": \"\",\n        \"description\": \"\"\n      }\n    },\n    {\n      \"column\": \"video_id\",\n      \"properties\": {\n        \"dtype\": \"string\",\n        \"num_unique_values\": 276,\n        \"samples\": [\n          \"Mqrhn8khGLM\",\n          \"xgYaBD_51Dc\",\n          \"ipLsz8WZwtw\"\n        ],\n        \"semantic_type\": \"\",\n        \"description\": \"\"\n      }\n    },\n    {\n      \"column\": \"description\",\n      \"properties\": {\n        \"dtype\": \"string\",\n        \"num_unique_values\": 266,\n        \"samples\": [\n          \"Patrick Bet-David Podcast Episode 55. In this clip Patrick Bet-David, Adam Sosnick and John Stossel talk about income inequality.\",\n          \"\\\"Hey, who says America is in decline? The U.S. is still more awesome than the rest of the world at making at least one thing.\",\n          \"\\\"An investor who hosts the reality show \\\"Shark Tank\\\" said \\\"it's fantastic\\\" that the world's 85 richest people hold as much wealth as ...\"\n        ],\n        \"semantic_type\": \"\",\n        \"description\": \"\"\n      }\n    },\n    {\n      \"column\": \"comment_count\",\n      \"properties\": {\n        \"dtype\": \"string\",\n        \"num_unique_values\": 191,\n        \"samples\": [\n          \"48\",\n          \"3506\",\n          \"20\"\n        ],\n        \"semantic_type\": \"\",\n        \"description\": \"\"\n      }\n    },\n    {\n      \"column\": \"view_count\",\n      \"properties\": {\n        \"dtype\": \"string\",\n        \"num_unique_values\": 274,\n        \"samples\": [\n          \"1469023\",\n          \"32129\",\n          \"1822\"\n        ],\n        \"semantic_type\": \"\",\n        \"description\": \"\"\n      }\n    },\n    {\n      \"column\": \"published_at\",\n      \"properties\": {\n        \"dtype\": \"object\",\n        \"num_unique_values\": 276,\n        \"samples\": [\n          \"2020-04-17T13:00:03Z\",\n          \"2021-05-12T12:00:23Z\",\n          \"2020-09-03T19:00:05Z\"\n        ],\n        \"semantic_type\": \"\",\n        \"description\": \"\"\n      }\n    },\n    {\n      \"column\": \"channel_subscriber_count\",\n      \"properties\": {\n        \"dtype\": \"string\",\n        \"num_unique_values\": 186,\n        \"samples\": [\n          \"11500000\",\n          \"1080\",\n          \"81900\"\n        ],\n        \"semantic_type\": \"\",\n        \"description\": \"\"\n      }\n    }\n  ]\n}"
            }
          },
          "metadata": {},
          "execution_count": 9
        }
      ]
    },
    {
      "cell_type": "code",
      "source": [
        "!pip install yt-dlp"
      ],
      "metadata": {
        "colab": {
          "base_uri": "https://localhost:8080/"
        },
        "id": "XQIaioBX2LvE",
        "outputId": "10776c6a-be38-4c6c-dc59-ce5336de088b"
      },
      "execution_count": null,
      "outputs": [
        {
          "output_type": "stream",
          "name": "stdout",
          "text": [
            "Collecting yt-dlp\n",
            "  Downloading yt_dlp-2024.4.9-py3-none-any.whl (3.1 MB)\n",
            "\u001b[2K     \u001b[90m━━━━━━━━━━━━━━━━━━━━━━━━━━━━━━━━━━━━━━━━\u001b[0m \u001b[32m3.1/3.1 MB\u001b[0m \u001b[31m12.8 MB/s\u001b[0m eta \u001b[36m0:00:00\u001b[0m\n",
            "\u001b[?25hCollecting brotli (from yt-dlp)\n",
            "  Downloading Brotli-1.1.0-cp310-cp310-manylinux_2_5_x86_64.manylinux1_x86_64.manylinux_2_12_x86_64.manylinux2010_x86_64.whl (3.0 MB)\n",
            "\u001b[2K     \u001b[90m━━━━━━━━━━━━━━━━━━━━━━━━━━━━━━━━━━━━━━━━\u001b[0m \u001b[32m3.0/3.0 MB\u001b[0m \u001b[31m54.4 MB/s\u001b[0m eta \u001b[36m0:00:00\u001b[0m\n",
            "\u001b[?25hRequirement already satisfied: certifi in /usr/local/lib/python3.10/dist-packages (from yt-dlp) (2024.2.2)\n",
            "Collecting mutagen (from yt-dlp)\n",
            "  Downloading mutagen-1.47.0-py3-none-any.whl (194 kB)\n",
            "\u001b[2K     \u001b[90m━━━━━━━━━━━━━━━━━━━━━━━━━━━━━━━━━━━━━━━━\u001b[0m \u001b[32m194.4/194.4 kB\u001b[0m \u001b[31m23.1 MB/s\u001b[0m eta \u001b[36m0:00:00\u001b[0m\n",
            "\u001b[?25hCollecting pycryptodomex (from yt-dlp)\n",
            "  Downloading pycryptodomex-3.20.0-cp35-abi3-manylinux_2_17_x86_64.manylinux2014_x86_64.whl (2.1 MB)\n",
            "\u001b[2K     \u001b[90m━━━━━━━━━━━━━━━━━━━━━━━━━━━━━━━━━━━━━━━━\u001b[0m \u001b[32m2.1/2.1 MB\u001b[0m \u001b[31m52.4 MB/s\u001b[0m eta \u001b[36m0:00:00\u001b[0m\n",
            "\u001b[?25hRequirement already satisfied: requests<3,>=2.31.0 in /usr/local/lib/python3.10/dist-packages (from yt-dlp) (2.31.0)\n",
            "Requirement already satisfied: urllib3<3,>=1.26.17 in /usr/local/lib/python3.10/dist-packages (from yt-dlp) (2.0.7)\n",
            "Collecting websockets>=12.0 (from yt-dlp)\n",
            "  Downloading websockets-12.0-cp310-cp310-manylinux_2_5_x86_64.manylinux1_x86_64.manylinux_2_17_x86_64.manylinux2014_x86_64.whl (130 kB)\n",
            "\u001b[2K     \u001b[90m━━━━━━━━━━━━━━━━━━━━━━━━━━━━━━━━━━━━━━━━\u001b[0m \u001b[32m130.2/130.2 kB\u001b[0m \u001b[31m14.4 MB/s\u001b[0m eta \u001b[36m0:00:00\u001b[0m\n",
            "\u001b[?25hRequirement already satisfied: charset-normalizer<4,>=2 in /usr/local/lib/python3.10/dist-packages (from requests<3,>=2.31.0->yt-dlp) (3.3.2)\n",
            "Requirement already satisfied: idna<4,>=2.5 in /usr/local/lib/python3.10/dist-packages (from requests<3,>=2.31.0->yt-dlp) (3.6)\n",
            "Installing collected packages: brotli, websockets, pycryptodomex, mutagen, yt-dlp\n",
            "Successfully installed brotli-1.1.0 mutagen-1.47.0 pycryptodomex-3.20.0 websockets-12.0 yt-dlp-2024.4.9\n"
          ]
        }
      ]
    },
    {
      "cell_type": "code",
      "source": [
        "import yt_dlp\n",
        "import os"
      ],
      "metadata": {
        "id": "c6-EQjQ02QLL"
      },
      "execution_count": null,
      "outputs": []
    },
    {
      "cell_type": "code",
      "source": [
        "# Define a function to get captions\n",
        "def download_and_read_subtitles(video_id, lang='en'):\n",
        "    # Configuring the yt-dlp option\n",
        "    ydl_opts = {\n",
        "        'skip_download': True,  # skip\n",
        "        'writesubtitles': True,  # download captions\n",
        "        'writeautomaticsub': True,  # download automatic captions\n",
        "        'subtitleslangs': [lang],  # language\n",
        "        'subtitlesformat': 'vtt',  # format\n",
        "        'quiet': True,\n",
        "        'outtmpl': '%(id)s.%(ext)s',  # output\n",
        "    }\n",
        "\n",
        "    with yt_dlp.YoutubeDL(ydl_opts) as ydl:\n",
        "        # download\n",
        "        try:\n",
        "            result = ydl.extract_info(f'https://www.youtube.com/watch?v={video_id}', download=True)\n",
        "            # path to subtitle file\n",
        "            subtitle_file = ydl.prepare_filename(result).replace('.webm', '.en.vtt').replace('.mp4', '.en.vtt')\n",
        "            # reading\n",
        "            if os.path.exists(subtitle_file):\n",
        "                with open(subtitle_file, 'r', encoding='utf-8') as file:\n",
        "                    subtitles_text = file.read()\n",
        "                # remove docs\n",
        "                os.remove(subtitle_file)\n",
        "                return subtitles_text\n",
        "        except Exception as e:\n",
        "            print(f\"Error downloading subtitles for video {video_id}: {e}\")\n",
        "    return None"
      ],
      "metadata": {
        "id": "-quIFQD70sp1"
      },
      "execution_count": null,
      "outputs": []
    },
    {
      "cell_type": "code",
      "source": [
        "df_videos['subtitles_text'] = df_videos['video_id'].apply(download_and_read_subtitles)"
      ],
      "metadata": {
        "colab": {
          "base_uri": "https://localhost:8080/"
        },
        "id": "IKsQklnG2Z29",
        "outputId": "8465bca5-da80-42db-a502-6ffbbd6754ac"
      },
      "execution_count": null,
      "outputs": [
        {
          "output_type": "stream",
          "name": "stderr",
          "text": [
            "WARNING: [youtube] Skipping player responses from android clients (got player responses for video \"aQvGIIdgFDM\" instead of \"rEnf_CFoyv0\")\n"
          ]
        },
        {
          "output_type": "stream",
          "name": "stdout",
          "text": []
        },
        {
          "output_type": "stream",
          "name": "stderr",
          "text": [
            "WARNING: [youtube] Skipping player responses from android clients (got player responses for video \"aQvGIIdgFDM\" instead of \"wOI8RuhW7q0\")\n"
          ]
        },
        {
          "output_type": "stream",
          "name": "stdout",
          "text": []
        },
        {
          "output_type": "stream",
          "name": "stderr",
          "text": [
            "WARNING: [youtube] Skipping player responses from android clients (got player responses for video \"aQvGIIdgFDM\" instead of \"LfgSEwjAeno\")\n"
          ]
        },
        {
          "output_type": "stream",
          "name": "stdout",
          "text": []
        },
        {
          "output_type": "stream",
          "name": "stderr",
          "text": [
            "WARNING: [youtube] Skipping player responses from android clients (got player responses for video \"aQvGIIdgFDM\" instead of \"qc7g6Uhi1i4\")\n"
          ]
        },
        {
          "output_type": "stream",
          "name": "stdout",
          "text": []
        },
        {
          "output_type": "stream",
          "name": "stderr",
          "text": [
            "WARNING: [youtube] Skipping player responses from android clients (got player responses for video \"aQvGIIdgFDM\" instead of \"mS5WYp5xmvI\")\n"
          ]
        },
        {
          "output_type": "stream",
          "name": "stdout",
          "text": []
        },
        {
          "output_type": "stream",
          "name": "stderr",
          "text": [
            "WARNING: [youtube] Skipping player responses from android clients (got player responses for video \"aQvGIIdgFDM\" instead of \"tjQzpt8LeXI\")\n"
          ]
        },
        {
          "output_type": "stream",
          "name": "stdout",
          "text": []
        },
        {
          "output_type": "stream",
          "name": "stderr",
          "text": [
            "WARNING: [youtube] Skipping player responses from android clients (got player responses for video \"aQvGIIdgFDM\" instead of \"EdqxBNgnmxU\")\n"
          ]
        },
        {
          "output_type": "stream",
          "name": "stdout",
          "text": []
        },
        {
          "output_type": "stream",
          "name": "stderr",
          "text": [
            "WARNING: [youtube] Skipping player responses from android clients (got player responses for video \"aQvGIIdgFDM\" instead of \"cZ7LzE3u7Bw\")\n"
          ]
        },
        {
          "output_type": "stream",
          "name": "stdout",
          "text": []
        },
        {
          "output_type": "stream",
          "name": "stderr",
          "text": [
            "WARNING: [youtube] Skipping player responses from android clients (got player responses for video \"aQvGIIdgFDM\" instead of \"41y4c1Oi5Uo\")\n"
          ]
        },
        {
          "output_type": "stream",
          "name": "stdout",
          "text": []
        },
        {
          "output_type": "stream",
          "name": "stderr",
          "text": [
            "WARNING: [youtube] Skipping player responses from android clients (got player responses for video \"aQvGIIdgFDM\" instead of \"QPKKQnijnsM\")\n"
          ]
        },
        {
          "output_type": "stream",
          "name": "stdout",
          "text": []
        },
        {
          "output_type": "stream",
          "name": "stderr",
          "text": [
            "WARNING: [youtube] Skipping player responses from android clients (got player responses for video \"aQvGIIdgFDM\" instead of \"6Xa9T2OMzmw\")\n"
          ]
        },
        {
          "output_type": "stream",
          "name": "stdout",
          "text": []
        },
        {
          "output_type": "stream",
          "name": "stderr",
          "text": [
            "WARNING: [youtube] Skipping player responses from android clients (got player responses for video \"aQvGIIdgFDM\" instead of \"DANUXO-GQwU\")\n"
          ]
        },
        {
          "output_type": "stream",
          "name": "stdout",
          "text": []
        },
        {
          "output_type": "stream",
          "name": "stderr",
          "text": [
            "WARNING: [youtube] Skipping player responses from android clients (got player responses for video \"aQvGIIdgFDM\" instead of \"BtVNO0H7yLU\")\n"
          ]
        },
        {
          "output_type": "stream",
          "name": "stdout",
          "text": []
        },
        {
          "output_type": "stream",
          "name": "stderr",
          "text": [
            "WARNING: [youtube] Skipping player responses from android clients (got player responses for video \"aQvGIIdgFDM\" instead of \"caBDPFx2et4\")\n"
          ]
        },
        {
          "output_type": "stream",
          "name": "stdout",
          "text": []
        },
        {
          "output_type": "stream",
          "name": "stderr",
          "text": [
            "WARNING: [youtube] Skipping player responses from android clients (got player responses for video \"aQvGIIdgFDM\" instead of \"iY05U7GaU5I\")\n"
          ]
        },
        {
          "output_type": "stream",
          "name": "stdout",
          "text": []
        },
        {
          "output_type": "stream",
          "name": "stderr",
          "text": [
            "WARNING: [youtube] Skipping player responses from android clients (got player responses for video \"aQvGIIdgFDM\" instead of \"S6JsbdBS8cs\")\n"
          ]
        },
        {
          "output_type": "stream",
          "name": "stdout",
          "text": []
        },
        {
          "output_type": "stream",
          "name": "stderr",
          "text": [
            "WARNING: [youtube] Skipping player responses from android clients (got player responses for video \"aQvGIIdgFDM\" instead of \"08xP6a888cI\")\n"
          ]
        },
        {
          "output_type": "stream",
          "name": "stdout",
          "text": []
        },
        {
          "output_type": "stream",
          "name": "stderr",
          "text": [
            "WARNING: [youtube] Skipping player responses from android clients (got player responses for video \"aQvGIIdgFDM\" instead of \"N0PC1ImpoK4\")\n"
          ]
        },
        {
          "output_type": "stream",
          "name": "stdout",
          "text": []
        },
        {
          "output_type": "stream",
          "name": "stderr",
          "text": [
            "WARNING: [youtube] Skipping player responses from android clients (got player responses for video \"aQvGIIdgFDM\" instead of \"swOpLpZaA78\")\n"
          ]
        },
        {
          "output_type": "stream",
          "name": "stdout",
          "text": []
        },
        {
          "output_type": "stream",
          "name": "stderr",
          "text": [
            "WARNING: [youtube] Skipping player responses from android clients (got player responses for video \"aQvGIIdgFDM\" instead of \"iGoS7_pAj2I\")\n"
          ]
        },
        {
          "output_type": "stream",
          "name": "stdout",
          "text": []
        },
        {
          "output_type": "stream",
          "name": "stderr",
          "text": [
            "WARNING: [youtube] Skipping player responses from android clients (got player responses for video \"aQvGIIdgFDM\" instead of \"mv2hx7wjdiA\")\n"
          ]
        },
        {
          "output_type": "stream",
          "name": "stdout",
          "text": []
        },
        {
          "output_type": "stream",
          "name": "stderr",
          "text": [
            "WARNING: [youtube] Skipping player responses from android clients (got player responses for video \"aQvGIIdgFDM\" instead of \"ja15pIDBEHc\")\n"
          ]
        },
        {
          "output_type": "stream",
          "name": "stdout",
          "text": []
        },
        {
          "output_type": "stream",
          "name": "stderr",
          "text": [
            "WARNING: [youtube] Skipping player responses from android clients (got player responses for video \"aQvGIIdgFDM\" instead of \"cBNbU-6RhkM\")\n"
          ]
        },
        {
          "output_type": "stream",
          "name": "stdout",
          "text": []
        },
        {
          "output_type": "stream",
          "name": "stderr",
          "text": [
            "WARNING: [youtube] Skipping player responses from android clients (got player responses for video \"aQvGIIdgFDM\" instead of \"xwQd7oNygDU\")\n"
          ]
        },
        {
          "output_type": "stream",
          "name": "stdout",
          "text": []
        },
        {
          "output_type": "stream",
          "name": "stderr",
          "text": [
            "WARNING: [youtube] Skipping player responses from android clients (got player responses for video \"aQvGIIdgFDM\" instead of \"G0W4ARL2G54\")\n"
          ]
        },
        {
          "output_type": "stream",
          "name": "stdout",
          "text": []
        },
        {
          "output_type": "stream",
          "name": "stderr",
          "text": [
            "WARNING: [youtube] Skipping player responses from android clients (got player responses for video \"aQvGIIdgFDM\" instead of \"tnPrI1JIUsI\")\n"
          ]
        },
        {
          "output_type": "stream",
          "name": "stdout",
          "text": []
        },
        {
          "output_type": "stream",
          "name": "stderr",
          "text": [
            "WARNING: [youtube] Skipping player responses from android clients (got player responses for video \"aQvGIIdgFDM\" instead of \"pQMkYOswUQM\")\n"
          ]
        },
        {
          "output_type": "stream",
          "name": "stdout",
          "text": []
        },
        {
          "output_type": "stream",
          "name": "stderr",
          "text": [
            "WARNING: [youtube] Skipping player responses from android clients (got player responses for video \"aQvGIIdgFDM\" instead of \"WjwhnhtCwsM\")\n"
          ]
        },
        {
          "output_type": "stream",
          "name": "stdout",
          "text": []
        },
        {
          "output_type": "stream",
          "name": "stderr",
          "text": [
            "WARNING: [youtube] Skipping player responses from android clients (got player responses for video \"aQvGIIdgFDM\" instead of \"m_Jwn2H801I\")\n"
          ]
        },
        {
          "output_type": "stream",
          "name": "stdout",
          "text": []
        },
        {
          "output_type": "stream",
          "name": "stderr",
          "text": [
            "WARNING: [youtube] Skipping player responses from android clients (got player responses for video \"aQvGIIdgFDM\" instead of \"vqLjIMA549I\")\n"
          ]
        },
        {
          "output_type": "stream",
          "name": "stdout",
          "text": []
        },
        {
          "output_type": "stream",
          "name": "stderr",
          "text": [
            "WARNING: [youtube] Skipping player responses from android clients (got player responses for video \"aQvGIIdgFDM\" instead of \"Mqrhn8khGLM\")\n",
            "WARNING: [youtube] Skipping player responses from android clients (got player responses for video \"aQvGIIdgFDM\" instead of \"Zwn6fqbNRLo\")\n"
          ]
        },
        {
          "output_type": "stream",
          "name": "stdout",
          "text": []
        },
        {
          "output_type": "stream",
          "name": "stderr",
          "text": [
            "WARNING: [youtube] Skipping player responses from android clients (got player responses for video \"aQvGIIdgFDM\" instead of \"AFIxi7BiScI\")\n"
          ]
        },
        {
          "output_type": "stream",
          "name": "stdout",
          "text": []
        },
        {
          "output_type": "stream",
          "name": "stderr",
          "text": [
            "WARNING: [youtube] Skipping player responses from android clients (got player responses for video \"aQvGIIdgFDM\" instead of \"pnLBOwvQ73g\")\n"
          ]
        },
        {
          "output_type": "stream",
          "name": "stdout",
          "text": []
        },
        {
          "output_type": "stream",
          "name": "stderr",
          "text": [
            "WARNING: [youtube] Skipping player responses from android clients (got player responses for video \"aQvGIIdgFDM\" instead of \"6c21XMMH5Vg\")\n"
          ]
        },
        {
          "output_type": "stream",
          "name": "stdout",
          "text": []
        },
        {
          "output_type": "stream",
          "name": "stderr",
          "text": [
            "WARNING: [youtube] Skipping player responses from android clients (got player responses for video \"aQvGIIdgFDM\" instead of \"VePpQBCbKBw\")\n"
          ]
        },
        {
          "output_type": "stream",
          "name": "stdout",
          "text": []
        },
        {
          "output_type": "stream",
          "name": "stderr",
          "text": [
            "WARNING: [youtube] Skipping player responses from android clients (got player responses for video \"aQvGIIdgFDM\" instead of \"CHReFKy_Mi4\")\n"
          ]
        },
        {
          "output_type": "stream",
          "name": "stdout",
          "text": []
        },
        {
          "output_type": "stream",
          "name": "stderr",
          "text": [
            "WARNING: [youtube] Skipping player responses from android clients (got player responses for video \"aQvGIIdgFDM\" instead of \"VUrW3XrWeP4\")\n"
          ]
        },
        {
          "output_type": "stream",
          "name": "stdout",
          "text": []
        },
        {
          "output_type": "stream",
          "name": "stderr",
          "text": [
            "WARNING: [youtube] Skipping player responses from android clients (got player responses for video \"aQvGIIdgFDM\" instead of \"ns9f2FOc26M\")\n"
          ]
        },
        {
          "output_type": "stream",
          "name": "stdout",
          "text": []
        },
        {
          "output_type": "stream",
          "name": "stderr",
          "text": [
            "WARNING: [youtube] Skipping player responses from android clients (got player responses for video \"aQvGIIdgFDM\" instead of \"pRTU6IEepPM\")\n"
          ]
        },
        {
          "output_type": "stream",
          "name": "stdout",
          "text": []
        },
        {
          "output_type": "stream",
          "name": "stderr",
          "text": [
            "WARNING: [youtube] Skipping player responses from android clients (got player responses for video \"aQvGIIdgFDM\" instead of \"qONOe6bj4gs\")\n"
          ]
        },
        {
          "output_type": "stream",
          "name": "stdout",
          "text": []
        },
        {
          "output_type": "stream",
          "name": "stderr",
          "text": [
            "WARNING: [youtube] Skipping player responses from android clients (got player responses for video \"aQvGIIdgFDM\" instead of \"Ot4qdCs54ZE\")\n"
          ]
        },
        {
          "output_type": "stream",
          "name": "stdout",
          "text": []
        },
        {
          "output_type": "stream",
          "name": "stderr",
          "text": [
            "WARNING: [youtube] Skipping player responses from android clients (got player responses for video \"aQvGIIdgFDM\" instead of \"rkqrjhu6UKk\")\n"
          ]
        },
        {
          "output_type": "stream",
          "name": "stdout",
          "text": []
        },
        {
          "output_type": "stream",
          "name": "stderr",
          "text": [
            "WARNING: [youtube] Skipping player responses from android clients (got player responses for video \"aQvGIIdgFDM\" instead of \"SfzKfsqALaY\")\n"
          ]
        },
        {
          "output_type": "stream",
          "name": "stdout",
          "text": []
        },
        {
          "output_type": "stream",
          "name": "stderr",
          "text": [
            "WARNING: [youtube] Skipping player responses from android clients (got player responses for video \"aQvGIIdgFDM\" instead of \"NoTzjxUfh1Q\")\n"
          ]
        },
        {
          "output_type": "stream",
          "name": "stdout",
          "text": []
        },
        {
          "output_type": "stream",
          "name": "stderr",
          "text": [
            "WARNING: [youtube] Skipping player responses from android clients (got player responses for video \"aQvGIIdgFDM\" instead of \"a7V8a_XC1MI\")\n"
          ]
        },
        {
          "output_type": "stream",
          "name": "stdout",
          "text": []
        },
        {
          "output_type": "stream",
          "name": "stderr",
          "text": [
            "WARNING: [youtube] Skipping player responses from android clients (got player responses for video \"aQvGIIdgFDM\" instead of \"hNDgcjVGHIw\")\n"
          ]
        },
        {
          "output_type": "stream",
          "name": "stdout",
          "text": []
        },
        {
          "output_type": "stream",
          "name": "stderr",
          "text": [
            "WARNING: [youtube] Skipping player responses from android clients (got player responses for video \"aQvGIIdgFDM\" instead of \"-EVh1tZMIOA\")\n"
          ]
        },
        {
          "output_type": "stream",
          "name": "stdout",
          "text": []
        },
        {
          "output_type": "stream",
          "name": "stderr",
          "text": [
            "WARNING: [youtube] Skipping player responses from android clients (got player responses for video \"aQvGIIdgFDM\" instead of \"JKsHhXwqDqM\")\n"
          ]
        },
        {
          "output_type": "stream",
          "name": "stdout",
          "text": []
        },
        {
          "output_type": "stream",
          "name": "stderr",
          "text": [
            "WARNING: [youtube] Skipping player responses from android clients (got player responses for video \"aQvGIIdgFDM\" instead of \"12cy_q-pzrA\")\n"
          ]
        },
        {
          "output_type": "stream",
          "name": "stdout",
          "text": []
        },
        {
          "output_type": "stream",
          "name": "stderr",
          "text": [
            "WARNING: [youtube] Skipping player responses from android clients (got player responses for video \"aQvGIIdgFDM\" instead of \"_61OK651AsQ\")\n"
          ]
        },
        {
          "output_type": "stream",
          "name": "stdout",
          "text": []
        },
        {
          "output_type": "stream",
          "name": "stderr",
          "text": [
            "WARNING: [youtube] Skipping player responses from android clients (got player responses for video \"aQvGIIdgFDM\" instead of \"vS7-CTiSZHc\")\n"
          ]
        },
        {
          "output_type": "stream",
          "name": "stdout",
          "text": []
        },
        {
          "output_type": "stream",
          "name": "stderr",
          "text": [
            "WARNING: [youtube] Skipping player responses from android clients (got player responses for video \"aQvGIIdgFDM\" instead of \"-xOLaf4U8d8\")\n",
            "WARNING: [youtube] Incomplete data received in embedded initial data; re-fetching using API.\n"
          ]
        },
        {
          "output_type": "stream",
          "name": "stdout",
          "text": []
        },
        {
          "output_type": "stream",
          "name": "stderr",
          "text": [
            "WARNING: [youtube] Skipping player responses from android clients (got player responses for video \"aQvGIIdgFDM\" instead of \"PQJboCc-kLw\")\n"
          ]
        },
        {
          "output_type": "stream",
          "name": "stdout",
          "text": []
        },
        {
          "output_type": "stream",
          "name": "stderr",
          "text": [
            "WARNING: [youtube] Skipping player responses from android clients (got player responses for video \"aQvGIIdgFDM\" instead of \"7fgtE-AJs-A\")\n"
          ]
        },
        {
          "output_type": "stream",
          "name": "stdout",
          "text": []
        },
        {
          "output_type": "stream",
          "name": "stderr",
          "text": [
            "WARNING: [youtube] Skipping player responses from android clients (got player responses for video \"aQvGIIdgFDM\" instead of \"5CFKEnOh8R0\")\n"
          ]
        },
        {
          "output_type": "stream",
          "name": "stdout",
          "text": []
        },
        {
          "output_type": "stream",
          "name": "stderr",
          "text": [
            "WARNING: [youtube] Skipping player responses from android clients (got player responses for video \"aQvGIIdgFDM\" instead of \"1e35Vf-9n8E\")\n"
          ]
        },
        {
          "output_type": "stream",
          "name": "stdout",
          "text": []
        },
        {
          "output_type": "stream",
          "name": "stderr",
          "text": [
            "WARNING: [youtube] Skipping player responses from android clients (got player responses for video \"aQvGIIdgFDM\" instead of \"X6i8b0lkbZA\")\n"
          ]
        },
        {
          "output_type": "stream",
          "name": "stdout",
          "text": []
        },
        {
          "output_type": "stream",
          "name": "stderr",
          "text": [
            "WARNING: [youtube] Skipping player responses from android clients (got player responses for video \"aQvGIIdgFDM\" instead of \"uWSxzjyMNpU\")\n"
          ]
        },
        {
          "output_type": "stream",
          "name": "stdout",
          "text": []
        },
        {
          "output_type": "stream",
          "name": "stderr",
          "text": [
            "WARNING: [youtube] Skipping player responses from android clients (got player responses for video \"aQvGIIdgFDM\" instead of \"hGHN9u5d5vQ\")\n"
          ]
        },
        {
          "output_type": "stream",
          "name": "stdout",
          "text": []
        },
        {
          "output_type": "stream",
          "name": "stderr",
          "text": [
            "WARNING: [youtube] Skipping player responses from android clients (got player responses for video \"aQvGIIdgFDM\" instead of \"-eKb2BY2DFE\")\n"
          ]
        },
        {
          "output_type": "stream",
          "name": "stdout",
          "text": []
        },
        {
          "output_type": "stream",
          "name": "stderr",
          "text": [
            "WARNING: [youtube] Skipping player responses from android clients (got player responses for video \"aQvGIIdgFDM\" instead of \"m_O-MgbsLpI\")\n"
          ]
        },
        {
          "output_type": "stream",
          "name": "stdout",
          "text": []
        },
        {
          "output_type": "stream",
          "name": "stderr",
          "text": [
            "WARNING: [youtube] Skipping player responses from android clients (got player responses for video \"aQvGIIdgFDM\" instead of \"rmF7uJaf1ho\")\n"
          ]
        },
        {
          "output_type": "stream",
          "name": "stdout",
          "text": []
        },
        {
          "output_type": "stream",
          "name": "stderr",
          "text": [
            "WARNING: [youtube] Skipping player responses from android clients (got player responses for video \"aQvGIIdgFDM\" instead of \"6ZEtp-3JVlI\")\n"
          ]
        },
        {
          "output_type": "stream",
          "name": "stdout",
          "text": []
        },
        {
          "output_type": "stream",
          "name": "stderr",
          "text": [
            "WARNING: [youtube] Skipping player responses from android clients (got player responses for video \"aQvGIIdgFDM\" instead of \"VLDMPg5op28\")\n",
            "WARNING: [youtube] Skipping player responses from android clients (got player responses for video \"aQvGIIdgFDM\" instead of \"IG4t-VUTpdI\")\n"
          ]
        },
        {
          "output_type": "stream",
          "name": "stdout",
          "text": []
        },
        {
          "output_type": "stream",
          "name": "stderr",
          "text": [
            "WARNING: [youtube] Skipping player responses from android clients (got player responses for video \"aQvGIIdgFDM\" instead of \"Oj2LA8rEqQ4\")\n"
          ]
        },
        {
          "output_type": "stream",
          "name": "stdout",
          "text": []
        },
        {
          "output_type": "stream",
          "name": "stderr",
          "text": [
            "WARNING: [youtube] Skipping player responses from android clients (got player responses for video \"aQvGIIdgFDM\" instead of \"3eMj1kskVTY\")\n"
          ]
        },
        {
          "output_type": "stream",
          "name": "stdout",
          "text": []
        },
        {
          "output_type": "stream",
          "name": "stderr",
          "text": [
            "WARNING: [youtube] Skipping player responses from android clients (got player responses for video \"aQvGIIdgFDM\" instead of \"PFwIOJc2a3Y\")\n"
          ]
        },
        {
          "output_type": "stream",
          "name": "stdout",
          "text": []
        },
        {
          "output_type": "stream",
          "name": "stderr",
          "text": [
            "WARNING: [youtube] Skipping player responses from android clients (got player responses for video \"aQvGIIdgFDM\" instead of \"NB6DsPkIQW0\")\n"
          ]
        },
        {
          "output_type": "stream",
          "name": "stdout",
          "text": []
        },
        {
          "output_type": "stream",
          "name": "stderr",
          "text": [
            "WARNING: [youtube] Skipping player responses from android clients (got player responses for video \"aQvGIIdgFDM\" instead of \"vHDLlkJ2B8E\")\n"
          ]
        },
        {
          "output_type": "stream",
          "name": "stdout",
          "text": []
        },
        {
          "output_type": "stream",
          "name": "stderr",
          "text": [
            "WARNING: [youtube] Skipping player responses from android clients (got player responses for video \"aQvGIIdgFDM\" instead of \"-eDCDLdt30k\")\n"
          ]
        },
        {
          "output_type": "stream",
          "name": "stdout",
          "text": []
        },
        {
          "output_type": "stream",
          "name": "stderr",
          "text": [
            "WARNING: [youtube] Skipping player responses from android clients (got player responses for video \"aQvGIIdgFDM\" instead of \"DAchpfIkE_Q\")\n"
          ]
        },
        {
          "output_type": "stream",
          "name": "stdout",
          "text": []
        },
        {
          "output_type": "stream",
          "name": "stderr",
          "text": [
            "WARNING: [youtube] Skipping player responses from android clients (got player responses for video \"aQvGIIdgFDM\" instead of \"F_R0K9kOnDE\")\n"
          ]
        },
        {
          "output_type": "stream",
          "name": "stdout",
          "text": []
        },
        {
          "output_type": "stream",
          "name": "stderr",
          "text": [
            "WARNING: [youtube] Skipping player responses from android clients (got player responses for video \"aQvGIIdgFDM\" instead of \"_y7Xtwxd90I\")\n"
          ]
        },
        {
          "output_type": "stream",
          "name": "stdout",
          "text": []
        },
        {
          "output_type": "stream",
          "name": "stderr",
          "text": [
            "WARNING: [youtube] Skipping player responses from android clients (got player responses for video \"aQvGIIdgFDM\" instead of \"VKsIU4JVC0E\")\n"
          ]
        },
        {
          "output_type": "stream",
          "name": "stdout",
          "text": []
        },
        {
          "output_type": "stream",
          "name": "stderr",
          "text": [
            "WARNING: [youtube] Skipping player responses from android clients (got player responses for video \"aQvGIIdgFDM\" instead of \"t-Q-EZ42FCg\")\n",
            "WARNING: [youtube] Skipping player responses from android clients (got player responses for video \"aQvGIIdgFDM\" instead of \"aOJ93tAbPP0\")\n"
          ]
        },
        {
          "output_type": "stream",
          "name": "stdout",
          "text": []
        },
        {
          "output_type": "stream",
          "name": "stderr",
          "text": [
            "WARNING: [youtube] Skipping player responses from android clients (got player responses for video \"aQvGIIdgFDM\" instead of \"t6iVby0eOGI\")\n"
          ]
        },
        {
          "output_type": "stream",
          "name": "stdout",
          "text": []
        },
        {
          "output_type": "stream",
          "name": "stderr",
          "text": [
            "WARNING: [youtube] Skipping player responses from android clients (got player responses for video \"aQvGIIdgFDM\" instead of \"7WegzglZlwA\")\n"
          ]
        },
        {
          "output_type": "stream",
          "name": "stdout",
          "text": []
        },
        {
          "output_type": "stream",
          "name": "stderr",
          "text": [
            "WARNING: [youtube] Skipping player responses from android clients (got player responses for video \"aQvGIIdgFDM\" instead of \"xbJ0aAKd0fg\")\n"
          ]
        },
        {
          "output_type": "stream",
          "name": "stdout",
          "text": []
        },
        {
          "output_type": "stream",
          "name": "stderr",
          "text": [
            "WARNING: [youtube] Skipping player responses from android clients (got player responses for video \"aQvGIIdgFDM\" instead of \"5kwA-CwFK5A\")\n"
          ]
        },
        {
          "output_type": "stream",
          "name": "stdout",
          "text": []
        },
        {
          "output_type": "stream",
          "name": "stderr",
          "text": [
            "WARNING: [youtube] Skipping player responses from android clients (got player responses for video \"aQvGIIdgFDM\" instead of \"44LHBViTZI0\")\n"
          ]
        },
        {
          "output_type": "stream",
          "name": "stdout",
          "text": []
        },
        {
          "output_type": "stream",
          "name": "stderr",
          "text": [
            "WARNING: [youtube] Skipping player responses from android clients (got player responses for video \"aQvGIIdgFDM\" instead of \"aSpogyoh_3Q\")\n"
          ]
        },
        {
          "output_type": "stream",
          "name": "stdout",
          "text": []
        },
        {
          "output_type": "stream",
          "name": "stderr",
          "text": [
            "WARNING: [youtube] Skipping player responses from android clients (got player responses for video \"aQvGIIdgFDM\" instead of \"VnRCxCL0uK4\")\n"
          ]
        },
        {
          "output_type": "stream",
          "name": "stdout",
          "text": []
        },
        {
          "output_type": "stream",
          "name": "stderr",
          "text": [
            "WARNING: [youtube] Skipping player responses from android clients (got player responses for video \"aQvGIIdgFDM\" instead of \"dvgx5H5dWSw\")\n"
          ]
        },
        {
          "output_type": "stream",
          "name": "stdout",
          "text": []
        },
        {
          "output_type": "stream",
          "name": "stderr",
          "text": [
            "WARNING: [youtube] Skipping player responses from android clients (got player responses for video \"aQvGIIdgFDM\" instead of \"JTj9AcwkaKM\")\n"
          ]
        },
        {
          "output_type": "stream",
          "name": "stdout",
          "text": []
        },
        {
          "output_type": "stream",
          "name": "stderr",
          "text": [
            "WARNING: [youtube] Skipping player responses from android clients (got player responses for video \"aQvGIIdgFDM\" instead of \"pDHOXP84FfI\")\n"
          ]
        },
        {
          "output_type": "stream",
          "name": "stdout",
          "text": []
        },
        {
          "output_type": "stream",
          "name": "stderr",
          "text": [
            "WARNING: [youtube] Skipping player responses from android clients (got player responses for video \"aQvGIIdgFDM\" instead of \"w1eZd2hjxVs\")\n"
          ]
        },
        {
          "output_type": "stream",
          "name": "stdout",
          "text": []
        },
        {
          "output_type": "stream",
          "name": "stderr",
          "text": [
            "WARNING: [youtube] Skipping player responses from android clients (got player responses for video \"aQvGIIdgFDM\" instead of \"Xr45zZkwLfc\")\n"
          ]
        },
        {
          "output_type": "stream",
          "name": "stdout",
          "text": []
        },
        {
          "output_type": "stream",
          "name": "stderr",
          "text": [
            "WARNING: [youtube] Skipping player responses from android clients (got player responses for video \"aQvGIIdgFDM\" instead of \"oMr5JjEOzkY\")\n"
          ]
        },
        {
          "output_type": "stream",
          "name": "stdout",
          "text": []
        },
        {
          "output_type": "stream",
          "name": "stderr",
          "text": [
            "WARNING: [youtube] Skipping player responses from android clients (got player responses for video \"aQvGIIdgFDM\" instead of \"5rFV4V1QQ1U\")\n"
          ]
        },
        {
          "output_type": "stream",
          "name": "stdout",
          "text": []
        },
        {
          "output_type": "stream",
          "name": "stderr",
          "text": [
            "WARNING: [youtube] Skipping player responses from android clients (got player responses for video \"aQvGIIdgFDM\" instead of \"RdIMXvGw0TA\")\n",
            "WARNING: [youtube] Incomplete data received in embedded initial data; re-fetching using API.\n"
          ]
        },
        {
          "output_type": "stream",
          "name": "stdout",
          "text": []
        },
        {
          "output_type": "stream",
          "name": "stderr",
          "text": [
            "WARNING: [youtube] Skipping player responses from android clients (got player responses for video \"aQvGIIdgFDM\" instead of \"6kn2QHYdH0Q\")\n"
          ]
        },
        {
          "output_type": "stream",
          "name": "stdout",
          "text": []
        },
        {
          "output_type": "stream",
          "name": "stderr",
          "text": [
            "WARNING: [youtube] Skipping player responses from android clients (got player responses for video \"aQvGIIdgFDM\" instead of \"Xel4L2c1tbQ\")\n",
            "WARNING: [youtube] Skipping player responses from android clients (got player responses for video \"aQvGIIdgFDM\" instead of \"CNYOaXsjb6s\")\n"
          ]
        },
        {
          "output_type": "stream",
          "name": "stdout",
          "text": []
        },
        {
          "output_type": "stream",
          "name": "stderr",
          "text": [
            "WARNING: [youtube] Skipping player responses from android clients (got player responses for video \"aQvGIIdgFDM\" instead of \"hXIwv9mnRqM\")\n"
          ]
        },
        {
          "output_type": "stream",
          "name": "stdout",
          "text": []
        },
        {
          "output_type": "stream",
          "name": "stderr",
          "text": [
            "WARNING: [youtube] Skipping player responses from android clients (got player responses for video \"aQvGIIdgFDM\" instead of \"s3adl8FAYng\")\n"
          ]
        },
        {
          "output_type": "stream",
          "name": "stdout",
          "text": []
        },
        {
          "output_type": "stream",
          "name": "stderr",
          "text": [
            "WARNING: [youtube] Skipping player responses from android clients (got player responses for video \"aQvGIIdgFDM\" instead of \"GbNm7PnpoiI\")\n"
          ]
        },
        {
          "output_type": "stream",
          "name": "stdout",
          "text": []
        },
        {
          "output_type": "stream",
          "name": "stderr",
          "text": [
            "WARNING: [youtube] Skipping player responses from android clients (got player responses for video \"aQvGIIdgFDM\" instead of \"3GHKp6tPsEY\")\n"
          ]
        },
        {
          "output_type": "stream",
          "name": "stdout",
          "text": []
        },
        {
          "output_type": "stream",
          "name": "stderr",
          "text": [
            "WARNING: [youtube] Skipping player responses from android clients (got player responses for video \"aQvGIIdgFDM\" instead of \"0yucDs25VbM\")\n"
          ]
        },
        {
          "output_type": "stream",
          "name": "stdout",
          "text": []
        },
        {
          "output_type": "stream",
          "name": "stderr",
          "text": [
            "WARNING: [youtube] Skipping player responses from android clients (got player responses for video \"aQvGIIdgFDM\" instead of \"pKSpPURMUmc\")\n"
          ]
        },
        {
          "output_type": "stream",
          "name": "stdout",
          "text": []
        },
        {
          "output_type": "stream",
          "name": "stderr",
          "text": [
            "WARNING: [youtube] Skipping player responses from android clients (got player responses for video \"aQvGIIdgFDM\" instead of \"Z0AeudPTtsw\")\n"
          ]
        },
        {
          "output_type": "stream",
          "name": "stdout",
          "text": []
        },
        {
          "output_type": "stream",
          "name": "stderr",
          "text": [
            "WARNING: [youtube] Skipping player responses from android clients (got player responses for video \"aQvGIIdgFDM\" instead of \"PUoGIpc0z0c\")\n"
          ]
        },
        {
          "output_type": "stream",
          "name": "stdout",
          "text": []
        },
        {
          "output_type": "stream",
          "name": "stderr",
          "text": [
            "WARNING: [youtube] Skipping player responses from android clients (got player responses for video \"aQvGIIdgFDM\" instead of \"D_nVEH2woBQ\")\n"
          ]
        },
        {
          "output_type": "stream",
          "name": "stdout",
          "text": []
        },
        {
          "output_type": "stream",
          "name": "stderr",
          "text": [
            "WARNING: [youtube] Skipping player responses from android clients (got player responses for video \"aQvGIIdgFDM\" instead of \"Lc9Tz_6EVH4\")\n",
            "WARNING: [youtube] Skipping player responses from android clients (got player responses for video \"aQvGIIdgFDM\" instead of \"Fy--c88OEn8\")\n"
          ]
        },
        {
          "output_type": "stream",
          "name": "stdout",
          "text": []
        },
        {
          "output_type": "stream",
          "name": "stderr",
          "text": [
            "WARNING: [youtube] Skipping player responses from android clients (got player responses for video \"aQvGIIdgFDM\" instead of \"PbmmjRIUBE8\")\n"
          ]
        },
        {
          "output_type": "stream",
          "name": "stdout",
          "text": []
        },
        {
          "output_type": "stream",
          "name": "stderr",
          "text": [
            "WARNING: [youtube] Skipping player responses from android clients (got player responses for video \"aQvGIIdgFDM\" instead of \"pG9iJ2_fqzE\")\n"
          ]
        },
        {
          "output_type": "stream",
          "name": "stdout",
          "text": []
        },
        {
          "output_type": "stream",
          "name": "stderr",
          "text": [
            "WARNING: [youtube] Skipping player responses from android clients (got player responses for video \"aQvGIIdgFDM\" instead of \"TtwsPx7MST0\")\n",
            "WARNING: [youtube] Skipping player responses from android clients (got player responses for video \"aQvGIIdgFDM\" instead of \"iptLrk8Ikmg\")\n"
          ]
        },
        {
          "output_type": "stream",
          "name": "stdout",
          "text": []
        },
        {
          "output_type": "stream",
          "name": "stderr",
          "text": [
            "WARNING: [youtube] Skipping player responses from android clients (got player responses for video \"aQvGIIdgFDM\" instead of \"xlh_Ounqk-o\")\n"
          ]
        },
        {
          "output_type": "stream",
          "name": "stdout",
          "text": []
        },
        {
          "output_type": "stream",
          "name": "stderr",
          "text": [
            "WARNING: [youtube] Skipping player responses from android clients (got player responses for video \"aQvGIIdgFDM\" instead of \"PAHYCiiXQlQ\")\n"
          ]
        },
        {
          "output_type": "stream",
          "name": "stdout",
          "text": []
        },
        {
          "output_type": "stream",
          "name": "stderr",
          "text": [
            "WARNING: [youtube] Skipping player responses from android clients (got player responses for video \"aQvGIIdgFDM\" instead of \"eqOPsJ_w6rY\")\n"
          ]
        },
        {
          "output_type": "stream",
          "name": "stdout",
          "text": []
        },
        {
          "output_type": "stream",
          "name": "stderr",
          "text": [
            "WARNING: [youtube] Skipping player responses from android clients (got player responses for video \"aQvGIIdgFDM\" instead of \"B5zj-ODJT1I\")\n"
          ]
        },
        {
          "output_type": "stream",
          "name": "stdout",
          "text": []
        },
        {
          "output_type": "stream",
          "name": "stderr",
          "text": [
            "WARNING: [youtube] Skipping player responses from android clients (got player responses for video \"aQvGIIdgFDM\" instead of \"lUhcL61YC6g\")\n"
          ]
        },
        {
          "output_type": "stream",
          "name": "stdout",
          "text": []
        },
        {
          "output_type": "stream",
          "name": "stderr",
          "text": [
            "WARNING: [youtube] Skipping player responses from android clients (got player responses for video \"aQvGIIdgFDM\" instead of \"wVnr693Gbxk\")\n"
          ]
        },
        {
          "output_type": "stream",
          "name": "stdout",
          "text": []
        },
        {
          "output_type": "stream",
          "name": "stderr",
          "text": [
            "WARNING: [youtube] Skipping player responses from android clients (got player responses for video \"aQvGIIdgFDM\" instead of \"giHS0nHVJRQ\")\n"
          ]
        },
        {
          "output_type": "stream",
          "name": "stdout",
          "text": []
        },
        {
          "output_type": "stream",
          "name": "stderr",
          "text": [
            "WARNING: [youtube] Skipping player responses from android clients (got player responses for video \"aQvGIIdgFDM\" instead of \"ol6JJm0Db64\")\n"
          ]
        },
        {
          "output_type": "stream",
          "name": "stdout",
          "text": []
        },
        {
          "output_type": "stream",
          "name": "stderr",
          "text": [
            "WARNING: [youtube] Skipping player responses from android clients (got player responses for video \"aQvGIIdgFDM\" instead of \"xOmnHb_PHLY\")\n"
          ]
        },
        {
          "output_type": "stream",
          "name": "stdout",
          "text": []
        },
        {
          "output_type": "stream",
          "name": "stderr",
          "text": [
            "WARNING: [youtube] Skipping player responses from android clients (got player responses for video \"aQvGIIdgFDM\" instead of \"S9SfhXUHmVU\")\n"
          ]
        },
        {
          "output_type": "stream",
          "name": "stdout",
          "text": []
        },
        {
          "output_type": "stream",
          "name": "stderr",
          "text": [
            "WARNING: [youtube] Skipping player responses from android clients (got player responses for video \"aQvGIIdgFDM\" instead of \"kKKyDz4FPno\")\n"
          ]
        },
        {
          "output_type": "stream",
          "name": "stdout",
          "text": []
        },
        {
          "output_type": "stream",
          "name": "stderr",
          "text": [
            "WARNING: [youtube] Skipping player responses from android clients (got player responses for video \"aQvGIIdgFDM\" instead of \"nXEhb4aJXko\")\n"
          ]
        },
        {
          "output_type": "stream",
          "name": "stdout",
          "text": []
        },
        {
          "output_type": "stream",
          "name": "stderr",
          "text": [
            "WARNING: [youtube] Skipping player responses from android clients (got player responses for video \"aQvGIIdgFDM\" instead of \"lbI9yAvERbw\")\n"
          ]
        },
        {
          "output_type": "stream",
          "name": "stdout",
          "text": []
        },
        {
          "output_type": "stream",
          "name": "stderr",
          "text": [
            "WARNING: [youtube] Skipping player responses from android clients (got player responses for video \"aQvGIIdgFDM\" instead of \"xgYaBD_51Dc\")\n"
          ]
        },
        {
          "output_type": "stream",
          "name": "stdout",
          "text": []
        },
        {
          "output_type": "stream",
          "name": "stderr",
          "text": [
            "WARNING: [youtube] Skipping player responses from android clients (got player responses for video \"aQvGIIdgFDM\" instead of \"R207Juwnz_c\")\n"
          ]
        },
        {
          "output_type": "stream",
          "name": "stdout",
          "text": []
        },
        {
          "output_type": "stream",
          "name": "stderr",
          "text": [
            "WARNING: [youtube] Skipping player responses from android clients (got player responses for video \"aQvGIIdgFDM\" instead of \"tviGy8irNUM\")\n"
          ]
        },
        {
          "output_type": "stream",
          "name": "stdout",
          "text": []
        },
        {
          "output_type": "stream",
          "name": "stderr",
          "text": [
            "WARNING: [youtube] Skipping player responses from android clients (got player responses for video \"aQvGIIdgFDM\" instead of \"Y735mRqVpjc\")\n"
          ]
        },
        {
          "output_type": "stream",
          "name": "stdout",
          "text": []
        },
        {
          "output_type": "stream",
          "name": "stderr",
          "text": [
            "WARNING: [youtube] Skipping player responses from android clients (got player responses for video \"aQvGIIdgFDM\" instead of \"o8fWU_ir_dc\")\n"
          ]
        },
        {
          "output_type": "stream",
          "name": "stdout",
          "text": []
        },
        {
          "output_type": "stream",
          "name": "stderr",
          "text": [
            "WARNING: [youtube] Skipping player responses from android clients (got player responses for video \"aQvGIIdgFDM\" instead of \"8EK6Y1X_xa4\")\n"
          ]
        },
        {
          "output_type": "stream",
          "name": "stdout",
          "text": []
        },
        {
          "output_type": "stream",
          "name": "stderr",
          "text": [
            "WARNING: [youtube] Skipping player responses from android clients (got player responses for video \"aQvGIIdgFDM\" instead of \"HBIkj6UdlQg\")\n"
          ]
        },
        {
          "output_type": "stream",
          "name": "stdout",
          "text": []
        },
        {
          "output_type": "stream",
          "name": "stderr",
          "text": [
            "WARNING: [youtube] Skipping player responses from android clients (got player responses for video \"aQvGIIdgFDM\" instead of \"auWmnblfXPk\")\n"
          ]
        },
        {
          "output_type": "stream",
          "name": "stdout",
          "text": []
        },
        {
          "output_type": "stream",
          "name": "stderr",
          "text": [
            "WARNING: [youtube] Skipping player responses from android clients (got player responses for video \"aQvGIIdgFDM\" instead of \"MMkfLq8F4lA\")\n"
          ]
        },
        {
          "output_type": "stream",
          "name": "stdout",
          "text": []
        },
        {
          "output_type": "stream",
          "name": "stderr",
          "text": [
            "WARNING: [youtube] Skipping player responses from android clients (got player responses for video \"aQvGIIdgFDM\" instead of \"3GwhgLx-APc\")\n"
          ]
        },
        {
          "output_type": "stream",
          "name": "stdout",
          "text": []
        },
        {
          "output_type": "stream",
          "name": "stderr",
          "text": [
            "WARNING: [youtube] Skipping player responses from android clients (got player responses for video \"aQvGIIdgFDM\" instead of \"F3ziULH7ylU\")\n"
          ]
        },
        {
          "output_type": "stream",
          "name": "stdout",
          "text": []
        },
        {
          "output_type": "stream",
          "name": "stderr",
          "text": [
            "WARNING: [youtube] Skipping player responses from android clients (got player responses for video \"aQvGIIdgFDM\" instead of \"oD8KK-z29es\")\n"
          ]
        },
        {
          "output_type": "stream",
          "name": "stdout",
          "text": []
        },
        {
          "output_type": "stream",
          "name": "stderr",
          "text": [
            "WARNING: [youtube] Skipping player responses from android clients (got player responses for video \"aQvGIIdgFDM\" instead of \"VVRVHd_QqkQ\")\n"
          ]
        },
        {
          "output_type": "stream",
          "name": "stdout",
          "text": []
        },
        {
          "output_type": "stream",
          "name": "stderr",
          "text": [
            "WARNING: [youtube] Skipping player responses from android clients (got player responses for video \"aQvGIIdgFDM\" instead of \"VE7-yPb213o\")\n"
          ]
        },
        {
          "output_type": "stream",
          "name": "stdout",
          "text": []
        },
        {
          "output_type": "stream",
          "name": "stderr",
          "text": [
            "WARNING: [youtube] Skipping player responses from android clients (got player responses for video \"aQvGIIdgFDM\" instead of \"hGJfSq8zXD8\")\n"
          ]
        },
        {
          "output_type": "stream",
          "name": "stdout",
          "text": []
        },
        {
          "output_type": "stream",
          "name": "stderr",
          "text": [
            "WARNING: [youtube] Skipping player responses from android clients (got player responses for video \"aQvGIIdgFDM\" instead of \"io-aSa7OLz0\")\n"
          ]
        },
        {
          "output_type": "stream",
          "name": "stdout",
          "text": []
        },
        {
          "output_type": "stream",
          "name": "stderr",
          "text": [
            "WARNING: [youtube] Skipping player responses from android clients (got player responses for video \"aQvGIIdgFDM\" instead of \"5707RIqq7H4\")\n"
          ]
        },
        {
          "output_type": "stream",
          "name": "stdout",
          "text": []
        },
        {
          "output_type": "stream",
          "name": "stderr",
          "text": [
            "WARNING: [youtube] Skipping player responses from android clients (got player responses for video \"aQvGIIdgFDM\" instead of \"oP0-ft8s2mc\")\n"
          ]
        },
        {
          "output_type": "stream",
          "name": "stdout",
          "text": []
        },
        {
          "output_type": "stream",
          "name": "stderr",
          "text": [
            "WARNING: [youtube] Skipping player responses from android clients (got player responses for video \"aQvGIIdgFDM\" instead of \"RqlxrQ2iE8s\")\n"
          ]
        },
        {
          "output_type": "stream",
          "name": "stdout",
          "text": []
        },
        {
          "output_type": "stream",
          "name": "stderr",
          "text": [
            "WARNING: [youtube] Skipping player responses from android clients (got player responses for video \"aQvGIIdgFDM\" instead of \"ArDSFKluReY\")\n"
          ]
        },
        {
          "output_type": "stream",
          "name": "stdout",
          "text": []
        },
        {
          "output_type": "stream",
          "name": "stderr",
          "text": [
            "WARNING: [youtube] Skipping player responses from android clients (got player responses for video \"aQvGIIdgFDM\" instead of \"hhYTUMzbbxQ\")\n"
          ]
        },
        {
          "output_type": "stream",
          "name": "stdout",
          "text": []
        },
        {
          "output_type": "stream",
          "name": "stderr",
          "text": [
            "WARNING: [youtube] Skipping player responses from android clients (got player responses for video \"aQvGIIdgFDM\" instead of \"qp3AaI5bWPQ\")\n"
          ]
        },
        {
          "output_type": "stream",
          "name": "stdout",
          "text": []
        },
        {
          "output_type": "stream",
          "name": "stderr",
          "text": [
            "WARNING: [youtube] Skipping player responses from android clients (got player responses for video \"aQvGIIdgFDM\" instead of \"B4R2vQVwQMw\")\n"
          ]
        },
        {
          "output_type": "stream",
          "name": "stdout",
          "text": []
        },
        {
          "output_type": "stream",
          "name": "stderr",
          "text": [
            "WARNING: [youtube] Skipping player responses from android clients (got player responses for video \"aQvGIIdgFDM\" instead of \"kiYG7GtLFR4\")\n"
          ]
        },
        {
          "output_type": "stream",
          "name": "stdout",
          "text": []
        },
        {
          "output_type": "stream",
          "name": "stderr",
          "text": [
            "WARNING: [youtube] Skipping player responses from android clients (got player responses for video \"aQvGIIdgFDM\" instead of \"PviLALVHGBw\")\n"
          ]
        },
        {
          "output_type": "stream",
          "name": "stdout",
          "text": []
        },
        {
          "output_type": "stream",
          "name": "stderr",
          "text": [
            "WARNING: [youtube] Skipping player responses from android clients (got player responses for video \"aQvGIIdgFDM\" instead of \"Ai-MEu358vE\")\n"
          ]
        },
        {
          "output_type": "stream",
          "name": "stdout",
          "text": []
        },
        {
          "output_type": "stream",
          "name": "stderr",
          "text": [
            "WARNING: [youtube] Skipping player responses from android clients (got player responses for video \"aQvGIIdgFDM\" instead of \"rV8diRk_A2A\")\n"
          ]
        },
        {
          "output_type": "stream",
          "name": "stdout",
          "text": []
        },
        {
          "output_type": "stream",
          "name": "stderr",
          "text": [
            "WARNING: [youtube] Skipping player responses from android clients (got player responses for video \"aQvGIIdgFDM\" instead of \"92s1zfdlwIc\")\n"
          ]
        },
        {
          "output_type": "stream",
          "name": "stdout",
          "text": []
        },
        {
          "output_type": "stream",
          "name": "stderr",
          "text": [
            "WARNING: [youtube] Skipping player responses from android clients (got player responses for video \"aQvGIIdgFDM\" instead of \"_mPr6MUZxhw\")\n"
          ]
        },
        {
          "output_type": "stream",
          "name": "stdout",
          "text": []
        },
        {
          "output_type": "stream",
          "name": "stderr",
          "text": [
            "WARNING: [youtube] Skipping player responses from android clients (got player responses for video \"aQvGIIdgFDM\" instead of \"ruNmRqgp_nM\")\n"
          ]
        },
        {
          "output_type": "stream",
          "name": "stdout",
          "text": []
        },
        {
          "output_type": "stream",
          "name": "stderr",
          "text": [
            "WARNING: [youtube] Skipping player responses from android clients (got player responses for video \"aQvGIIdgFDM\" instead of \"aNBNAecilB0\")\n"
          ]
        },
        {
          "output_type": "stream",
          "name": "stdout",
          "text": []
        },
        {
          "output_type": "stream",
          "name": "stderr",
          "text": [
            "WARNING: [youtube] Skipping player responses from android clients (got player responses for video \"aQvGIIdgFDM\" instead of \"TYvyahAt3qE\")\n"
          ]
        },
        {
          "output_type": "stream",
          "name": "stdout",
          "text": []
        },
        {
          "output_type": "stream",
          "name": "stderr",
          "text": [
            "WARNING: [youtube] Skipping player responses from android clients (got player responses for video \"aQvGIIdgFDM\" instead of \"3XPrQc2pyQQ\")\n"
          ]
        },
        {
          "output_type": "stream",
          "name": "stdout",
          "text": []
        },
        {
          "output_type": "stream",
          "name": "stderr",
          "text": [
            "WARNING: [youtube] Skipping player responses from android clients (got player responses for video \"aQvGIIdgFDM\" instead of \"vDvqK5X6LFg\")\n",
            "WARNING: [youtube] Skipping player responses from android clients (got player responses for video \"aQvGIIdgFDM\" instead of \"YCtDNYwC_r4\")\n"
          ]
        },
        {
          "output_type": "stream",
          "name": "stdout",
          "text": []
        },
        {
          "output_type": "stream",
          "name": "stderr",
          "text": [
            "WARNING: [youtube] Skipping player responses from android clients (got player responses for video \"aQvGIIdgFDM\" instead of \"LVhTjL7Sor4\")\n"
          ]
        },
        {
          "output_type": "stream",
          "name": "stdout",
          "text": []
        },
        {
          "output_type": "stream",
          "name": "stderr",
          "text": [
            "WARNING: [youtube] Skipping player responses from android clients (got player responses for video \"aQvGIIdgFDM\" instead of \"Tl5Z4JG2PmU\")\n",
            "WARNING: [youtube] Incomplete data received in embedded initial data; re-fetching using API.\n"
          ]
        },
        {
          "output_type": "stream",
          "name": "stdout",
          "text": []
        },
        {
          "output_type": "stream",
          "name": "stderr",
          "text": [
            "WARNING: [youtube] Skipping player responses from android clients (got player responses for video \"aQvGIIdgFDM\" instead of \"VmOS4MnloUE\")\n",
            "WARNING: [youtube] Skipping player responses from android clients (got player responses for video \"aQvGIIdgFDM\" instead of \"htgkVxJ-rOs\")\n"
          ]
        },
        {
          "output_type": "stream",
          "name": "stdout",
          "text": []
        },
        {
          "output_type": "stream",
          "name": "stderr",
          "text": [
            "WARNING: [youtube] Skipping player responses from android clients (got player responses for video \"aQvGIIdgFDM\" instead of \"CltkoRJ91Sg\")\n",
            "WARNING: [youtube] Skipping player responses from android clients (got player responses for video \"aQvGIIdgFDM\" instead of \"U4GMUamUjT8\")\n"
          ]
        },
        {
          "output_type": "stream",
          "name": "stdout",
          "text": []
        },
        {
          "output_type": "stream",
          "name": "stderr",
          "text": [
            "WARNING: [youtube] Skipping player responses from android clients (got player responses for video \"aQvGIIdgFDM\" instead of \"fPQNwM7n-l0\")\n"
          ]
        },
        {
          "output_type": "stream",
          "name": "stdout",
          "text": []
        },
        {
          "output_type": "stream",
          "name": "stderr",
          "text": [
            "WARNING: [youtube] Skipping player responses from android clients (got player responses for video \"aQvGIIdgFDM\" instead of \"ikK1Cv68d64\")\n"
          ]
        },
        {
          "output_type": "stream",
          "name": "stdout",
          "text": []
        },
        {
          "output_type": "stream",
          "name": "stderr",
          "text": [
            "WARNING: [youtube] Skipping player responses from android clients (got player responses for video \"aQvGIIdgFDM\" instead of \"c_JeQCFUIr0\")\n"
          ]
        },
        {
          "output_type": "stream",
          "name": "stdout",
          "text": []
        },
        {
          "output_type": "stream",
          "name": "stderr",
          "text": [
            "WARNING: [youtube] Skipping player responses from android clients (got player responses for video \"aQvGIIdgFDM\" instead of \"hrLsS7e1aLY\")\n"
          ]
        },
        {
          "output_type": "stream",
          "name": "stdout",
          "text": []
        },
        {
          "output_type": "stream",
          "name": "stderr",
          "text": [
            "WARNING: [youtube] Skipping player responses from android clients (got player responses for video \"aQvGIIdgFDM\" instead of \"AYjhtO8ccmU\")\n",
            "WARNING: [youtube] Skipping player responses from android clients (got player responses for video \"aQvGIIdgFDM\" instead of \"qFly_WLpi_I\")\n",
            "WARNING: [youtube] Skipping player responses from android clients (got player responses for video \"aQvGIIdgFDM\" instead of \"oI267STLLQY\")\n"
          ]
        },
        {
          "output_type": "stream",
          "name": "stdout",
          "text": []
        },
        {
          "output_type": "stream",
          "name": "stderr",
          "text": [
            "WARNING: [youtube] Skipping player responses from android clients (got player responses for video \"aQvGIIdgFDM\" instead of \"wH7f7xv3xYA\")\n"
          ]
        },
        {
          "output_type": "stream",
          "name": "stdout",
          "text": []
        },
        {
          "output_type": "stream",
          "name": "stderr",
          "text": [
            "WARNING: [youtube] Skipping player responses from android clients (got player responses for video \"aQvGIIdgFDM\" instead of \"Iwv9oEJ-jYA\")\n"
          ]
        },
        {
          "output_type": "stream",
          "name": "stdout",
          "text": []
        },
        {
          "output_type": "stream",
          "name": "stderr",
          "text": [
            "WARNING: [youtube] Skipping player responses from android clients (got player responses for video \"aQvGIIdgFDM\" instead of \"0YHsuBrkJo8\")\n",
            "WARNING: [youtube] Skipping player responses from android clients (got player responses for video \"aQvGIIdgFDM\" instead of \"GmPZCgT-Zp4\")\n"
          ]
        },
        {
          "output_type": "stream",
          "name": "stdout",
          "text": []
        },
        {
          "output_type": "stream",
          "name": "stderr",
          "text": [
            "WARNING: [youtube] Skipping player responses from android clients (got player responses for video \"aQvGIIdgFDM\" instead of \"b-2QoKwR9Ws\")\n"
          ]
        },
        {
          "output_type": "stream",
          "name": "stdout",
          "text": []
        },
        {
          "output_type": "stream",
          "name": "stderr",
          "text": [
            "WARNING: [youtube] Skipping player responses from android clients (got player responses for video \"aQvGIIdgFDM\" instead of \"DN77ALgpJEY\")\n"
          ]
        },
        {
          "output_type": "stream",
          "name": "stdout",
          "text": []
        },
        {
          "output_type": "stream",
          "name": "stderr",
          "text": [
            "WARNING: [youtube] Skipping player responses from android clients (got player responses for video \"aQvGIIdgFDM\" instead of \"Ui62CfftIXQ\")\n"
          ]
        },
        {
          "output_type": "stream",
          "name": "stdout",
          "text": []
        },
        {
          "output_type": "stream",
          "name": "stderr",
          "text": [
            "WARNING: [youtube] Skipping player responses from android clients (got player responses for video \"aQvGIIdgFDM\" instead of \"lVfsy1tM0vo\")\n"
          ]
        },
        {
          "output_type": "stream",
          "name": "stdout",
          "text": []
        },
        {
          "output_type": "stream",
          "name": "stderr",
          "text": [
            "WARNING: [youtube] Skipping player responses from android clients (got player responses for video \"aQvGIIdgFDM\" instead of \"H26q2HiRKaM\")\n"
          ]
        },
        {
          "output_type": "stream",
          "name": "stdout",
          "text": []
        },
        {
          "output_type": "stream",
          "name": "stderr",
          "text": [
            "WARNING: [youtube] Skipping player responses from android clients (got player responses for video \"aQvGIIdgFDM\" instead of \"vLsz-IDzxDY\")\n"
          ]
        },
        {
          "output_type": "stream",
          "name": "stdout",
          "text": []
        },
        {
          "output_type": "stream",
          "name": "stderr",
          "text": [
            "WARNING: [youtube] Skipping player responses from android clients (got player responses for video \"aQvGIIdgFDM\" instead of \"p7UNJryA8os\")\n"
          ]
        },
        {
          "output_type": "stream",
          "name": "stdout",
          "text": []
        },
        {
          "output_type": "stream",
          "name": "stderr",
          "text": [
            "WARNING: [youtube] Skipping player responses from android clients (got player responses for video \"aQvGIIdgFDM\" instead of \"eAivky9toNo\")\n"
          ]
        },
        {
          "output_type": "stream",
          "name": "stdout",
          "text": []
        },
        {
          "output_type": "stream",
          "name": "stderr",
          "text": [
            "WARNING: [youtube] Skipping player responses from android clients (got player responses for video \"aQvGIIdgFDM\" instead of \"hLXtX2ofun4\")\n"
          ]
        },
        {
          "output_type": "stream",
          "name": "stdout",
          "text": []
        },
        {
          "output_type": "stream",
          "name": "stderr",
          "text": [
            "WARNING: [youtube] Skipping player responses from android clients (got player responses for video \"aQvGIIdgFDM\" instead of \"8yV_ZSmWanI\")\n"
          ]
        },
        {
          "output_type": "stream",
          "name": "stdout",
          "text": []
        },
        {
          "output_type": "stream",
          "name": "stderr",
          "text": [
            "WARNING: [youtube] Skipping player responses from android clients (got player responses for video \"aQvGIIdgFDM\" instead of \"5gyaZokuueY\")\n"
          ]
        },
        {
          "output_type": "stream",
          "name": "stdout",
          "text": []
        },
        {
          "output_type": "stream",
          "name": "stderr",
          "text": [
            "WARNING: [youtube] Skipping player responses from android clients (got player responses for video \"aQvGIIdgFDM\" instead of \"xzTt9BZ5aIw\")\n"
          ]
        },
        {
          "output_type": "stream",
          "name": "stdout",
          "text": []
        },
        {
          "output_type": "stream",
          "name": "stderr",
          "text": [
            "WARNING: [youtube] Skipping player responses from android clients (got player responses for video \"aQvGIIdgFDM\" instead of \"sH7wqxjUi8Y\")\n"
          ]
        },
        {
          "output_type": "stream",
          "name": "stdout",
          "text": []
        },
        {
          "output_type": "stream",
          "name": "stderr",
          "text": [
            "WARNING: [youtube] Skipping player responses from android clients (got player responses for video \"aQvGIIdgFDM\" instead of \"z9nyKC3ElGc\")\n"
          ]
        },
        {
          "output_type": "stream",
          "name": "stdout",
          "text": []
        },
        {
          "output_type": "stream",
          "name": "stderr",
          "text": [
            "WARNING: [youtube] Skipping player responses from android clients (got player responses for video \"aQvGIIdgFDM\" instead of \"Y6CnWp8DDZ8\")\n"
          ]
        },
        {
          "output_type": "stream",
          "name": "stdout",
          "text": []
        },
        {
          "output_type": "stream",
          "name": "stderr",
          "text": [
            "WARNING: [youtube] Skipping player responses from android clients (got player responses for video \"aQvGIIdgFDM\" instead of \"1dY3GNt7sG8\")\n"
          ]
        },
        {
          "output_type": "stream",
          "name": "stdout",
          "text": []
        },
        {
          "output_type": "stream",
          "name": "stderr",
          "text": [
            "WARNING: [youtube] Skipping player responses from android clients (got player responses for video \"aQvGIIdgFDM\" instead of \"GLmIXdzw18c\")\n",
            "WARNING: [youtube] Skipping player responses from android clients (got player responses for video \"aQvGIIdgFDM\" instead of \"U87dbQ4R1Mk\")\n"
          ]
        },
        {
          "output_type": "stream",
          "name": "stdout",
          "text": []
        },
        {
          "output_type": "stream",
          "name": "stderr",
          "text": [
            "WARNING: [youtube] Skipping player responses from android clients (got player responses for video \"aQvGIIdgFDM\" instead of \"wdSbTPofmBg\")\n"
          ]
        },
        {
          "output_type": "stream",
          "name": "stdout",
          "text": []
        },
        {
          "output_type": "stream",
          "name": "stderr",
          "text": [
            "WARNING: [youtube] Skipping player responses from android clients (got player responses for video \"aQvGIIdgFDM\" instead of \"TBxvGeYXpPw\")\n"
          ]
        },
        {
          "output_type": "stream",
          "name": "stdout",
          "text": []
        },
        {
          "output_type": "stream",
          "name": "stderr",
          "text": [
            "WARNING: [youtube] Skipping player responses from android clients (got player responses for video \"aQvGIIdgFDM\" instead of \"ipLsz8WZwtw\")\n"
          ]
        },
        {
          "output_type": "stream",
          "name": "stdout",
          "text": []
        },
        {
          "output_type": "stream",
          "name": "stderr",
          "text": [
            "WARNING: [youtube] Skipping player responses from android clients (got player responses for video \"aQvGIIdgFDM\" instead of \"GIWroI1wymg\")\n"
          ]
        },
        {
          "output_type": "stream",
          "name": "stdout",
          "text": []
        },
        {
          "output_type": "stream",
          "name": "stderr",
          "text": [
            "WARNING: [youtube] Skipping player responses from android clients (got player responses for video \"aQvGIIdgFDM\" instead of \"ZHBVFgGNXu4\")\n",
            "WARNING: [youtube] Skipping player responses from android clients (got player responses for video \"aQvGIIdgFDM\" instead of \"jAOSV0JGLaw\")\n"
          ]
        },
        {
          "output_type": "stream",
          "name": "stdout",
          "text": []
        },
        {
          "output_type": "stream",
          "name": "stderr",
          "text": [
            "WARNING: [youtube] Skipping player responses from android clients (got player responses for video \"aQvGIIdgFDM\" instead of \"ZV148rR35dQ\")\n"
          ]
        },
        {
          "output_type": "stream",
          "name": "stdout",
          "text": []
        },
        {
          "output_type": "stream",
          "name": "stderr",
          "text": [
            "WARNING: [youtube] Skipping player responses from android clients (got player responses for video \"aQvGIIdgFDM\" instead of \"23fPvK2Xmdc\")\n"
          ]
        },
        {
          "output_type": "stream",
          "name": "stdout",
          "text": []
        },
        {
          "output_type": "stream",
          "name": "stderr",
          "text": [
            "WARNING: [youtube] Skipping player responses from android clients (got player responses for video \"aQvGIIdgFDM\" instead of \"DorB9H1mC2M\")\n"
          ]
        },
        {
          "output_type": "stream",
          "name": "stdout",
          "text": []
        },
        {
          "output_type": "stream",
          "name": "stderr",
          "text": [
            "WARNING: [youtube] Skipping player responses from android clients (got player responses for video \"aQvGIIdgFDM\" instead of \"5ZJAuH4h7o4\")\n"
          ]
        },
        {
          "output_type": "stream",
          "name": "stdout",
          "text": []
        },
        {
          "output_type": "stream",
          "name": "stderr",
          "text": [
            "WARNING: [youtube] Skipping player responses from android clients (got player responses for video \"aQvGIIdgFDM\" instead of \"Vl2Pw-2SxjI\")\n"
          ]
        },
        {
          "output_type": "stream",
          "name": "stdout",
          "text": []
        },
        {
          "output_type": "stream",
          "name": "stderr",
          "text": [
            "WARNING: [youtube] Skipping player responses from android clients (got player responses for video \"aQvGIIdgFDM\" instead of \"E7Td8ZJpjf4\")\n",
            "WARNING: [youtube] Skipping player responses from android clients (got player responses for video \"aQvGIIdgFDM\" instead of \"T43kUOIM5M0\")\n"
          ]
        },
        {
          "output_type": "stream",
          "name": "stdout",
          "text": []
        },
        {
          "output_type": "stream",
          "name": "stderr",
          "text": [
            "WARNING: [youtube] Skipping player responses from android clients (got player responses for video \"aQvGIIdgFDM\" instead of \"k8m4gweHd5U\")\n"
          ]
        },
        {
          "output_type": "stream",
          "name": "stdout",
          "text": []
        },
        {
          "output_type": "stream",
          "name": "stderr",
          "text": [
            "WARNING: [youtube] Skipping player responses from android clients (got player responses for video \"aQvGIIdgFDM\" instead of \"H0NZig9DbMs\")\n"
          ]
        },
        {
          "output_type": "stream",
          "name": "stdout",
          "text": []
        },
        {
          "output_type": "stream",
          "name": "stderr",
          "text": [
            "WARNING: [youtube] Skipping player responses from android clients (got player responses for video \"aQvGIIdgFDM\" instead of \"zvAFPHLFMa0\")\n",
            "WARNING: This video is drm protected and only images are available for download. use --list-formats to see them\n",
            "ERROR: [youtube] zvAFPHLFMa0: Requested format is not available. Use --list-formats for a list of available formats\n"
          ]
        },
        {
          "output_type": "stream",
          "name": "stdout",
          "text": [
            "Error downloading subtitles for video zvAFPHLFMa0: ERROR: [youtube] zvAFPHLFMa0: Requested format is not available. Use --list-formats for a list of available formats\n"
          ]
        },
        {
          "output_type": "stream",
          "name": "stderr",
          "text": [
            "WARNING: [youtube] Skipping player responses from android clients (got player responses for video \"aQvGIIdgFDM\" instead of \"NPFnA1qjvgE\")\n"
          ]
        },
        {
          "output_type": "stream",
          "name": "stdout",
          "text": []
        },
        {
          "output_type": "stream",
          "name": "stderr",
          "text": [
            "WARNING: [youtube] Skipping player responses from android clients (got player responses for video \"aQvGIIdgFDM\" instead of \"DxYqtgK-9ps\")\n"
          ]
        },
        {
          "output_type": "stream",
          "name": "stdout",
          "text": []
        },
        {
          "output_type": "stream",
          "name": "stderr",
          "text": [
            "WARNING: [youtube] Skipping player responses from android clients (got player responses for video \"aQvGIIdgFDM\" instead of \"70w1XFEIFnI\")\n"
          ]
        },
        {
          "output_type": "stream",
          "name": "stdout",
          "text": []
        },
        {
          "output_type": "stream",
          "name": "stderr",
          "text": [
            "WARNING: [youtube] Skipping player responses from android clients (got player responses for video \"aQvGIIdgFDM\" instead of \"PFSGxWHS830\")\n"
          ]
        },
        {
          "output_type": "stream",
          "name": "stdout",
          "text": []
        },
        {
          "output_type": "stream",
          "name": "stderr",
          "text": [
            "WARNING: [youtube] Skipping player responses from android clients (got player responses for video \"aQvGIIdgFDM\" instead of \"buhdu-T1yFk\")\n"
          ]
        },
        {
          "output_type": "stream",
          "name": "stdout",
          "text": []
        },
        {
          "output_type": "stream",
          "name": "stderr",
          "text": [
            "WARNING: [youtube] Skipping player responses from android clients (got player responses for video \"aQvGIIdgFDM\" instead of \"wmUernr96FM\")\n",
            "WARNING: [youtube] Skipping player responses from android clients (got player responses for video \"aQvGIIdgFDM\" instead of \"9XxPZmdHo2c\")\n"
          ]
        },
        {
          "output_type": "stream",
          "name": "stdout",
          "text": []
        },
        {
          "output_type": "stream",
          "name": "stderr",
          "text": [
            "WARNING: [youtube] Skipping player responses from android clients (got player responses for video \"aQvGIIdgFDM\" instead of \"CWGUfaFp7eo\")\n"
          ]
        },
        {
          "output_type": "stream",
          "name": "stdout",
          "text": []
        },
        {
          "output_type": "stream",
          "name": "stderr",
          "text": [
            "WARNING: [youtube] Skipping player responses from android clients (got player responses for video \"aQvGIIdgFDM\" instead of \"cvIz3-WL9KY\")\n"
          ]
        },
        {
          "output_type": "stream",
          "name": "stdout",
          "text": []
        },
        {
          "output_type": "stream",
          "name": "stderr",
          "text": [
            "WARNING: [youtube] Skipping player responses from android clients (got player responses for video \"aQvGIIdgFDM\" instead of \"PzbH2YE4a24\")\n"
          ]
        },
        {
          "output_type": "stream",
          "name": "stdout",
          "text": []
        },
        {
          "output_type": "stream",
          "name": "stderr",
          "text": [
            "WARNING: [youtube] Skipping player responses from android clients (got player responses for video \"aQvGIIdgFDM\" instead of \"u_I84IhUhH0\")\n"
          ]
        },
        {
          "output_type": "stream",
          "name": "stdout",
          "text": []
        },
        {
          "output_type": "stream",
          "name": "stderr",
          "text": [
            "WARNING: [youtube] Skipping player responses from android clients (got player responses for video \"aQvGIIdgFDM\" instead of \"pCM38t3HcVY\")\n"
          ]
        },
        {
          "output_type": "stream",
          "name": "stdout",
          "text": []
        },
        {
          "output_type": "stream",
          "name": "stderr",
          "text": [
            "WARNING: [youtube] Skipping player responses from android clients (got player responses for video \"aQvGIIdgFDM\" instead of \"TfFNYHf6g74\")\n"
          ]
        },
        {
          "output_type": "stream",
          "name": "stdout",
          "text": []
        },
        {
          "output_type": "stream",
          "name": "stderr",
          "text": [
            "WARNING: [youtube] Skipping player responses from android clients (got player responses for video \"aQvGIIdgFDM\" instead of \"N6gfCkAqna0\")\n"
          ]
        },
        {
          "output_type": "stream",
          "name": "stdout",
          "text": []
        },
        {
          "output_type": "stream",
          "name": "stderr",
          "text": [
            "WARNING: [youtube] Skipping player responses from android clients (got player responses for video \"aQvGIIdgFDM\" instead of \"9Xp0vlydCJk\")\n"
          ]
        },
        {
          "output_type": "stream",
          "name": "stdout",
          "text": []
        },
        {
          "output_type": "stream",
          "name": "stderr",
          "text": [
            "WARNING: [youtube] Skipping player responses from android clients (got player responses for video \"aQvGIIdgFDM\" instead of \"Hgwtd4X_qFM\")\n"
          ]
        },
        {
          "output_type": "stream",
          "name": "stdout",
          "text": []
        },
        {
          "output_type": "stream",
          "name": "stderr",
          "text": [
            "WARNING: [youtube] Skipping player responses from android clients (got player responses for video \"aQvGIIdgFDM\" instead of \"1utKe5MU8VI\")\n"
          ]
        },
        {
          "output_type": "stream",
          "name": "stdout",
          "text": []
        },
        {
          "output_type": "stream",
          "name": "stderr",
          "text": [
            "WARNING: [youtube] Skipping player responses from android clients (got player responses for video \"aQvGIIdgFDM\" instead of \"6iO8acK2JJw\")\n"
          ]
        },
        {
          "output_type": "stream",
          "name": "stdout",
          "text": []
        },
        {
          "output_type": "stream",
          "name": "stderr",
          "text": [
            "WARNING: [youtube] Skipping player responses from android clients (got player responses for video \"aQvGIIdgFDM\" instead of \"TOxuip4f7TQ\")\n"
          ]
        },
        {
          "output_type": "stream",
          "name": "stdout",
          "text": []
        },
        {
          "output_type": "stream",
          "name": "stderr",
          "text": [
            "WARNING: [youtube] Skipping player responses from android clients (got player responses for video \"aQvGIIdgFDM\" instead of \"DPaNubPzSGo\")\n"
          ]
        },
        {
          "output_type": "stream",
          "name": "stdout",
          "text": []
        },
        {
          "output_type": "stream",
          "name": "stderr",
          "text": [
            "WARNING: [youtube] Skipping player responses from android clients (got player responses for video \"aQvGIIdgFDM\" instead of \"c9LBTRM4ZY4\")\n"
          ]
        },
        {
          "output_type": "stream",
          "name": "stdout",
          "text": []
        },
        {
          "output_type": "stream",
          "name": "stderr",
          "text": [
            "WARNING: [youtube] Skipping player responses from android clients (got player responses for video \"aQvGIIdgFDM\" instead of \"0aEhoGkEiQM\")\n"
          ]
        },
        {
          "output_type": "stream",
          "name": "stdout",
          "text": []
        },
        {
          "output_type": "stream",
          "name": "stderr",
          "text": [
            "WARNING: [youtube] Skipping player responses from android clients (got player responses for video \"aQvGIIdgFDM\" instead of \"c0zQE2CqBPQ\")\n"
          ]
        },
        {
          "output_type": "stream",
          "name": "stdout",
          "text": []
        },
        {
          "output_type": "stream",
          "name": "stderr",
          "text": [
            "WARNING: [youtube] Skipping player responses from android clients (got player responses for video \"aQvGIIdgFDM\" instead of \"O8MklgkxyRk\")\n"
          ]
        },
        {
          "output_type": "stream",
          "name": "stdout",
          "text": []
        },
        {
          "output_type": "stream",
          "name": "stderr",
          "text": [
            "WARNING: [youtube] Skipping player responses from android clients (got player responses for video \"aQvGIIdgFDM\" instead of \"N304HsyEzsk\")\n"
          ]
        },
        {
          "output_type": "stream",
          "name": "stdout",
          "text": []
        },
        {
          "output_type": "stream",
          "name": "stderr",
          "text": [
            "WARNING: [youtube] Skipping player responses from android clients (got player responses for video \"aQvGIIdgFDM\" instead of \"Ea-yZ9KYjoo\")\n"
          ]
        },
        {
          "output_type": "stream",
          "name": "stdout",
          "text": []
        },
        {
          "output_type": "stream",
          "name": "stderr",
          "text": [
            "WARNING: [youtube] Skipping player responses from android clients (got player responses for video \"aQvGIIdgFDM\" instead of \"ATiX0WuCELw\")\n"
          ]
        },
        {
          "output_type": "stream",
          "name": "stdout",
          "text": []
        },
        {
          "output_type": "stream",
          "name": "stderr",
          "text": [
            "WARNING: [youtube] Skipping player responses from android clients (got player responses for video \"aQvGIIdgFDM\" instead of \"MprYELyiabI\")\n"
          ]
        },
        {
          "output_type": "stream",
          "name": "stdout",
          "text": []
        },
        {
          "output_type": "stream",
          "name": "stderr",
          "text": [
            "WARNING: [youtube] Skipping player responses from android clients (got player responses for video \"aQvGIIdgFDM\" instead of \"3TNvdDA9N_A\")\n"
          ]
        },
        {
          "output_type": "stream",
          "name": "stdout",
          "text": []
        },
        {
          "output_type": "stream",
          "name": "stderr",
          "text": [
            "WARNING: [youtube] Skipping player responses from android clients (got player responses for video \"aQvGIIdgFDM\" instead of \"IbfhzP4W65o\")\n"
          ]
        },
        {
          "output_type": "stream",
          "name": "stdout",
          "text": []
        },
        {
          "output_type": "stream",
          "name": "stderr",
          "text": [
            "WARNING: [youtube] Skipping player responses from android clients (got player responses for video \"aQvGIIdgFDM\" instead of \"4obx8Xzjszc\")\n"
          ]
        },
        {
          "output_type": "stream",
          "name": "stdout",
          "text": []
        },
        {
          "output_type": "stream",
          "name": "stderr",
          "text": [
            "WARNING: [youtube] Skipping player responses from android clients (got player responses for video \"aQvGIIdgFDM\" instead of \"-Jc_PsxYYhI\")\n"
          ]
        },
        {
          "output_type": "stream",
          "name": "stdout",
          "text": []
        },
        {
          "output_type": "stream",
          "name": "stderr",
          "text": [
            "WARNING: [youtube] Skipping player responses from android clients (got player responses for video \"aQvGIIdgFDM\" instead of \"tYMyKUqsxKo\")\n"
          ]
        },
        {
          "output_type": "stream",
          "name": "stdout",
          "text": []
        },
        {
          "output_type": "stream",
          "name": "stderr",
          "text": [
            "WARNING: [youtube] Skipping player responses from android clients (got player responses for video \"aQvGIIdgFDM\" instead of \"oqx88MyUSck\")\n"
          ]
        },
        {
          "output_type": "stream",
          "name": "stdout",
          "text": []
        },
        {
          "output_type": "stream",
          "name": "stderr",
          "text": [
            "WARNING: [youtube] Skipping player responses from android clients (got player responses for video \"aQvGIIdgFDM\" instead of \"u79hDi6XBwQ\")\n"
          ]
        },
        {
          "output_type": "stream",
          "name": "stdout",
          "text": []
        },
        {
          "output_type": "stream",
          "name": "stderr",
          "text": [
            "WARNING: [youtube] Skipping player responses from android clients (got player responses for video \"aQvGIIdgFDM\" instead of \"-CpIj2unDR0\")\n"
          ]
        },
        {
          "output_type": "stream",
          "name": "stdout",
          "text": []
        },
        {
          "output_type": "stream",
          "name": "stderr",
          "text": [
            "WARNING: [youtube] Skipping player responses from android clients (got player responses for video \"aQvGIIdgFDM\" instead of \"AFOEe6M2VT4\")\n"
          ]
        },
        {
          "output_type": "stream",
          "name": "stdout",
          "text": []
        },
        {
          "output_type": "stream",
          "name": "stderr",
          "text": [
            "WARNING: [youtube] Skipping player responses from android clients (got player responses for video \"aQvGIIdgFDM\" instead of \"sWpGJI1H17s\")\n"
          ]
        },
        {
          "output_type": "stream",
          "name": "stdout",
          "text": []
        },
        {
          "output_type": "stream",
          "name": "stderr",
          "text": [
            "WARNING: [youtube] Skipping player responses from android clients (got player responses for video \"aQvGIIdgFDM\" instead of \"SJ6_FSfYTxc\")\n"
          ]
        },
        {
          "output_type": "stream",
          "name": "stdout",
          "text": []
        },
        {
          "output_type": "stream",
          "name": "stderr",
          "text": [
            "WARNING: [youtube] Skipping player responses from android clients (got player responses for video \"aQvGIIdgFDM\" instead of \"C16NArhXpmI\")\n"
          ]
        },
        {
          "output_type": "stream",
          "name": "stdout",
          "text": []
        },
        {
          "output_type": "stream",
          "name": "stderr",
          "text": [
            "WARNING: [youtube] Skipping player responses from android clients (got player responses for video \"aQvGIIdgFDM\" instead of \"iYRsxW68umk\")\n"
          ]
        },
        {
          "output_type": "stream",
          "name": "stdout",
          "text": []
        },
        {
          "output_type": "stream",
          "name": "stderr",
          "text": [
            "WARNING: [youtube] Skipping player responses from android clients (got player responses for video \"aQvGIIdgFDM\" instead of \"k7rPbMpTvcY\")\n"
          ]
        },
        {
          "output_type": "stream",
          "name": "stdout",
          "text": []
        },
        {
          "output_type": "stream",
          "name": "stderr",
          "text": [
            "WARNING: [youtube] Skipping player responses from android clients (got player responses for video \"aQvGIIdgFDM\" instead of \"GJQPPRf1T4k\")\n"
          ]
        },
        {
          "output_type": "stream",
          "name": "stdout",
          "text": []
        },
        {
          "output_type": "stream",
          "name": "stderr",
          "text": [
            "WARNING: [youtube] Skipping player responses from android clients (got player responses for video \"aQvGIIdgFDM\" instead of \"eKtQJmCMuCc\")\n"
          ]
        },
        {
          "output_type": "stream",
          "name": "stdout",
          "text": []
        },
        {
          "output_type": "stream",
          "name": "stderr",
          "text": [
            "WARNING: [youtube] Skipping player responses from android clients (got player responses for video \"aQvGIIdgFDM\" instead of \"oe_usdtPnXI\")\n"
          ]
        },
        {
          "output_type": "stream",
          "name": "stdout",
          "text": []
        },
        {
          "output_type": "stream",
          "name": "stderr",
          "text": [
            "WARNING: [youtube] Skipping player responses from android clients (got player responses for video \"aQvGIIdgFDM\" instead of \"6bVHNdwypiE\")\n"
          ]
        },
        {
          "output_type": "stream",
          "name": "stdout",
          "text": []
        },
        {
          "output_type": "stream",
          "name": "stderr",
          "text": [
            "WARNING: [youtube] Skipping player responses from android clients (got player responses for video \"aQvGIIdgFDM\" instead of \"E8MV51q4C78\")\n"
          ]
        },
        {
          "output_type": "stream",
          "name": "stdout",
          "text": []
        },
        {
          "output_type": "stream",
          "name": "stderr",
          "text": [
            "WARNING: [youtube] Skipping player responses from android clients (got player responses for video \"aQvGIIdgFDM\" instead of \"CW1dsFTrj04\")\n"
          ]
        },
        {
          "output_type": "stream",
          "name": "stdout",
          "text": []
        },
        {
          "output_type": "stream",
          "name": "stderr",
          "text": [
            "WARNING: [youtube] Skipping player responses from android clients (got player responses for video \"aQvGIIdgFDM\" instead of \"bQx34TtkAWI\")\n"
          ]
        },
        {
          "output_type": "stream",
          "name": "stdout",
          "text": []
        },
        {
          "output_type": "stream",
          "name": "stderr",
          "text": [
            "WARNING: [youtube] Skipping player responses from android clients (got player responses for video \"aQvGIIdgFDM\" instead of \"Hi5OCwznKsA\")\n",
            "WARNING: [youtube] Skipping player responses from android clients (got player responses for video \"aQvGIIdgFDM\" instead of \"8Ibqdjl1ihw\")\n"
          ]
        },
        {
          "output_type": "stream",
          "name": "stdout",
          "text": []
        },
        {
          "output_type": "stream",
          "name": "stderr",
          "text": [
            "WARNING: [youtube] Skipping player responses from android clients (got player responses for video \"aQvGIIdgFDM\" instead of \"eYvUclkChNA\")\n"
          ]
        },
        {
          "output_type": "stream",
          "name": "stdout",
          "text": []
        },
        {
          "output_type": "stream",
          "name": "stderr",
          "text": [
            "WARNING: [youtube] Skipping player responses from android clients (got player responses for video \"aQvGIIdgFDM\" instead of \"2dHO6IopRs8\")\n",
            "WARNING: [youtube] Skipping player responses from android clients (got player responses for video \"aQvGIIdgFDM\" instead of \"JrhgdETwjtg\")\n"
          ]
        },
        {
          "output_type": "stream",
          "name": "stdout",
          "text": []
        },
        {
          "output_type": "stream",
          "name": "stderr",
          "text": [
            "WARNING: [youtube] Skipping player responses from android clients (got player responses for video \"aQvGIIdgFDM\" instead of \"BZ80A53o1oU\")\n"
          ]
        },
        {
          "output_type": "stream",
          "name": "stdout",
          "text": []
        },
        {
          "output_type": "stream",
          "name": "stderr",
          "text": [
            "WARNING: [youtube] Skipping player responses from android clients (got player responses for video \"aQvGIIdgFDM\" instead of \"1ZIQbXhr1wU\")\n"
          ]
        },
        {
          "output_type": "stream",
          "name": "stdout",
          "text": []
        },
        {
          "output_type": "stream",
          "name": "stderr",
          "text": [
            "WARNING: [youtube] Skipping player responses from android clients (got player responses for video \"aQvGIIdgFDM\" instead of \"WpK__6Z3f2k\")\n"
          ]
        },
        {
          "output_type": "stream",
          "name": "stdout",
          "text": []
        },
        {
          "output_type": "stream",
          "name": "stderr",
          "text": [
            "WARNING: [youtube] Skipping player responses from android clients (got player responses for video \"aQvGIIdgFDM\" instead of \"ZVsyFm0koa8\")\n"
          ]
        },
        {
          "output_type": "stream",
          "name": "stdout",
          "text": []
        },
        {
          "output_type": "stream",
          "name": "stderr",
          "text": [
            "WARNING: [youtube] Skipping player responses from android clients (got player responses for video \"aQvGIIdgFDM\" instead of \"PsyRHC5Z3Go\")\n"
          ]
        },
        {
          "output_type": "stream",
          "name": "stdout",
          "text": []
        },
        {
          "output_type": "stream",
          "name": "stderr",
          "text": [
            "WARNING: [youtube] Skipping player responses from android clients (got player responses for video \"aQvGIIdgFDM\" instead of \"lf5cGFA8ztY\")\n",
            "WARNING: [youtube] Skipping player responses from android clients (got player responses for video \"aQvGIIdgFDM\" instead of \"nP6yGfRChaI\")\n"
          ]
        },
        {
          "output_type": "stream",
          "name": "stdout",
          "text": []
        },
        {
          "output_type": "stream",
          "name": "stderr",
          "text": [
            "WARNING: [youtube] Skipping player responses from android clients (got player responses for video \"aQvGIIdgFDM\" instead of \"myBkG9ktMLo\")\n"
          ]
        },
        {
          "output_type": "stream",
          "name": "stdout",
          "text": []
        },
        {
          "output_type": "stream",
          "name": "stderr",
          "text": [
            "WARNING: [youtube] Skipping player responses from android clients (got player responses for video \"aQvGIIdgFDM\" instead of \"-ufrD2-oCAU\")\n"
          ]
        },
        {
          "output_type": "stream",
          "name": "stdout",
          "text": []
        },
        {
          "output_type": "stream",
          "name": "stderr",
          "text": [
            "WARNING: [youtube] Skipping player responses from android clients (got player responses for video \"aQvGIIdgFDM\" instead of \"7dluDQT6lv4\")\n"
          ]
        },
        {
          "output_type": "stream",
          "name": "stdout",
          "text": []
        },
        {
          "output_type": "stream",
          "name": "stderr",
          "text": [
            "WARNING: [youtube] Skipping player responses from android clients (got player responses for video \"aQvGIIdgFDM\" instead of \"FVEe9s5yQ9w\")\n"
          ]
        },
        {
          "output_type": "stream",
          "name": "stdout",
          "text": []
        },
        {
          "output_type": "stream",
          "name": "stderr",
          "text": [
            "WARNING: [youtube] Skipping player responses from android clients (got player responses for video \"aQvGIIdgFDM\" instead of \"CMn8dMaUQ98\")\n"
          ]
        },
        {
          "output_type": "stream",
          "name": "stdout",
          "text": []
        }
      ]
    },
    {
      "cell_type": "code",
      "source": [
        "failed_video_ids = ['-xOLaf4U8d8', 'RdIMXvGw0TA', 'Tl5Z4JG2PmU', 'zvAFPHLFMa0']\n",
        "failed_videos_df = df_videos[df_videos['video_id'].isin(failed_video_ids)]\n",
        "failed_videos_df['subtitles_text'] = failed_videos_df['video_id'].apply(lambda x: download_and_read_subtitles(x))\n",
        "df_videos.update(failed_videos_df)"
      ],
      "metadata": {
        "colab": {
          "base_uri": "https://localhost:8080/"
        },
        "id": "EVUUTQpe9uEL",
        "outputId": "809cc6c5-c04b-4f10-f7e2-2310229219cd"
      },
      "execution_count": null,
      "outputs": [
        {
          "output_type": "stream",
          "name": "stderr",
          "text": [
            "WARNING: [youtube] Skipping player responses from android clients (got player responses for video \"aQvGIIdgFDM\" instead of \"-xOLaf4U8d8\")\n"
          ]
        },
        {
          "output_type": "stream",
          "name": "stdout",
          "text": []
        },
        {
          "output_type": "stream",
          "name": "stderr",
          "text": [
            "WARNING: [youtube] Skipping player responses from android clients (got player responses for video \"aQvGIIdgFDM\" instead of \"RdIMXvGw0TA\")\n"
          ]
        },
        {
          "output_type": "stream",
          "name": "stdout",
          "text": []
        },
        {
          "output_type": "stream",
          "name": "stderr",
          "text": [
            "WARNING: [youtube] Skipping player responses from android clients (got player responses for video \"aQvGIIdgFDM\" instead of \"Tl5Z4JG2PmU\")\n"
          ]
        },
        {
          "output_type": "stream",
          "name": "stdout",
          "text": []
        },
        {
          "output_type": "stream",
          "name": "stderr",
          "text": [
            "WARNING: [youtube] Skipping player responses from android clients (got player responses for video \"aQvGIIdgFDM\" instead of \"zvAFPHLFMa0\")\n",
            "WARNING: This video is drm protected and only images are available for download. use --list-formats to see them\n",
            "ERROR: [youtube] zvAFPHLFMa0: Requested format is not available. Use --list-formats for a list of available formats\n"
          ]
        },
        {
          "output_type": "stream",
          "name": "stdout",
          "text": [
            "Error downloading subtitles for video zvAFPHLFMa0: ERROR: [youtube] zvAFPHLFMa0: Requested format is not available. Use --list-formats for a list of available formats\n"
          ]
        },
        {
          "output_type": "stream",
          "name": "stderr",
          "text": [
            "<ipython-input-23-765c022fced4>:3: SettingWithCopyWarning: \n",
            "A value is trying to be set on a copy of a slice from a DataFrame.\n",
            "Try using .loc[row_indexer,col_indexer] = value instead\n",
            "\n",
            "See the caveats in the documentation: https://pandas.pydata.org/pandas-docs/stable/user_guide/indexing.html#returning-a-view-versus-a-copy\n",
            "  failed_videos_df['subtitles_text'] = failed_videos_df['video_id'].apply(lambda x: download_and_read_subtitles(x))\n"
          ]
        }
      ]
    },
    {
      "cell_type": "code",
      "source": [
        "# Check the error rows\n",
        "video_ids_to_check = ['-xOLaf4U8d8', 'RdIMXvGw0TA', 'Tl5Z4JG2PmU', 'zvAFPHLFMa0']\n",
        "checked_videos_df = df_videos[df_videos['video_id'].isin(video_ids_to_check)][['video_id', 'subtitles_text']]\n",
        "print(checked_videos_df)"
      ],
      "metadata": {
        "colab": {
          "base_uri": "https://localhost:8080/"
        },
        "id": "mJ0M0Tnx-SGW",
        "outputId": "5e8a6aa6-8947-49f5-852d-ec9ddee87a8d"
      },
      "execution_count": null,
      "outputs": [
        {
          "output_type": "stream",
          "name": "stdout",
          "text": [
            "        video_id                                     subtitles_text\n",
            "53   -xOLaf4U8d8  WEBVTT\\nKind: captions\\nLanguage: en\\n\\n00:00:...\n",
            "100  RdIMXvGw0TA  WEBVTT\\nKind: captions\\nLanguage: en\\n\\n00:00:...\n",
            "182  Tl5Z4JG2PmU  WEBVTT\\nKind: captions\\nLanguage: en\\n\\n00:00:...\n",
            "242  zvAFPHLFMa0                                               None\n"
          ]
        }
      ]
    },
    {
      "cell_type": "code",
      "source": [
        "none_string_rows = df_videos[df_videos['subtitles_text'] == \"None\"]\n",
        "print(none_string_rows)"
      ],
      "metadata": {
        "colab": {
          "base_uri": "https://localhost:8080/"
        },
        "id": "JAPsLiPi98Ph",
        "outputId": "4e597235-2eff-40e3-931f-2cd281c28725"
      },
      "execution_count": null,
      "outputs": [
        {
          "output_type": "stream",
          "name": "stdout",
          "text": [
            "                                                 title     video_id  \\\n",
            "30   Explained | Racial Wealth Gap | FULL EPISODE |...  Mqrhn8khGLM   \n",
            "34                     Understanding Wealth Inequality  6c21XMMH5Vg   \n",
            "36                             EconMovies #17- Endgame  CHReFKy_Mi4   \n",
            "62                  The economics of income inequality  hGHN9u5d5vQ   \n",
            "68   Fairness for Children - Income and Education I...  VLDMPg5op28   \n",
            "71               How to Actually Fix Income Inequality  3eMj1kskVTY   \n",
            "80   Income inequality is causing poor and middle-c...  t-Q-EZ42FCg   \n",
            "102  Can widening income inequality ever be bridged...  Xel4L2c1tbQ   \n",
            "105  Obama&#39;s Address Fails to Look at Roots of ...  s3adl8FAYng   \n",
            "113          America is nearing peak income inequality  Lc9Tz_6EVH4   \n",
            "117             Bloomberg: Income Inequality is Great!  pG9iJ2_fqzE   \n",
            "118  Income Inequality in America: Across Lake Prov...  TtwsPx7MST0   \n",
            "130             Exploring Income and Wealth Inequality  kKKyDz4FPno   \n",
            "153   Income Inequality Targeted By Incoming Fed Chair  VVRVHd_QqkQ   \n",
            "154  O&#39;Reilly: There&#39;s No Income Inequality...  VE7-yPb213o   \n",
            "156  Stunning Facts About Income Inequality That Ar...  io-aSa7OLz0   \n",
            "161          Poll: Govt Should Fight Income Inequality  ArDSFKluReY   \n",
            "164       Pollution Inequality &amp; Income Inequality  B4R2vQVwQMw   \n",
            "169  U.S. Income Inequality - Worse Than Latin Amer...  rV8diRk_A2A   \n",
            "173      Edward Conard on the 1% and income inequality  aNBNAecilB0   \n",
            "178  Equal Is Unfair: America&#39;s Misguided Fight...  vDvqK5X6LFg   \n",
            "183  Income Inequality Holds Back Economy Says Fed ...  VmOS4MnloUE   \n",
            "186  Pagtataas ng buwis sa upper-middle class, naki...  CltkoRJ91Sg   \n",
            "189          Obama Vs Bush On Income Inequality Growth  fPQNwM7n-l0   \n",
            "191     Crazy Facts On Income Inequality, Bank Bonuses  ikK1Cv68d64   \n",
            "194  The problem with income inequality is not CEO ...  AYjhtO8ccmU   \n",
            "196  Income Inequality in India, Widening gap betwe...  qFly_WLpi_I   \n",
            "202           REPORT: Income Inequality At Record High  0YHsuBrkJo8   \n",
            "203       America Is NUMBER ONE...In Income Inequality  GmPZCgT-Zp4   \n",
            "205  Debunking Income Inequality | Phil Magness &am...  DN77ALgpJEY   \n",
            "211  Watch These One Percenters Laugh About Income ...  p7UNJryA8os   \n",
            "215         Reaction to Income Inequality in the World  5gyaZokuueY   \n",
            "221  Ben Shapiro DEBUNKS Leftist&#39;s Economic Ine...  GLmIXdzw18c   \n",
            "226  Should Billionaires Exist? | Corporate respons...  TBxvGeYXpPw   \n",
            "230  REPORT: Top 1% Maintains CRUSHING Income Inequ...  ZHBVFgGNXu4   \n",
            "233  Stuff From the Future - What is the future of ...  ZV148rR35dQ   \n",
            "238  Lorenz Curve | Gini Coefficient or Gini Ratio ...  E7Td8ZJpjf4   \n",
            "242                                 Inequality for All  zvAFPHLFMa0   \n",
            "247  Chapter 21- Inequality and Poverty | UPSC GS -...  DxYqtgK-9ps   \n",
            "252  D’Souza SLAMS leftist view of income inequalit...  wmUernr96FM   \n",
            "265              New 2022#Wealth Inequality in America  TOxuip4f7TQ   \n",
            "266  Rahul Vows Caste Quotas &amp; Wealth Redistrib...  DPaNubPzSGo   \n",
            "269  25 Facts About Income Inequality In America Th...  0aEhoGkEiQM   \n",
            "271  Rahul Promises Wealth Survey | Is This Common ...  O8MklgkxyRk   \n",
            "279  Jordan Peterson &amp; Russell Brand - Solving ...  -Jc_PsxYYhI   \n",
            "295  LIVE: Exposing the Myth of American Income Ine...  E8MV51q4C78   \n",
            "298  From Crying to Joy of Happiness. We Sure Made ...  Hi5OCwznKsA   \n",
            "301  Mike Johnson Accomplished One Thing! Discover ...  2dHO6IopRs8   \n",
            "304  Finally! $2000 Stimulus Checks Hitting Banks T...  1ZIQbXhr1wU   \n",
            "308  This Filipina has Bone Cancer and She&#39;s in...  lf5cGFA8ztY   \n",
            "313  BERNIE&#39;S APPROVED !! 4TH STIMULUS CHECK !!...  FVEe9s5yQ9w   \n",
            "\n",
            "                                           description comment_count  \\\n",
            "30   In partnership with Vox Media Studios and Vox,...          2861   \n",
            "34   We've talked about public goods and externalit...           412   \n",
            "36   Hey internet, this is Jacob Clifford. Avengers...            96   \n",
            "62   Corey Packer and Antony Davies discuss topics ...            22   \n",
            "68   The latest Innocenti Report Card raises concer...            18   \n",
            "71   Audience Question: How do we fix income inequa...           194   \n",
            "80   With some parents spending as much as $35000 a...            51   \n",
            "102  The wealth of the world's billionaires has rea...            16   \n",
            "105  David Cay Johnston: Put in historical context,...            16   \n",
            "113  According to an Economic Policy Institute stud...            28   \n",
            "117  Mayor Michael Bloomberg said income inequality...            13   \n",
            "118  East Carroll Parish, Louisiana, has the highes...            63   \n",
            "130  Featuring Scott Winship, Executive Director, J...            25   \n",
            "153  \"At her Senate confirmation hearing on Thursda...           530   \n",
            "154  \"It's pat at this point to observe that income...           575   \n",
            "156  \"Every year on the Martin Luther King Jr. holi...           587   \n",
            "161  A new poll shows that a majority of Americans ...           396   \n",
            "164  Low income and communities of color are dispro...            10   \n",
            "169  \"Latin America has long been viewed as a regio...           340   \n",
            "173  AEI visiting scholar Ed Conard explains how de...            12   \n",
            "178  ORDER NOW ON AMAZON http://tinyurl.com/hafzngz...            77   \n",
            "183  Sep.16 -- Federal Reserve Chairman Jerome Powe...            99   \n",
            "186  May nakikitang solusyon ang isang ekonomista p...            52   \n",
            "189  Via Naked Capitalism: \"...under Bush, the 1% c...           429   \n",
            "191  Stunning facts about bank bonuses on Wall Stre...           411   \n",
            "194  \"Income inequality is a real problem in this c...            35   \n",
            "196  Enrol to StudyIQ's Flagship UPSC IAS (Pre + Ma...           100   \n",
            "202  Income inequality is at a record high! Cenk Uy...           905   \n",
            "203  When it comes to income inequality, no other d...           831   \n",
            "205  Is taxing the rich truly the solution to incom...            16   \n",
            "211  Robert Rubin, Hank Paulson and Timothy Geithne...            95   \n",
            "215  Patrick Bet-David Podcast Episode 55. In this ...           250   \n",
            "221  Ben Shapiro stuns fellow panelists when he exp...          4826   \n",
            "226  Today, I'm talking about corporate and social ...            18   \n",
            "230  A recent study by Oxfam America reports that r...            86   \n",
            "233  It seems that people are increasingly concerne...            31   \n",
            "238  Study Lover Veer Official App   https://openin...           182   \n",
            "242  A passionate argument on behalf of the middle ...          4172   \n",
            "247  Enrol to StudyIQ's Flagship UPSC IAS (Pre + Ma...            15   \n",
            "252  Inequality is a natural part of the voluntary ...           805   \n",
            "265  News 03/02/2022#This is a must see for everyon...            23   \n",
            "266  Rahul Gandhi, ahead of Lok Sabha polls, pledge...            41   \n",
            "269  The world's richest country is also the most u...           706   \n",
            "271  Congress leader Rahul Gandhi announced plans f...            46   \n",
            "279  Original Source: https://www.youtube.com/watch...            21   \n",
            "295  Watch the full episode: A Documentary by The E...            15   \n",
            "298  Again, thank you very much to all who contribu...            23   \n",
            "301  The truth about the Republican party's achieve...            31   \n",
            "304  \"Exciting news for low-income and senior Ameri...            12   \n",
            "308  Note: I am not a member of nor affiliated with...            39   \n",
            "313  Breaking News: Bernie's Approved! 4th Stimulus...            13   \n",
            "\n",
            "    view_count          published_at channel_subscriber_count subtitles_text  \\\n",
            "30     1469023  2020-04-17T13:00:03Z                 28100000           None   \n",
            "34       29424  2022-02-28T16:22:14Z                  2960000           None   \n",
            "36       71527  2019-08-26T17:52:48Z                   874000           None   \n",
            "62        2776  2019-08-11T01:10:11Z                     5280           None   \n",
            "68       70781  2016-04-13T22:34:50Z                    11100           None   \n",
            "71       14002  2020-09-14T19:00:00Z                  2120000           None   \n",
            "80        3849  2019-08-14T19:34:40Z                  5740000           None   \n",
            "102       5090  2020-10-08T17:30:01Z                 13200000           None   \n",
            "105       3583  2014-01-29T18:47:54Z                   970000           None   \n",
            "113       3404  2018-07-27T15:42:30Z                  5740000           None   \n",
            "117       1612  2013-09-25T20:00:16Z                  1470000           None   \n",
            "118      26998  2013-10-30T00:36:51Z                 16200000           None   \n",
            "130       3609  2019-12-16T17:15:00Z                    97900           None   \n",
            "153      32532  2013-11-16T03:55:28Z                  5810000           None   \n",
            "154     105986  2015-04-22T05:43:55Z                  5810000           None   \n",
            "156      52314  2014-01-26T19:00:03Z                  5810000           None   \n",
            "161      22976  2011-11-11T05:51:41Z                  5810000           None   \n",
            "164       1679  2014-10-15T02:49:57Z                   970000           None   \n",
            "169      34079  2013-02-03T16:00:41Z                  5810000           None   \n",
            "173       1815  2014-05-05T22:55:38Z                   211000           None   \n",
            "178      10775  2016-02-23T17:52:35Z                   140000           None   \n",
            "183       5413  2020-09-16T20:01:12Z                  1890000           None   \n",
            "186       4539  2022-11-29T06:15:00Z                  3930000           None   \n",
            "189      32129  2012-04-14T03:35:03Z                  5810000           None   \n",
            "191      34636  2011-12-25T23:37:21Z                  5810000           None   \n",
            "194       3948  2019-11-12T00:09:08Z                  2700000           None   \n",
            "196      66110  2018-08-26T06:06:18Z                 16800000           None   \n",
            "202      40823  2019-09-29T22:00:00Z                  5810000           None   \n",
            "203      79267  2014-05-03T22:00:02Z                  5810000           None   \n",
            "205       1386  2022-03-29T16:32:31Z                    42500           None   \n",
            "211      17089  2015-10-03T05:30:01Z                  1470000           None   \n",
            "215      36046  2021-04-20T23:32:12Z                   595000           None   \n",
            "221    2164191  2022-12-11T16:00:07Z                  1630000           None   \n",
            "226       1822  2021-02-04T18:00:05Z                    15900           None   \n",
            "230       4338  2022-04-02T16:00:13Z                   899000           None   \n",
            "233      37005  2011-10-31T16:52:34Z                   711000           None   \n",
            "238      84099  2017-10-07T06:52:49Z                  1220000           None   \n",
            "242       None  2020-11-11T21:03:27Z                   334000           None   \n",
            "247      42161  2022-09-27T10:55:19Z                 16800000           None   \n",
            "252     419342  2020-04-09T13:29:46Z                  1630000           None   \n",
            "265       7187  2022-02-03T20:54:54Z                       11           None   \n",
            "266       2340  2024-04-08T17:43:40Z                   965000           None   \n",
            "269     143076  2022-05-06T23:00:00Z                   595000           None   \n",
            "271       1534  2024-04-08T15:32:17Z                   965000           None   \n",
            "279       4351  2018-02-16T15:49:13Z                     9870           None   \n",
            "295       1189  2022-10-20T21:53:27Z                   573000           None   \n",
            "298       1795  2024-04-08T14:17:50Z                   414000           None   \n",
            "301       7059  2024-02-14T03:15:00Z                   182000           None   \n",
            "304        962  2024-04-08T20:30:01Z                     6450           None   \n",
            "308       3890  2024-04-04T19:36:56Z                   414000           None   \n",
            "313        411  2024-04-08T23:30:05Z                    16400           None   \n",
            "\n",
            "    cleaned_subtitles  \n",
            "30               None  \n",
            "34               None  \n",
            "36               None  \n",
            "62               None  \n",
            "68               None  \n",
            "71               None  \n",
            "80               None  \n",
            "102              None  \n",
            "105              None  \n",
            "113              None  \n",
            "117              None  \n",
            "118              None  \n",
            "130              None  \n",
            "153              None  \n",
            "154              None  \n",
            "156              None  \n",
            "161              None  \n",
            "164              None  \n",
            "169              None  \n",
            "173              None  \n",
            "178              None  \n",
            "183              None  \n",
            "186              None  \n",
            "189              None  \n",
            "191              None  \n",
            "194              None  \n",
            "196              None  \n",
            "202              None  \n",
            "203              None  \n",
            "205              None  \n",
            "211              None  \n",
            "215              None  \n",
            "221              None  \n",
            "226              None  \n",
            "230              None  \n",
            "233              None  \n",
            "238              None  \n",
            "242              None  \n",
            "247              None  \n",
            "252              None  \n",
            "265              None  \n",
            "266              None  \n",
            "269              None  \n",
            "271              None  \n",
            "279              None  \n",
            "295              None  \n",
            "298              None  \n",
            "301              None  \n",
            "304              None  \n",
            "308              None  \n",
            "313              None  \n"
          ]
        }
      ]
    },
    {
      "cell_type": "code",
      "source": [
        "none_string_rows['subtitles_text'] = none_string_rows['video_id'].apply(lambda x: download_and_read_subtitles(x))"
      ],
      "metadata": {
        "colab": {
          "base_uri": "https://localhost:8080/"
        },
        "id": "em8trFQuCgp1",
        "outputId": "2a2d38f5-6c54-46c6-d932-6a4fae998157"
      },
      "execution_count": null,
      "outputs": [
        {
          "output_type": "stream",
          "name": "stderr",
          "text": [
            "WARNING: [youtube] Skipping player responses from android clients (got player responses for video \"aQvGIIdgFDM\" instead of \"Mqrhn8khGLM\")\n",
            "WARNING: [youtube] Skipping player responses from android clients (got player responses for video \"aQvGIIdgFDM\" instead of \"6c21XMMH5Vg\")\n"
          ]
        },
        {
          "output_type": "stream",
          "name": "stdout",
          "text": []
        },
        {
          "output_type": "stream",
          "name": "stderr",
          "text": [
            "WARNING: [youtube] Skipping player responses from android clients (got player responses for video \"aQvGIIdgFDM\" instead of \"CHReFKy_Mi4\")\n"
          ]
        },
        {
          "output_type": "stream",
          "name": "stdout",
          "text": []
        },
        {
          "output_type": "stream",
          "name": "stderr",
          "text": [
            "WARNING: [youtube] Skipping player responses from android clients (got player responses for video \"aQvGIIdgFDM\" instead of \"hGHN9u5d5vQ\")\n"
          ]
        },
        {
          "output_type": "stream",
          "name": "stdout",
          "text": []
        },
        {
          "output_type": "stream",
          "name": "stderr",
          "text": [
            "WARNING: [youtube] Skipping player responses from android clients (got player responses for video \"aQvGIIdgFDM\" instead of \"VLDMPg5op28\")\n",
            "WARNING: [youtube] Skipping player responses from android clients (got player responses for video \"aQvGIIdgFDM\" instead of \"3eMj1kskVTY\")\n"
          ]
        },
        {
          "output_type": "stream",
          "name": "stdout",
          "text": []
        },
        {
          "output_type": "stream",
          "name": "stderr",
          "text": [
            "WARNING: [youtube] Skipping player responses from android clients (got player responses for video \"aQvGIIdgFDM\" instead of \"t-Q-EZ42FCg\")\n",
            "WARNING: [youtube] Skipping player responses from android clients (got player responses for video \"aQvGIIdgFDM\" instead of \"Xel4L2c1tbQ\")\n",
            "WARNING: [youtube] Skipping player responses from android clients (got player responses for video \"aQvGIIdgFDM\" instead of \"s3adl8FAYng\")\n"
          ]
        },
        {
          "output_type": "stream",
          "name": "stdout",
          "text": []
        },
        {
          "output_type": "stream",
          "name": "stderr",
          "text": [
            "WARNING: [youtube] Skipping player responses from android clients (got player responses for video \"aQvGIIdgFDM\" instead of \"Lc9Tz_6EVH4\")\n",
            "WARNING: [youtube] Skipping player responses from android clients (got player responses for video \"aQvGIIdgFDM\" instead of \"pG9iJ2_fqzE\")\n"
          ]
        },
        {
          "output_type": "stream",
          "name": "stdout",
          "text": []
        },
        {
          "output_type": "stream",
          "name": "stderr",
          "text": [
            "WARNING: [youtube] Skipping player responses from android clients (got player responses for video \"aQvGIIdgFDM\" instead of \"TtwsPx7MST0\")\n",
            "WARNING: [youtube] Skipping player responses from android clients (got player responses for video \"aQvGIIdgFDM\" instead of \"kKKyDz4FPno\")\n"
          ]
        },
        {
          "output_type": "stream",
          "name": "stdout",
          "text": []
        },
        {
          "output_type": "stream",
          "name": "stderr",
          "text": [
            "WARNING: [youtube] Skipping player responses from android clients (got player responses for video \"aQvGIIdgFDM\" instead of \"VVRVHd_QqkQ\")\n"
          ]
        },
        {
          "output_type": "stream",
          "name": "stdout",
          "text": []
        },
        {
          "output_type": "stream",
          "name": "stderr",
          "text": [
            "WARNING: [youtube] Skipping player responses from android clients (got player responses for video \"aQvGIIdgFDM\" instead of \"VE7-yPb213o\")\n"
          ]
        },
        {
          "output_type": "stream",
          "name": "stdout",
          "text": []
        },
        {
          "output_type": "stream",
          "name": "stderr",
          "text": [
            "WARNING: [youtube] Skipping player responses from android clients (got player responses for video \"aQvGIIdgFDM\" instead of \"io-aSa7OLz0\")\n"
          ]
        },
        {
          "output_type": "stream",
          "name": "stdout",
          "text": []
        },
        {
          "output_type": "stream",
          "name": "stderr",
          "text": [
            "WARNING: [youtube] Skipping player responses from android clients (got player responses for video \"aQvGIIdgFDM\" instead of \"ArDSFKluReY\")\n"
          ]
        },
        {
          "output_type": "stream",
          "name": "stdout",
          "text": []
        },
        {
          "output_type": "stream",
          "name": "stderr",
          "text": [
            "WARNING: [youtube] Skipping player responses from android clients (got player responses for video \"aQvGIIdgFDM\" instead of \"B4R2vQVwQMw\")\n"
          ]
        },
        {
          "output_type": "stream",
          "name": "stdout",
          "text": []
        },
        {
          "output_type": "stream",
          "name": "stderr",
          "text": [
            "WARNING: [youtube] Skipping player responses from android clients (got player responses for video \"aQvGIIdgFDM\" instead of \"rV8diRk_A2A\")\n"
          ]
        },
        {
          "output_type": "stream",
          "name": "stdout",
          "text": []
        },
        {
          "output_type": "stream",
          "name": "stderr",
          "text": [
            "WARNING: [youtube] Skipping player responses from android clients (got player responses for video \"aQvGIIdgFDM\" instead of \"aNBNAecilB0\")\n"
          ]
        },
        {
          "output_type": "stream",
          "name": "stdout",
          "text": []
        },
        {
          "output_type": "stream",
          "name": "stderr",
          "text": [
            "WARNING: [youtube] Skipping player responses from android clients (got player responses for video \"aQvGIIdgFDM\" instead of \"vDvqK5X6LFg\")\n",
            "WARNING: [youtube] Skipping player responses from android clients (got player responses for video \"aQvGIIdgFDM\" instead of \"VmOS4MnloUE\")\n",
            "WARNING: [youtube] Skipping player responses from android clients (got player responses for video \"aQvGIIdgFDM\" instead of \"CltkoRJ91Sg\")\n",
            "WARNING: [youtube] Skipping player responses from android clients (got player responses for video \"aQvGIIdgFDM\" instead of \"fPQNwM7n-l0\")\n"
          ]
        },
        {
          "output_type": "stream",
          "name": "stdout",
          "text": []
        },
        {
          "output_type": "stream",
          "name": "stderr",
          "text": [
            "WARNING: [youtube] Skipping player responses from android clients (got player responses for video \"aQvGIIdgFDM\" instead of \"ikK1Cv68d64\")\n"
          ]
        },
        {
          "output_type": "stream",
          "name": "stdout",
          "text": []
        },
        {
          "output_type": "stream",
          "name": "stderr",
          "text": [
            "WARNING: [youtube] Skipping player responses from android clients (got player responses for video \"aQvGIIdgFDM\" instead of \"AYjhtO8ccmU\")\n",
            "WARNING: [youtube] Skipping player responses from android clients (got player responses for video \"aQvGIIdgFDM\" instead of \"qFly_WLpi_I\")\n",
            "WARNING: [youtube] Skipping player responses from android clients (got player responses for video \"aQvGIIdgFDM\" instead of \"0YHsuBrkJo8\")\n",
            "WARNING: [youtube] Skipping player responses from android clients (got player responses for video \"aQvGIIdgFDM\" instead of \"GmPZCgT-Zp4\")\n"
          ]
        },
        {
          "output_type": "stream",
          "name": "stdout",
          "text": []
        },
        {
          "output_type": "stream",
          "name": "stderr",
          "text": [
            "WARNING: [youtube] Skipping player responses from android clients (got player responses for video \"aQvGIIdgFDM\" instead of \"DN77ALgpJEY\")\n"
          ]
        },
        {
          "output_type": "stream",
          "name": "stdout",
          "text": []
        },
        {
          "output_type": "stream",
          "name": "stderr",
          "text": [
            "WARNING: [youtube] Skipping player responses from android clients (got player responses for video \"aQvGIIdgFDM\" instead of \"p7UNJryA8os\")\n"
          ]
        },
        {
          "output_type": "stream",
          "name": "stdout",
          "text": []
        },
        {
          "output_type": "stream",
          "name": "stderr",
          "text": [
            "WARNING: [youtube] Skipping player responses from android clients (got player responses for video \"aQvGIIdgFDM\" instead of \"5gyaZokuueY\")\n"
          ]
        },
        {
          "output_type": "stream",
          "name": "stdout",
          "text": []
        },
        {
          "output_type": "stream",
          "name": "stderr",
          "text": [
            "WARNING: [youtube] Skipping player responses from android clients (got player responses for video \"aQvGIIdgFDM\" instead of \"GLmIXdzw18c\")\n",
            "WARNING: [youtube] Skipping player responses from android clients (got player responses for video \"aQvGIIdgFDM\" instead of \"TBxvGeYXpPw\")\n"
          ]
        },
        {
          "output_type": "stream",
          "name": "stdout",
          "text": []
        },
        {
          "output_type": "stream",
          "name": "stderr",
          "text": [
            "WARNING: [youtube] Skipping player responses from android clients (got player responses for video \"aQvGIIdgFDM\" instead of \"ZHBVFgGNXu4\")\n",
            "WARNING: [youtube] Skipping player responses from android clients (got player responses for video \"aQvGIIdgFDM\" instead of \"ZV148rR35dQ\")\n"
          ]
        },
        {
          "output_type": "stream",
          "name": "stdout",
          "text": []
        },
        {
          "output_type": "stream",
          "name": "stderr",
          "text": [
            "WARNING: [youtube] Skipping player responses from android clients (got player responses for video \"aQvGIIdgFDM\" instead of \"E7Td8ZJpjf4\")\n",
            "WARNING: [youtube] Skipping player responses from android clients (got player responses for video \"aQvGIIdgFDM\" instead of \"zvAFPHLFMa0\")\n",
            "WARNING: This video is drm protected and only images are available for download. use --list-formats to see them\n",
            "ERROR: [youtube] zvAFPHLFMa0: Requested format is not available. Use --list-formats for a list of available formats\n"
          ]
        },
        {
          "output_type": "stream",
          "name": "stdout",
          "text": [
            "Error downloading subtitles for video zvAFPHLFMa0: ERROR: [youtube] zvAFPHLFMa0: Requested format is not available. Use --list-formats for a list of available formats\n"
          ]
        },
        {
          "output_type": "stream",
          "name": "stderr",
          "text": [
            "WARNING: [youtube] Skipping player responses from android clients (got player responses for video \"aQvGIIdgFDM\" instead of \"DxYqtgK-9ps\")\n"
          ]
        },
        {
          "output_type": "stream",
          "name": "stdout",
          "text": []
        },
        {
          "output_type": "stream",
          "name": "stderr",
          "text": [
            "WARNING: [youtube] Skipping player responses from android clients (got player responses for video \"aQvGIIdgFDM\" instead of \"wmUernr96FM\")\n",
            "WARNING: [youtube] Skipping player responses from android clients (got player responses for video \"aQvGIIdgFDM\" instead of \"TOxuip4f7TQ\")\n"
          ]
        },
        {
          "output_type": "stream",
          "name": "stdout",
          "text": []
        },
        {
          "output_type": "stream",
          "name": "stderr",
          "text": [
            "WARNING: [youtube] Skipping player responses from android clients (got player responses for video \"aQvGIIdgFDM\" instead of \"DPaNubPzSGo\")\n"
          ]
        },
        {
          "output_type": "stream",
          "name": "stdout",
          "text": []
        },
        {
          "output_type": "stream",
          "name": "stderr",
          "text": [
            "WARNING: [youtube] Skipping player responses from android clients (got player responses for video \"aQvGIIdgFDM\" instead of \"0aEhoGkEiQM\")\n"
          ]
        },
        {
          "output_type": "stream",
          "name": "stdout",
          "text": []
        },
        {
          "output_type": "stream",
          "name": "stderr",
          "text": [
            "WARNING: [youtube] Skipping player responses from android clients (got player responses for video \"aQvGIIdgFDM\" instead of \"O8MklgkxyRk\")\n"
          ]
        },
        {
          "output_type": "stream",
          "name": "stdout",
          "text": []
        },
        {
          "output_type": "stream",
          "name": "stderr",
          "text": [
            "WARNING: [youtube] Skipping player responses from android clients (got player responses for video \"aQvGIIdgFDM\" instead of \"-Jc_PsxYYhI\")\n"
          ]
        },
        {
          "output_type": "stream",
          "name": "stdout",
          "text": []
        },
        {
          "output_type": "stream",
          "name": "stderr",
          "text": [
            "WARNING: [youtube] Skipping player responses from android clients (got player responses for video \"aQvGIIdgFDM\" instead of \"E8MV51q4C78\")\n"
          ]
        },
        {
          "output_type": "stream",
          "name": "stdout",
          "text": []
        },
        {
          "output_type": "stream",
          "name": "stderr",
          "text": [
            "WARNING: [youtube] Skipping player responses from android clients (got player responses for video \"aQvGIIdgFDM\" instead of \"Hi5OCwznKsA\")\n",
            "WARNING: [youtube] Skipping player responses from android clients (got player responses for video \"aQvGIIdgFDM\" instead of \"2dHO6IopRs8\")\n",
            "WARNING: [youtube] Skipping player responses from android clients (got player responses for video \"aQvGIIdgFDM\" instead of \"1ZIQbXhr1wU\")\n"
          ]
        },
        {
          "output_type": "stream",
          "name": "stdout",
          "text": []
        },
        {
          "output_type": "stream",
          "name": "stderr",
          "text": [
            "WARNING: [youtube] Skipping player responses from android clients (got player responses for video \"aQvGIIdgFDM\" instead of \"lf5cGFA8ztY\")\n",
            "WARNING: [youtube] Skipping player responses from android clients (got player responses for video \"aQvGIIdgFDM\" instead of \"FVEe9s5yQ9w\")\n"
          ]
        },
        {
          "output_type": "stream",
          "name": "stdout",
          "text": []
        },
        {
          "output_type": "stream",
          "name": "stderr",
          "text": [
            "<ipython-input-48-8841aed059c2>:1: SettingWithCopyWarning: \n",
            "A value is trying to be set on a copy of a slice from a DataFrame.\n",
            "Try using .loc[row_indexer,col_indexer] = value instead\n",
            "\n",
            "See the caveats in the documentation: https://pandas.pydata.org/pandas-docs/stable/user_guide/indexing.html#returning-a-view-versus-a-copy\n",
            "  none_string_rows['subtitles_text'] = none_string_rows['video_id'].apply(lambda x: download_and_read_subtitles(x))\n"
          ]
        }
      ]
    },
    {
      "cell_type": "code",
      "source": [
        "none_string_rows"
      ],
      "metadata": {
        "colab": {
          "base_uri": "https://localhost:8080/",
          "height": 1000
        },
        "id": "4DvvDf6wG3kM",
        "outputId": "607381b8-23fa-41e9-b760-9b0ed0ed0446"
      },
      "execution_count": null,
      "outputs": [
        {
          "output_type": "execute_result",
          "data": {
            "text/plain": [
              "                                                 title     video_id  \\\n",
              "30   Explained | Racial Wealth Gap | FULL EPISODE |...  Mqrhn8khGLM   \n",
              "34                     Understanding Wealth Inequality  6c21XMMH5Vg   \n",
              "36                             EconMovies #17- Endgame  CHReFKy_Mi4   \n",
              "62                  The economics of income inequality  hGHN9u5d5vQ   \n",
              "68   Fairness for Children - Income and Education I...  VLDMPg5op28   \n",
              "71               How to Actually Fix Income Inequality  3eMj1kskVTY   \n",
              "80   Income inequality is causing poor and middle-c...  t-Q-EZ42FCg   \n",
              "102  Can widening income inequality ever be bridged...  Xel4L2c1tbQ   \n",
              "105  Obama&#39;s Address Fails to Look at Roots of ...  s3adl8FAYng   \n",
              "113          America is nearing peak income inequality  Lc9Tz_6EVH4   \n",
              "117             Bloomberg: Income Inequality is Great!  pG9iJ2_fqzE   \n",
              "118  Income Inequality in America: Across Lake Prov...  TtwsPx7MST0   \n",
              "130             Exploring Income and Wealth Inequality  kKKyDz4FPno   \n",
              "153   Income Inequality Targeted By Incoming Fed Chair  VVRVHd_QqkQ   \n",
              "154  O&#39;Reilly: There&#39;s No Income Inequality...  VE7-yPb213o   \n",
              "156  Stunning Facts About Income Inequality That Ar...  io-aSa7OLz0   \n",
              "161          Poll: Govt Should Fight Income Inequality  ArDSFKluReY   \n",
              "164       Pollution Inequality &amp; Income Inequality  B4R2vQVwQMw   \n",
              "169  U.S. Income Inequality - Worse Than Latin Amer...  rV8diRk_A2A   \n",
              "173      Edward Conard on the 1% and income inequality  aNBNAecilB0   \n",
              "178  Equal Is Unfair: America&#39;s Misguided Fight...  vDvqK5X6LFg   \n",
              "183  Income Inequality Holds Back Economy Says Fed ...  VmOS4MnloUE   \n",
              "186  Pagtataas ng buwis sa upper-middle class, naki...  CltkoRJ91Sg   \n",
              "189          Obama Vs Bush On Income Inequality Growth  fPQNwM7n-l0   \n",
              "191     Crazy Facts On Income Inequality, Bank Bonuses  ikK1Cv68d64   \n",
              "194  The problem with income inequality is not CEO ...  AYjhtO8ccmU   \n",
              "196  Income Inequality in India, Widening gap betwe...  qFly_WLpi_I   \n",
              "202           REPORT: Income Inequality At Record High  0YHsuBrkJo8   \n",
              "203       America Is NUMBER ONE...In Income Inequality  GmPZCgT-Zp4   \n",
              "205  Debunking Income Inequality | Phil Magness &am...  DN77ALgpJEY   \n",
              "211  Watch These One Percenters Laugh About Income ...  p7UNJryA8os   \n",
              "215         Reaction to Income Inequality in the World  5gyaZokuueY   \n",
              "221  Ben Shapiro DEBUNKS Leftist&#39;s Economic Ine...  GLmIXdzw18c   \n",
              "226  Should Billionaires Exist? | Corporate respons...  TBxvGeYXpPw   \n",
              "230  REPORT: Top 1% Maintains CRUSHING Income Inequ...  ZHBVFgGNXu4   \n",
              "233  Stuff From the Future - What is the future of ...  ZV148rR35dQ   \n",
              "238  Lorenz Curve | Gini Coefficient or Gini Ratio ...  E7Td8ZJpjf4   \n",
              "242                                 Inequality for All  zvAFPHLFMa0   \n",
              "247  Chapter 21- Inequality and Poverty | UPSC GS -...  DxYqtgK-9ps   \n",
              "252  D’Souza SLAMS leftist view of income inequalit...  wmUernr96FM   \n",
              "265              New 2022#Wealth Inequality in America  TOxuip4f7TQ   \n",
              "266  Rahul Vows Caste Quotas &amp; Wealth Redistrib...  DPaNubPzSGo   \n",
              "269  25 Facts About Income Inequality In America Th...  0aEhoGkEiQM   \n",
              "271  Rahul Promises Wealth Survey | Is This Common ...  O8MklgkxyRk   \n",
              "279  Jordan Peterson &amp; Russell Brand - Solving ...  -Jc_PsxYYhI   \n",
              "295  LIVE: Exposing the Myth of American Income Ine...  E8MV51q4C78   \n",
              "298  From Crying to Joy of Happiness. We Sure Made ...  Hi5OCwznKsA   \n",
              "301  Mike Johnson Accomplished One Thing! Discover ...  2dHO6IopRs8   \n",
              "304  Finally! $2000 Stimulus Checks Hitting Banks T...  1ZIQbXhr1wU   \n",
              "308  This Filipina has Bone Cancer and She&#39;s in...  lf5cGFA8ztY   \n",
              "313  BERNIE&#39;S APPROVED !! 4TH STIMULUS CHECK !!...  FVEe9s5yQ9w   \n",
              "\n",
              "                                           description comment_count  \\\n",
              "30   In partnership with Vox Media Studios and Vox,...          2861   \n",
              "34   We've talked about public goods and externalit...           412   \n",
              "36   Hey internet, this is Jacob Clifford. Avengers...            96   \n",
              "62   Corey Packer and Antony Davies discuss topics ...            22   \n",
              "68   The latest Innocenti Report Card raises concer...            18   \n",
              "71   Audience Question: How do we fix income inequa...           194   \n",
              "80   With some parents spending as much as $35000 a...            51   \n",
              "102  The wealth of the world's billionaires has rea...            16   \n",
              "105  David Cay Johnston: Put in historical context,...            16   \n",
              "113  According to an Economic Policy Institute stud...            28   \n",
              "117  Mayor Michael Bloomberg said income inequality...            13   \n",
              "118  East Carroll Parish, Louisiana, has the highes...            63   \n",
              "130  Featuring Scott Winship, Executive Director, J...            25   \n",
              "153  \"At her Senate confirmation hearing on Thursda...           530   \n",
              "154  \"It's pat at this point to observe that income...           575   \n",
              "156  \"Every year on the Martin Luther King Jr. holi...           587   \n",
              "161  A new poll shows that a majority of Americans ...           396   \n",
              "164  Low income and communities of color are dispro...            10   \n",
              "169  \"Latin America has long been viewed as a regio...           340   \n",
              "173  AEI visiting scholar Ed Conard explains how de...            12   \n",
              "178  ORDER NOW ON AMAZON http://tinyurl.com/hafzngz...            77   \n",
              "183  Sep.16 -- Federal Reserve Chairman Jerome Powe...            99   \n",
              "186  May nakikitang solusyon ang isang ekonomista p...            52   \n",
              "189  Via Naked Capitalism: \"...under Bush, the 1% c...           429   \n",
              "191  Stunning facts about bank bonuses on Wall Stre...           411   \n",
              "194  \"Income inequality is a real problem in this c...            35   \n",
              "196  Enrol to StudyIQ's Flagship UPSC IAS (Pre + Ma...           100   \n",
              "202  Income inequality is at a record high! Cenk Uy...           905   \n",
              "203  When it comes to income inequality, no other d...           831   \n",
              "205  Is taxing the rich truly the solution to incom...            16   \n",
              "211  Robert Rubin, Hank Paulson and Timothy Geithne...            95   \n",
              "215  Patrick Bet-David Podcast Episode 55. In this ...           250   \n",
              "221  Ben Shapiro stuns fellow panelists when he exp...          4826   \n",
              "226  Today, I'm talking about corporate and social ...            18   \n",
              "230  A recent study by Oxfam America reports that r...            86   \n",
              "233  It seems that people are increasingly concerne...            31   \n",
              "238  Study Lover Veer Official App   https://openin...           182   \n",
              "242  A passionate argument on behalf of the middle ...          4172   \n",
              "247  Enrol to StudyIQ's Flagship UPSC IAS (Pre + Ma...            15   \n",
              "252  Inequality is a natural part of the voluntary ...           805   \n",
              "265  News 03/02/2022#This is a must see for everyon...            23   \n",
              "266  Rahul Gandhi, ahead of Lok Sabha polls, pledge...            41   \n",
              "269  The world's richest country is also the most u...           706   \n",
              "271  Congress leader Rahul Gandhi announced plans f...            46   \n",
              "279  Original Source: https://www.youtube.com/watch...            21   \n",
              "295  Watch the full episode: A Documentary by The E...            15   \n",
              "298  Again, thank you very much to all who contribu...            23   \n",
              "301  The truth about the Republican party's achieve...            31   \n",
              "304  \"Exciting news for low-income and senior Ameri...            12   \n",
              "308  Note: I am not a member of nor affiliated with...            39   \n",
              "313  Breaking News: Bernie's Approved! 4th Stimulus...            13   \n",
              "\n",
              "    view_count          published_at channel_subscriber_count subtitles_text  \\\n",
              "30     1469023  2020-04-17T13:00:03Z                 28100000           None   \n",
              "34       29424  2022-02-28T16:22:14Z                  2960000           None   \n",
              "36       71527  2019-08-26T17:52:48Z                   874000           None   \n",
              "62        2776  2019-08-11T01:10:11Z                     5280           None   \n",
              "68       70781  2016-04-13T22:34:50Z                    11100           None   \n",
              "71       14002  2020-09-14T19:00:00Z                  2120000           None   \n",
              "80        3849  2019-08-14T19:34:40Z                  5740000           None   \n",
              "102       5090  2020-10-08T17:30:01Z                 13200000           None   \n",
              "105       3583  2014-01-29T18:47:54Z                   970000           None   \n",
              "113       3404  2018-07-27T15:42:30Z                  5740000           None   \n",
              "117       1612  2013-09-25T20:00:16Z                  1470000           None   \n",
              "118      26998  2013-10-30T00:36:51Z                 16200000           None   \n",
              "130       3609  2019-12-16T17:15:00Z                    97900           None   \n",
              "153      32532  2013-11-16T03:55:28Z                  5810000           None   \n",
              "154     105986  2015-04-22T05:43:55Z                  5810000           None   \n",
              "156      52314  2014-01-26T19:00:03Z                  5810000           None   \n",
              "161      22976  2011-11-11T05:51:41Z                  5810000           None   \n",
              "164       1679  2014-10-15T02:49:57Z                   970000           None   \n",
              "169      34079  2013-02-03T16:00:41Z                  5810000           None   \n",
              "173       1815  2014-05-05T22:55:38Z                   211000           None   \n",
              "178      10775  2016-02-23T17:52:35Z                   140000           None   \n",
              "183       5413  2020-09-16T20:01:12Z                  1890000           None   \n",
              "186       4539  2022-11-29T06:15:00Z                  3930000           None   \n",
              "189      32129  2012-04-14T03:35:03Z                  5810000           None   \n",
              "191      34636  2011-12-25T23:37:21Z                  5810000           None   \n",
              "194       3948  2019-11-12T00:09:08Z                  2700000           None   \n",
              "196      66110  2018-08-26T06:06:18Z                 16800000           None   \n",
              "202      40823  2019-09-29T22:00:00Z                  5810000           None   \n",
              "203      79267  2014-05-03T22:00:02Z                  5810000           None   \n",
              "205       1386  2022-03-29T16:32:31Z                    42500           None   \n",
              "211      17089  2015-10-03T05:30:01Z                  1470000           None   \n",
              "215      36046  2021-04-20T23:32:12Z                   595000           None   \n",
              "221    2164191  2022-12-11T16:00:07Z                  1630000           None   \n",
              "226       1822  2021-02-04T18:00:05Z                    15900           None   \n",
              "230       4338  2022-04-02T16:00:13Z                   899000           None   \n",
              "233      37005  2011-10-31T16:52:34Z                   711000           None   \n",
              "238      84099  2017-10-07T06:52:49Z                  1220000           None   \n",
              "242       None  2020-11-11T21:03:27Z                   334000           None   \n",
              "247      42161  2022-09-27T10:55:19Z                 16800000           None   \n",
              "252     419342  2020-04-09T13:29:46Z                  1630000           None   \n",
              "265       7187  2022-02-03T20:54:54Z                       11           None   \n",
              "266       2340  2024-04-08T17:43:40Z                   965000           None   \n",
              "269     143076  2022-05-06T23:00:00Z                   595000           None   \n",
              "271       1534  2024-04-08T15:32:17Z                   965000           None   \n",
              "279       4351  2018-02-16T15:49:13Z                     9870           None   \n",
              "295       1189  2022-10-20T21:53:27Z                   573000           None   \n",
              "298       1795  2024-04-08T14:17:50Z                   414000           None   \n",
              "301       7059  2024-02-14T03:15:00Z                   182000           None   \n",
              "304        962  2024-04-08T20:30:01Z                     6450           None   \n",
              "308       3890  2024-04-04T19:36:56Z                   414000           None   \n",
              "313        411  2024-04-08T23:30:05Z                    16400           None   \n",
              "\n",
              "    cleaned_subtitles  \n",
              "30               None  \n",
              "34               None  \n",
              "36               None  \n",
              "62               None  \n",
              "68               None  \n",
              "71               None  \n",
              "80               None  \n",
              "102              None  \n",
              "105              None  \n",
              "113              None  \n",
              "117              None  \n",
              "118              None  \n",
              "130              None  \n",
              "153              None  \n",
              "154              None  \n",
              "156              None  \n",
              "161              None  \n",
              "164              None  \n",
              "169              None  \n",
              "173              None  \n",
              "178              None  \n",
              "183              None  \n",
              "186              None  \n",
              "189              None  \n",
              "191              None  \n",
              "194              None  \n",
              "196              None  \n",
              "202              None  \n",
              "203              None  \n",
              "205              None  \n",
              "211              None  \n",
              "215              None  \n",
              "221              None  \n",
              "226              None  \n",
              "230              None  \n",
              "233              None  \n",
              "238              None  \n",
              "242              None  \n",
              "247              None  \n",
              "252              None  \n",
              "265              None  \n",
              "266              None  \n",
              "269              None  \n",
              "271              None  \n",
              "279              None  \n",
              "295              None  \n",
              "298              None  \n",
              "301              None  \n",
              "304              None  \n",
              "308              None  \n",
              "313              None  "
            ],
            "text/html": [
              "\n",
              "  <div id=\"df-220913ee-0e97-40c6-a4c4-49bf4b1f499a\" class=\"colab-df-container\">\n",
              "    <div>\n",
              "<style scoped>\n",
              "    .dataframe tbody tr th:only-of-type {\n",
              "        vertical-align: middle;\n",
              "    }\n",
              "\n",
              "    .dataframe tbody tr th {\n",
              "        vertical-align: top;\n",
              "    }\n",
              "\n",
              "    .dataframe thead th {\n",
              "        text-align: right;\n",
              "    }\n",
              "</style>\n",
              "<table border=\"1\" class=\"dataframe\">\n",
              "  <thead>\n",
              "    <tr style=\"text-align: right;\">\n",
              "      <th></th>\n",
              "      <th>title</th>\n",
              "      <th>video_id</th>\n",
              "      <th>description</th>\n",
              "      <th>comment_count</th>\n",
              "      <th>view_count</th>\n",
              "      <th>published_at</th>\n",
              "      <th>channel_subscriber_count</th>\n",
              "      <th>subtitles_text</th>\n",
              "      <th>cleaned_subtitles</th>\n",
              "    </tr>\n",
              "  </thead>\n",
              "  <tbody>\n",
              "    <tr>\n",
              "      <th>30</th>\n",
              "      <td>Explained | Racial Wealth Gap | FULL EPISODE |...</td>\n",
              "      <td>Mqrhn8khGLM</td>\n",
              "      <td>In partnership with Vox Media Studios and Vox,...</td>\n",
              "      <td>2861</td>\n",
              "      <td>1469023</td>\n",
              "      <td>2020-04-17T13:00:03Z</td>\n",
              "      <td>28100000</td>\n",
              "      <td>None</td>\n",
              "      <td>None</td>\n",
              "    </tr>\n",
              "    <tr>\n",
              "      <th>34</th>\n",
              "      <td>Understanding Wealth Inequality</td>\n",
              "      <td>6c21XMMH5Vg</td>\n",
              "      <td>We've talked about public goods and externalit...</td>\n",
              "      <td>412</td>\n",
              "      <td>29424</td>\n",
              "      <td>2022-02-28T16:22:14Z</td>\n",
              "      <td>2960000</td>\n",
              "      <td>None</td>\n",
              "      <td>None</td>\n",
              "    </tr>\n",
              "    <tr>\n",
              "      <th>36</th>\n",
              "      <td>EconMovies #17- Endgame</td>\n",
              "      <td>CHReFKy_Mi4</td>\n",
              "      <td>Hey internet, this is Jacob Clifford. Avengers...</td>\n",
              "      <td>96</td>\n",
              "      <td>71527</td>\n",
              "      <td>2019-08-26T17:52:48Z</td>\n",
              "      <td>874000</td>\n",
              "      <td>None</td>\n",
              "      <td>None</td>\n",
              "    </tr>\n",
              "    <tr>\n",
              "      <th>62</th>\n",
              "      <td>The economics of income inequality</td>\n",
              "      <td>hGHN9u5d5vQ</td>\n",
              "      <td>Corey Packer and Antony Davies discuss topics ...</td>\n",
              "      <td>22</td>\n",
              "      <td>2776</td>\n",
              "      <td>2019-08-11T01:10:11Z</td>\n",
              "      <td>5280</td>\n",
              "      <td>None</td>\n",
              "      <td>None</td>\n",
              "    </tr>\n",
              "    <tr>\n",
              "      <th>68</th>\n",
              "      <td>Fairness for Children - Income and Education I...</td>\n",
              "      <td>VLDMPg5op28</td>\n",
              "      <td>The latest Innocenti Report Card raises concer...</td>\n",
              "      <td>18</td>\n",
              "      <td>70781</td>\n",
              "      <td>2016-04-13T22:34:50Z</td>\n",
              "      <td>11100</td>\n",
              "      <td>None</td>\n",
              "      <td>None</td>\n",
              "    </tr>\n",
              "    <tr>\n",
              "      <th>71</th>\n",
              "      <td>How to Actually Fix Income Inequality</td>\n",
              "      <td>3eMj1kskVTY</td>\n",
              "      <td>Audience Question: How do we fix income inequa...</td>\n",
              "      <td>194</td>\n",
              "      <td>14002</td>\n",
              "      <td>2020-09-14T19:00:00Z</td>\n",
              "      <td>2120000</td>\n",
              "      <td>None</td>\n",
              "      <td>None</td>\n",
              "    </tr>\n",
              "    <tr>\n",
              "      <th>80</th>\n",
              "      <td>Income inequality is causing poor and middle-c...</td>\n",
              "      <td>t-Q-EZ42FCg</td>\n",
              "      <td>With some parents spending as much as $35000 a...</td>\n",
              "      <td>51</td>\n",
              "      <td>3849</td>\n",
              "      <td>2019-08-14T19:34:40Z</td>\n",
              "      <td>5740000</td>\n",
              "      <td>None</td>\n",
              "      <td>None</td>\n",
              "    </tr>\n",
              "    <tr>\n",
              "      <th>102</th>\n",
              "      <td>Can widening income inequality ever be bridged...</td>\n",
              "      <td>Xel4L2c1tbQ</td>\n",
              "      <td>The wealth of the world's billionaires has rea...</td>\n",
              "      <td>16</td>\n",
              "      <td>5090</td>\n",
              "      <td>2020-10-08T17:30:01Z</td>\n",
              "      <td>13200000</td>\n",
              "      <td>None</td>\n",
              "      <td>None</td>\n",
              "    </tr>\n",
              "    <tr>\n",
              "      <th>105</th>\n",
              "      <td>Obama&amp;#39;s Address Fails to Look at Roots of ...</td>\n",
              "      <td>s3adl8FAYng</td>\n",
              "      <td>David Cay Johnston: Put in historical context,...</td>\n",
              "      <td>16</td>\n",
              "      <td>3583</td>\n",
              "      <td>2014-01-29T18:47:54Z</td>\n",
              "      <td>970000</td>\n",
              "      <td>None</td>\n",
              "      <td>None</td>\n",
              "    </tr>\n",
              "    <tr>\n",
              "      <th>113</th>\n",
              "      <td>America is nearing peak income inequality</td>\n",
              "      <td>Lc9Tz_6EVH4</td>\n",
              "      <td>According to an Economic Policy Institute stud...</td>\n",
              "      <td>28</td>\n",
              "      <td>3404</td>\n",
              "      <td>2018-07-27T15:42:30Z</td>\n",
              "      <td>5740000</td>\n",
              "      <td>None</td>\n",
              "      <td>None</td>\n",
              "    </tr>\n",
              "    <tr>\n",
              "      <th>117</th>\n",
              "      <td>Bloomberg: Income Inequality is Great!</td>\n",
              "      <td>pG9iJ2_fqzE</td>\n",
              "      <td>Mayor Michael Bloomberg said income inequality...</td>\n",
              "      <td>13</td>\n",
              "      <td>1612</td>\n",
              "      <td>2013-09-25T20:00:16Z</td>\n",
              "      <td>1470000</td>\n",
              "      <td>None</td>\n",
              "      <td>None</td>\n",
              "    </tr>\n",
              "    <tr>\n",
              "      <th>118</th>\n",
              "      <td>Income Inequality in America: Across Lake Prov...</td>\n",
              "      <td>TtwsPx7MST0</td>\n",
              "      <td>East Carroll Parish, Louisiana, has the highes...</td>\n",
              "      <td>63</td>\n",
              "      <td>26998</td>\n",
              "      <td>2013-10-30T00:36:51Z</td>\n",
              "      <td>16200000</td>\n",
              "      <td>None</td>\n",
              "      <td>None</td>\n",
              "    </tr>\n",
              "    <tr>\n",
              "      <th>130</th>\n",
              "      <td>Exploring Income and Wealth Inequality</td>\n",
              "      <td>kKKyDz4FPno</td>\n",
              "      <td>Featuring Scott Winship, Executive Director, J...</td>\n",
              "      <td>25</td>\n",
              "      <td>3609</td>\n",
              "      <td>2019-12-16T17:15:00Z</td>\n",
              "      <td>97900</td>\n",
              "      <td>None</td>\n",
              "      <td>None</td>\n",
              "    </tr>\n",
              "    <tr>\n",
              "      <th>153</th>\n",
              "      <td>Income Inequality Targeted By Incoming Fed Chair</td>\n",
              "      <td>VVRVHd_QqkQ</td>\n",
              "      <td>\"At her Senate confirmation hearing on Thursda...</td>\n",
              "      <td>530</td>\n",
              "      <td>32532</td>\n",
              "      <td>2013-11-16T03:55:28Z</td>\n",
              "      <td>5810000</td>\n",
              "      <td>None</td>\n",
              "      <td>None</td>\n",
              "    </tr>\n",
              "    <tr>\n",
              "      <th>154</th>\n",
              "      <td>O&amp;#39;Reilly: There&amp;#39;s No Income Inequality...</td>\n",
              "      <td>VE7-yPb213o</td>\n",
              "      <td>\"It's pat at this point to observe that income...</td>\n",
              "      <td>575</td>\n",
              "      <td>105986</td>\n",
              "      <td>2015-04-22T05:43:55Z</td>\n",
              "      <td>5810000</td>\n",
              "      <td>None</td>\n",
              "      <td>None</td>\n",
              "    </tr>\n",
              "    <tr>\n",
              "      <th>156</th>\n",
              "      <td>Stunning Facts About Income Inequality That Ar...</td>\n",
              "      <td>io-aSa7OLz0</td>\n",
              "      <td>\"Every year on the Martin Luther King Jr. holi...</td>\n",
              "      <td>587</td>\n",
              "      <td>52314</td>\n",
              "      <td>2014-01-26T19:00:03Z</td>\n",
              "      <td>5810000</td>\n",
              "      <td>None</td>\n",
              "      <td>None</td>\n",
              "    </tr>\n",
              "    <tr>\n",
              "      <th>161</th>\n",
              "      <td>Poll: Govt Should Fight Income Inequality</td>\n",
              "      <td>ArDSFKluReY</td>\n",
              "      <td>A new poll shows that a majority of Americans ...</td>\n",
              "      <td>396</td>\n",
              "      <td>22976</td>\n",
              "      <td>2011-11-11T05:51:41Z</td>\n",
              "      <td>5810000</td>\n",
              "      <td>None</td>\n",
              "      <td>None</td>\n",
              "    </tr>\n",
              "    <tr>\n",
              "      <th>164</th>\n",
              "      <td>Pollution Inequality &amp;amp; Income Inequality</td>\n",
              "      <td>B4R2vQVwQMw</td>\n",
              "      <td>Low income and communities of color are dispro...</td>\n",
              "      <td>10</td>\n",
              "      <td>1679</td>\n",
              "      <td>2014-10-15T02:49:57Z</td>\n",
              "      <td>970000</td>\n",
              "      <td>None</td>\n",
              "      <td>None</td>\n",
              "    </tr>\n",
              "    <tr>\n",
              "      <th>169</th>\n",
              "      <td>U.S. Income Inequality - Worse Than Latin Amer...</td>\n",
              "      <td>rV8diRk_A2A</td>\n",
              "      <td>\"Latin America has long been viewed as a regio...</td>\n",
              "      <td>340</td>\n",
              "      <td>34079</td>\n",
              "      <td>2013-02-03T16:00:41Z</td>\n",
              "      <td>5810000</td>\n",
              "      <td>None</td>\n",
              "      <td>None</td>\n",
              "    </tr>\n",
              "    <tr>\n",
              "      <th>173</th>\n",
              "      <td>Edward Conard on the 1% and income inequality</td>\n",
              "      <td>aNBNAecilB0</td>\n",
              "      <td>AEI visiting scholar Ed Conard explains how de...</td>\n",
              "      <td>12</td>\n",
              "      <td>1815</td>\n",
              "      <td>2014-05-05T22:55:38Z</td>\n",
              "      <td>211000</td>\n",
              "      <td>None</td>\n",
              "      <td>None</td>\n",
              "    </tr>\n",
              "    <tr>\n",
              "      <th>178</th>\n",
              "      <td>Equal Is Unfair: America&amp;#39;s Misguided Fight...</td>\n",
              "      <td>vDvqK5X6LFg</td>\n",
              "      <td>ORDER NOW ON AMAZON http://tinyurl.com/hafzngz...</td>\n",
              "      <td>77</td>\n",
              "      <td>10775</td>\n",
              "      <td>2016-02-23T17:52:35Z</td>\n",
              "      <td>140000</td>\n",
              "      <td>None</td>\n",
              "      <td>None</td>\n",
              "    </tr>\n",
              "    <tr>\n",
              "      <th>183</th>\n",
              "      <td>Income Inequality Holds Back Economy Says Fed ...</td>\n",
              "      <td>VmOS4MnloUE</td>\n",
              "      <td>Sep.16 -- Federal Reserve Chairman Jerome Powe...</td>\n",
              "      <td>99</td>\n",
              "      <td>5413</td>\n",
              "      <td>2020-09-16T20:01:12Z</td>\n",
              "      <td>1890000</td>\n",
              "      <td>None</td>\n",
              "      <td>None</td>\n",
              "    </tr>\n",
              "    <tr>\n",
              "      <th>186</th>\n",
              "      <td>Pagtataas ng buwis sa upper-middle class, naki...</td>\n",
              "      <td>CltkoRJ91Sg</td>\n",
              "      <td>May nakikitang solusyon ang isang ekonomista p...</td>\n",
              "      <td>52</td>\n",
              "      <td>4539</td>\n",
              "      <td>2022-11-29T06:15:00Z</td>\n",
              "      <td>3930000</td>\n",
              "      <td>None</td>\n",
              "      <td>None</td>\n",
              "    </tr>\n",
              "    <tr>\n",
              "      <th>189</th>\n",
              "      <td>Obama Vs Bush On Income Inequality Growth</td>\n",
              "      <td>fPQNwM7n-l0</td>\n",
              "      <td>Via Naked Capitalism: \"...under Bush, the 1% c...</td>\n",
              "      <td>429</td>\n",
              "      <td>32129</td>\n",
              "      <td>2012-04-14T03:35:03Z</td>\n",
              "      <td>5810000</td>\n",
              "      <td>None</td>\n",
              "      <td>None</td>\n",
              "    </tr>\n",
              "    <tr>\n",
              "      <th>191</th>\n",
              "      <td>Crazy Facts On Income Inequality, Bank Bonuses</td>\n",
              "      <td>ikK1Cv68d64</td>\n",
              "      <td>Stunning facts about bank bonuses on Wall Stre...</td>\n",
              "      <td>411</td>\n",
              "      <td>34636</td>\n",
              "      <td>2011-12-25T23:37:21Z</td>\n",
              "      <td>5810000</td>\n",
              "      <td>None</td>\n",
              "      <td>None</td>\n",
              "    </tr>\n",
              "    <tr>\n",
              "      <th>194</th>\n",
              "      <td>The problem with income inequality is not CEO ...</td>\n",
              "      <td>AYjhtO8ccmU</td>\n",
              "      <td>\"Income inequality is a real problem in this c...</td>\n",
              "      <td>35</td>\n",
              "      <td>3948</td>\n",
              "      <td>2019-11-12T00:09:08Z</td>\n",
              "      <td>2700000</td>\n",
              "      <td>None</td>\n",
              "      <td>None</td>\n",
              "    </tr>\n",
              "    <tr>\n",
              "      <th>196</th>\n",
              "      <td>Income Inequality in India, Widening gap betwe...</td>\n",
              "      <td>qFly_WLpi_I</td>\n",
              "      <td>Enrol to StudyIQ's Flagship UPSC IAS (Pre + Ma...</td>\n",
              "      <td>100</td>\n",
              "      <td>66110</td>\n",
              "      <td>2018-08-26T06:06:18Z</td>\n",
              "      <td>16800000</td>\n",
              "      <td>None</td>\n",
              "      <td>None</td>\n",
              "    </tr>\n",
              "    <tr>\n",
              "      <th>202</th>\n",
              "      <td>REPORT: Income Inequality At Record High</td>\n",
              "      <td>0YHsuBrkJo8</td>\n",
              "      <td>Income inequality is at a record high! Cenk Uy...</td>\n",
              "      <td>905</td>\n",
              "      <td>40823</td>\n",
              "      <td>2019-09-29T22:00:00Z</td>\n",
              "      <td>5810000</td>\n",
              "      <td>None</td>\n",
              "      <td>None</td>\n",
              "    </tr>\n",
              "    <tr>\n",
              "      <th>203</th>\n",
              "      <td>America Is NUMBER ONE...In Income Inequality</td>\n",
              "      <td>GmPZCgT-Zp4</td>\n",
              "      <td>When it comes to income inequality, no other d...</td>\n",
              "      <td>831</td>\n",
              "      <td>79267</td>\n",
              "      <td>2014-05-03T22:00:02Z</td>\n",
              "      <td>5810000</td>\n",
              "      <td>None</td>\n",
              "      <td>None</td>\n",
              "    </tr>\n",
              "    <tr>\n",
              "      <th>205</th>\n",
              "      <td>Debunking Income Inequality | Phil Magness &amp;am...</td>\n",
              "      <td>DN77ALgpJEY</td>\n",
              "      <td>Is taxing the rich truly the solution to incom...</td>\n",
              "      <td>16</td>\n",
              "      <td>1386</td>\n",
              "      <td>2022-03-29T16:32:31Z</td>\n",
              "      <td>42500</td>\n",
              "      <td>None</td>\n",
              "      <td>None</td>\n",
              "    </tr>\n",
              "    <tr>\n",
              "      <th>211</th>\n",
              "      <td>Watch These One Percenters Laugh About Income ...</td>\n",
              "      <td>p7UNJryA8os</td>\n",
              "      <td>Robert Rubin, Hank Paulson and Timothy Geithne...</td>\n",
              "      <td>95</td>\n",
              "      <td>17089</td>\n",
              "      <td>2015-10-03T05:30:01Z</td>\n",
              "      <td>1470000</td>\n",
              "      <td>None</td>\n",
              "      <td>None</td>\n",
              "    </tr>\n",
              "    <tr>\n",
              "      <th>215</th>\n",
              "      <td>Reaction to Income Inequality in the World</td>\n",
              "      <td>5gyaZokuueY</td>\n",
              "      <td>Patrick Bet-David Podcast Episode 55. In this ...</td>\n",
              "      <td>250</td>\n",
              "      <td>36046</td>\n",
              "      <td>2021-04-20T23:32:12Z</td>\n",
              "      <td>595000</td>\n",
              "      <td>None</td>\n",
              "      <td>None</td>\n",
              "    </tr>\n",
              "    <tr>\n",
              "      <th>221</th>\n",
              "      <td>Ben Shapiro DEBUNKS Leftist&amp;#39;s Economic Ine...</td>\n",
              "      <td>GLmIXdzw18c</td>\n",
              "      <td>Ben Shapiro stuns fellow panelists when he exp...</td>\n",
              "      <td>4826</td>\n",
              "      <td>2164191</td>\n",
              "      <td>2022-12-11T16:00:07Z</td>\n",
              "      <td>1630000</td>\n",
              "      <td>None</td>\n",
              "      <td>None</td>\n",
              "    </tr>\n",
              "    <tr>\n",
              "      <th>226</th>\n",
              "      <td>Should Billionaires Exist? | Corporate respons...</td>\n",
              "      <td>TBxvGeYXpPw</td>\n",
              "      <td>Today, I'm talking about corporate and social ...</td>\n",
              "      <td>18</td>\n",
              "      <td>1822</td>\n",
              "      <td>2021-02-04T18:00:05Z</td>\n",
              "      <td>15900</td>\n",
              "      <td>None</td>\n",
              "      <td>None</td>\n",
              "    </tr>\n",
              "    <tr>\n",
              "      <th>230</th>\n",
              "      <td>REPORT: Top 1% Maintains CRUSHING Income Inequ...</td>\n",
              "      <td>ZHBVFgGNXu4</td>\n",
              "      <td>A recent study by Oxfam America reports that r...</td>\n",
              "      <td>86</td>\n",
              "      <td>4338</td>\n",
              "      <td>2022-04-02T16:00:13Z</td>\n",
              "      <td>899000</td>\n",
              "      <td>None</td>\n",
              "      <td>None</td>\n",
              "    </tr>\n",
              "    <tr>\n",
              "      <th>233</th>\n",
              "      <td>Stuff From the Future - What is the future of ...</td>\n",
              "      <td>ZV148rR35dQ</td>\n",
              "      <td>It seems that people are increasingly concerne...</td>\n",
              "      <td>31</td>\n",
              "      <td>37005</td>\n",
              "      <td>2011-10-31T16:52:34Z</td>\n",
              "      <td>711000</td>\n",
              "      <td>None</td>\n",
              "      <td>None</td>\n",
              "    </tr>\n",
              "    <tr>\n",
              "      <th>238</th>\n",
              "      <td>Lorenz Curve | Gini Coefficient or Gini Ratio ...</td>\n",
              "      <td>E7Td8ZJpjf4</td>\n",
              "      <td>Study Lover Veer Official App   https://openin...</td>\n",
              "      <td>182</td>\n",
              "      <td>84099</td>\n",
              "      <td>2017-10-07T06:52:49Z</td>\n",
              "      <td>1220000</td>\n",
              "      <td>None</td>\n",
              "      <td>None</td>\n",
              "    </tr>\n",
              "    <tr>\n",
              "      <th>242</th>\n",
              "      <td>Inequality for All</td>\n",
              "      <td>zvAFPHLFMa0</td>\n",
              "      <td>A passionate argument on behalf of the middle ...</td>\n",
              "      <td>4172</td>\n",
              "      <td>None</td>\n",
              "      <td>2020-11-11T21:03:27Z</td>\n",
              "      <td>334000</td>\n",
              "      <td>None</td>\n",
              "      <td>None</td>\n",
              "    </tr>\n",
              "    <tr>\n",
              "      <th>247</th>\n",
              "      <td>Chapter 21- Inequality and Poverty | UPSC GS -...</td>\n",
              "      <td>DxYqtgK-9ps</td>\n",
              "      <td>Enrol to StudyIQ's Flagship UPSC IAS (Pre + Ma...</td>\n",
              "      <td>15</td>\n",
              "      <td>42161</td>\n",
              "      <td>2022-09-27T10:55:19Z</td>\n",
              "      <td>16800000</td>\n",
              "      <td>None</td>\n",
              "      <td>None</td>\n",
              "    </tr>\n",
              "    <tr>\n",
              "      <th>252</th>\n",
              "      <td>D’Souza SLAMS leftist view of income inequalit...</td>\n",
              "      <td>wmUernr96FM</td>\n",
              "      <td>Inequality is a natural part of the voluntary ...</td>\n",
              "      <td>805</td>\n",
              "      <td>419342</td>\n",
              "      <td>2020-04-09T13:29:46Z</td>\n",
              "      <td>1630000</td>\n",
              "      <td>None</td>\n",
              "      <td>None</td>\n",
              "    </tr>\n",
              "    <tr>\n",
              "      <th>265</th>\n",
              "      <td>New 2022#Wealth Inequality in America</td>\n",
              "      <td>TOxuip4f7TQ</td>\n",
              "      <td>News 03/02/2022#This is a must see for everyon...</td>\n",
              "      <td>23</td>\n",
              "      <td>7187</td>\n",
              "      <td>2022-02-03T20:54:54Z</td>\n",
              "      <td>11</td>\n",
              "      <td>None</td>\n",
              "      <td>None</td>\n",
              "    </tr>\n",
              "    <tr>\n",
              "      <th>266</th>\n",
              "      <td>Rahul Vows Caste Quotas &amp;amp; Wealth Redistrib...</td>\n",
              "      <td>DPaNubPzSGo</td>\n",
              "      <td>Rahul Gandhi, ahead of Lok Sabha polls, pledge...</td>\n",
              "      <td>41</td>\n",
              "      <td>2340</td>\n",
              "      <td>2024-04-08T17:43:40Z</td>\n",
              "      <td>965000</td>\n",
              "      <td>None</td>\n",
              "      <td>None</td>\n",
              "    </tr>\n",
              "    <tr>\n",
              "      <th>269</th>\n",
              "      <td>25 Facts About Income Inequality In America Th...</td>\n",
              "      <td>0aEhoGkEiQM</td>\n",
              "      <td>The world's richest country is also the most u...</td>\n",
              "      <td>706</td>\n",
              "      <td>143076</td>\n",
              "      <td>2022-05-06T23:00:00Z</td>\n",
              "      <td>595000</td>\n",
              "      <td>None</td>\n",
              "      <td>None</td>\n",
              "    </tr>\n",
              "    <tr>\n",
              "      <th>271</th>\n",
              "      <td>Rahul Promises Wealth Survey | Is This Common ...</td>\n",
              "      <td>O8MklgkxyRk</td>\n",
              "      <td>Congress leader Rahul Gandhi announced plans f...</td>\n",
              "      <td>46</td>\n",
              "      <td>1534</td>\n",
              "      <td>2024-04-08T15:32:17Z</td>\n",
              "      <td>965000</td>\n",
              "      <td>None</td>\n",
              "      <td>None</td>\n",
              "    </tr>\n",
              "    <tr>\n",
              "      <th>279</th>\n",
              "      <td>Jordan Peterson &amp;amp; Russell Brand - Solving ...</td>\n",
              "      <td>-Jc_PsxYYhI</td>\n",
              "      <td>Original Source: https://www.youtube.com/watch...</td>\n",
              "      <td>21</td>\n",
              "      <td>4351</td>\n",
              "      <td>2018-02-16T15:49:13Z</td>\n",
              "      <td>9870</td>\n",
              "      <td>None</td>\n",
              "      <td>None</td>\n",
              "    </tr>\n",
              "    <tr>\n",
              "      <th>295</th>\n",
              "      <td>LIVE: Exposing the Myth of American Income Ine...</td>\n",
              "      <td>E8MV51q4C78</td>\n",
              "      <td>Watch the full episode: A Documentary by The E...</td>\n",
              "      <td>15</td>\n",
              "      <td>1189</td>\n",
              "      <td>2022-10-20T21:53:27Z</td>\n",
              "      <td>573000</td>\n",
              "      <td>None</td>\n",
              "      <td>None</td>\n",
              "    </tr>\n",
              "    <tr>\n",
              "      <th>298</th>\n",
              "      <td>From Crying to Joy of Happiness. We Sure Made ...</td>\n",
              "      <td>Hi5OCwznKsA</td>\n",
              "      <td>Again, thank you very much to all who contribu...</td>\n",
              "      <td>23</td>\n",
              "      <td>1795</td>\n",
              "      <td>2024-04-08T14:17:50Z</td>\n",
              "      <td>414000</td>\n",
              "      <td>None</td>\n",
              "      <td>None</td>\n",
              "    </tr>\n",
              "    <tr>\n",
              "      <th>301</th>\n",
              "      <td>Mike Johnson Accomplished One Thing! Discover ...</td>\n",
              "      <td>2dHO6IopRs8</td>\n",
              "      <td>The truth about the Republican party's achieve...</td>\n",
              "      <td>31</td>\n",
              "      <td>7059</td>\n",
              "      <td>2024-02-14T03:15:00Z</td>\n",
              "      <td>182000</td>\n",
              "      <td>None</td>\n",
              "      <td>None</td>\n",
              "    </tr>\n",
              "    <tr>\n",
              "      <th>304</th>\n",
              "      <td>Finally! $2000 Stimulus Checks Hitting Banks T...</td>\n",
              "      <td>1ZIQbXhr1wU</td>\n",
              "      <td>\"Exciting news for low-income and senior Ameri...</td>\n",
              "      <td>12</td>\n",
              "      <td>962</td>\n",
              "      <td>2024-04-08T20:30:01Z</td>\n",
              "      <td>6450</td>\n",
              "      <td>None</td>\n",
              "      <td>None</td>\n",
              "    </tr>\n",
              "    <tr>\n",
              "      <th>308</th>\n",
              "      <td>This Filipina has Bone Cancer and She&amp;#39;s in...</td>\n",
              "      <td>lf5cGFA8ztY</td>\n",
              "      <td>Note: I am not a member of nor affiliated with...</td>\n",
              "      <td>39</td>\n",
              "      <td>3890</td>\n",
              "      <td>2024-04-04T19:36:56Z</td>\n",
              "      <td>414000</td>\n",
              "      <td>None</td>\n",
              "      <td>None</td>\n",
              "    </tr>\n",
              "    <tr>\n",
              "      <th>313</th>\n",
              "      <td>BERNIE&amp;#39;S APPROVED !! 4TH STIMULUS CHECK !!...</td>\n",
              "      <td>FVEe9s5yQ9w</td>\n",
              "      <td>Breaking News: Bernie's Approved! 4th Stimulus...</td>\n",
              "      <td>13</td>\n",
              "      <td>411</td>\n",
              "      <td>2024-04-08T23:30:05Z</td>\n",
              "      <td>16400</td>\n",
              "      <td>None</td>\n",
              "      <td>None</td>\n",
              "    </tr>\n",
              "  </tbody>\n",
              "</table>\n",
              "</div>\n",
              "    <div class=\"colab-df-buttons\">\n",
              "\n",
              "  <div class=\"colab-df-container\">\n",
              "    <button class=\"colab-df-convert\" onclick=\"convertToInteractive('df-220913ee-0e97-40c6-a4c4-49bf4b1f499a')\"\n",
              "            title=\"Convert this dataframe to an interactive table.\"\n",
              "            style=\"display:none;\">\n",
              "\n",
              "  <svg xmlns=\"http://www.w3.org/2000/svg\" height=\"24px\" viewBox=\"0 -960 960 960\">\n",
              "    <path d=\"M120-120v-720h720v720H120Zm60-500h600v-160H180v160Zm220 220h160v-160H400v160Zm0 220h160v-160H400v160ZM180-400h160v-160H180v160Zm440 0h160v-160H620v160ZM180-180h160v-160H180v160Zm440 0h160v-160H620v160Z\"/>\n",
              "  </svg>\n",
              "    </button>\n",
              "\n",
              "  <style>\n",
              "    .colab-df-container {\n",
              "      display:flex;\n",
              "      gap: 12px;\n",
              "    }\n",
              "\n",
              "    .colab-df-convert {\n",
              "      background-color: #E8F0FE;\n",
              "      border: none;\n",
              "      border-radius: 50%;\n",
              "      cursor: pointer;\n",
              "      display: none;\n",
              "      fill: #1967D2;\n",
              "      height: 32px;\n",
              "      padding: 0 0 0 0;\n",
              "      width: 32px;\n",
              "    }\n",
              "\n",
              "    .colab-df-convert:hover {\n",
              "      background-color: #E2EBFA;\n",
              "      box-shadow: 0px 1px 2px rgba(60, 64, 67, 0.3), 0px 1px 3px 1px rgba(60, 64, 67, 0.15);\n",
              "      fill: #174EA6;\n",
              "    }\n",
              "\n",
              "    .colab-df-buttons div {\n",
              "      margin-bottom: 4px;\n",
              "    }\n",
              "\n",
              "    [theme=dark] .colab-df-convert {\n",
              "      background-color: #3B4455;\n",
              "      fill: #D2E3FC;\n",
              "    }\n",
              "\n",
              "    [theme=dark] .colab-df-convert:hover {\n",
              "      background-color: #434B5C;\n",
              "      box-shadow: 0px 1px 3px 1px rgba(0, 0, 0, 0.15);\n",
              "      filter: drop-shadow(0px 1px 2px rgba(0, 0, 0, 0.3));\n",
              "      fill: #FFFFFF;\n",
              "    }\n",
              "  </style>\n",
              "\n",
              "    <script>\n",
              "      const buttonEl =\n",
              "        document.querySelector('#df-220913ee-0e97-40c6-a4c4-49bf4b1f499a button.colab-df-convert');\n",
              "      buttonEl.style.display =\n",
              "        google.colab.kernel.accessAllowed ? 'block' : 'none';\n",
              "\n",
              "      async function convertToInteractive(key) {\n",
              "        const element = document.querySelector('#df-220913ee-0e97-40c6-a4c4-49bf4b1f499a');\n",
              "        const dataTable =\n",
              "          await google.colab.kernel.invokeFunction('convertToInteractive',\n",
              "                                                    [key], {});\n",
              "        if (!dataTable) return;\n",
              "\n",
              "        const docLinkHtml = 'Like what you see? Visit the ' +\n",
              "          '<a target=\"_blank\" href=https://colab.research.google.com/notebooks/data_table.ipynb>data table notebook</a>'\n",
              "          + ' to learn more about interactive tables.';\n",
              "        element.innerHTML = '';\n",
              "        dataTable['output_type'] = 'display_data';\n",
              "        await google.colab.output.renderOutput(dataTable, element);\n",
              "        const docLink = document.createElement('div');\n",
              "        docLink.innerHTML = docLinkHtml;\n",
              "        element.appendChild(docLink);\n",
              "      }\n",
              "    </script>\n",
              "  </div>\n",
              "\n",
              "\n",
              "<div id=\"df-9ab0fa3f-f42c-49e1-9339-e7ece4fa4555\">\n",
              "  <button class=\"colab-df-quickchart\" onclick=\"quickchart('df-9ab0fa3f-f42c-49e1-9339-e7ece4fa4555')\"\n",
              "            title=\"Suggest charts\"\n",
              "            style=\"display:none;\">\n",
              "\n",
              "<svg xmlns=\"http://www.w3.org/2000/svg\" height=\"24px\"viewBox=\"0 0 24 24\"\n",
              "     width=\"24px\">\n",
              "    <g>\n",
              "        <path d=\"M19 3H5c-1.1 0-2 .9-2 2v14c0 1.1.9 2 2 2h14c1.1 0 2-.9 2-2V5c0-1.1-.9-2-2-2zM9 17H7v-7h2v7zm4 0h-2V7h2v10zm4 0h-2v-4h2v4z\"/>\n",
              "    </g>\n",
              "</svg>\n",
              "  </button>\n",
              "\n",
              "<style>\n",
              "  .colab-df-quickchart {\n",
              "      --bg-color: #E8F0FE;\n",
              "      --fill-color: #1967D2;\n",
              "      --hover-bg-color: #E2EBFA;\n",
              "      --hover-fill-color: #174EA6;\n",
              "      --disabled-fill-color: #AAA;\n",
              "      --disabled-bg-color: #DDD;\n",
              "  }\n",
              "\n",
              "  [theme=dark] .colab-df-quickchart {\n",
              "      --bg-color: #3B4455;\n",
              "      --fill-color: #D2E3FC;\n",
              "      --hover-bg-color: #434B5C;\n",
              "      --hover-fill-color: #FFFFFF;\n",
              "      --disabled-bg-color: #3B4455;\n",
              "      --disabled-fill-color: #666;\n",
              "  }\n",
              "\n",
              "  .colab-df-quickchart {\n",
              "    background-color: var(--bg-color);\n",
              "    border: none;\n",
              "    border-radius: 50%;\n",
              "    cursor: pointer;\n",
              "    display: none;\n",
              "    fill: var(--fill-color);\n",
              "    height: 32px;\n",
              "    padding: 0;\n",
              "    width: 32px;\n",
              "  }\n",
              "\n",
              "  .colab-df-quickchart:hover {\n",
              "    background-color: var(--hover-bg-color);\n",
              "    box-shadow: 0 1px 2px rgba(60, 64, 67, 0.3), 0 1px 3px 1px rgba(60, 64, 67, 0.15);\n",
              "    fill: var(--button-hover-fill-color);\n",
              "  }\n",
              "\n",
              "  .colab-df-quickchart-complete:disabled,\n",
              "  .colab-df-quickchart-complete:disabled:hover {\n",
              "    background-color: var(--disabled-bg-color);\n",
              "    fill: var(--disabled-fill-color);\n",
              "    box-shadow: none;\n",
              "  }\n",
              "\n",
              "  .colab-df-spinner {\n",
              "    border: 2px solid var(--fill-color);\n",
              "    border-color: transparent;\n",
              "    border-bottom-color: var(--fill-color);\n",
              "    animation:\n",
              "      spin 1s steps(1) infinite;\n",
              "  }\n",
              "\n",
              "  @keyframes spin {\n",
              "    0% {\n",
              "      border-color: transparent;\n",
              "      border-bottom-color: var(--fill-color);\n",
              "      border-left-color: var(--fill-color);\n",
              "    }\n",
              "    20% {\n",
              "      border-color: transparent;\n",
              "      border-left-color: var(--fill-color);\n",
              "      border-top-color: var(--fill-color);\n",
              "    }\n",
              "    30% {\n",
              "      border-color: transparent;\n",
              "      border-left-color: var(--fill-color);\n",
              "      border-top-color: var(--fill-color);\n",
              "      border-right-color: var(--fill-color);\n",
              "    }\n",
              "    40% {\n",
              "      border-color: transparent;\n",
              "      border-right-color: var(--fill-color);\n",
              "      border-top-color: var(--fill-color);\n",
              "    }\n",
              "    60% {\n",
              "      border-color: transparent;\n",
              "      border-right-color: var(--fill-color);\n",
              "    }\n",
              "    80% {\n",
              "      border-color: transparent;\n",
              "      border-right-color: var(--fill-color);\n",
              "      border-bottom-color: var(--fill-color);\n",
              "    }\n",
              "    90% {\n",
              "      border-color: transparent;\n",
              "      border-bottom-color: var(--fill-color);\n",
              "    }\n",
              "  }\n",
              "</style>\n",
              "\n",
              "  <script>\n",
              "    async function quickchart(key) {\n",
              "      const quickchartButtonEl =\n",
              "        document.querySelector('#' + key + ' button');\n",
              "      quickchartButtonEl.disabled = true;  // To prevent multiple clicks.\n",
              "      quickchartButtonEl.classList.add('colab-df-spinner');\n",
              "      try {\n",
              "        const charts = await google.colab.kernel.invokeFunction(\n",
              "            'suggestCharts', [key], {});\n",
              "      } catch (error) {\n",
              "        console.error('Error during call to suggestCharts:', error);\n",
              "      }\n",
              "      quickchartButtonEl.classList.remove('colab-df-spinner');\n",
              "      quickchartButtonEl.classList.add('colab-df-quickchart-complete');\n",
              "    }\n",
              "    (() => {\n",
              "      let quickchartButtonEl =\n",
              "        document.querySelector('#df-9ab0fa3f-f42c-49e1-9339-e7ece4fa4555 button');\n",
              "      quickchartButtonEl.style.display =\n",
              "        google.colab.kernel.accessAllowed ? 'block' : 'none';\n",
              "    })();\n",
              "  </script>\n",
              "</div>\n",
              "    </div>\n",
              "  </div>\n"
            ],
            "application/vnd.google.colaboratory.intrinsic+json": {
              "type": "dataframe",
              "variable_name": "none_string_rows",
              "repr_error": "0"
            }
          },
          "metadata": {},
          "execution_count": 51
        }
      ]
    },
    {
      "cell_type": "markdown",
      "source": [
        "I have to remove video_id: zvAFPHLFMa0 due to the error can not be fixed."
      ],
      "metadata": {
        "id": "dLOyc9-B-r41"
      }
    },
    {
      "cell_type": "code",
      "source": [
        "# Define a function to clean the caption\n",
        "import re\n",
        "def clean_and_deduplicate_subtitles(subtitles_text):\n",
        "    # remove time and html\n",
        "    clean_text = re.sub(r'\\d{2}:\\d{2}:\\d{2}\\.\\d{3} --> \\d{2}:\\d{2}:\\d{2}\\.\\d{3}.*?\\n', '', subtitles_text)\n",
        "    clean_text = re.sub(r'<[^>]+>', '', clean_text)\n",
        "\n",
        "    # spliting sentences\n",
        "    sentences = clean_text.split('\\n')\n",
        "\n",
        "    # remove duplicates\n",
        "    seen = set()\n",
        "    deduplicated_sentences = [x for x in sentences if not (x in seen or seen.add(x))]\n",
        "\n",
        "    # reback\n",
        "    final_text = '\\n'.join(deduplicated_sentences)\n",
        "\n",
        "    return final_text.strip()"
      ],
      "metadata": {
        "id": "mlQOKZ543ErL"
      },
      "execution_count": null,
      "outputs": []
    },
    {
      "cell_type": "code",
      "source": [
        "# transform into character\n",
        "df_videos['subtitles_text'] = df_videos['subtitles_text'].astype(str).fillna('')\n",
        "df_videos['cleaned_subtitles'] = df_videos['subtitles_text'].apply(clean_and_deduplicate_subtitles)"
      ],
      "metadata": {
        "id": "QXmOdHkO6chE"
      },
      "execution_count": null,
      "outputs": []
    },
    {
      "cell_type": "code",
      "source": [
        "def better_text(subtitle_text):\n",
        "    lines = subtitle_text.split('\\n')\n",
        "    filtered_lines = [line for line in lines if line not in ['WEBVTT', 'Kind: captions', 'Language: en', '']]\n",
        "    cleaned_text = ' '.join(filtered_lines)\n",
        "    return cleaned_text"
      ],
      "metadata": {
        "id": "QDhg2HQC-5aF"
      },
      "execution_count": null,
      "outputs": []
    },
    {
      "cell_type": "code",
      "source": [
        "df_videos['cleaned_subtitles'] = df_videos['cleaned_subtitles'].apply(better_text)"
      ],
      "metadata": {
        "id": "CrifIzMT-6RJ"
      },
      "execution_count": null,
      "outputs": []
    },
    {
      "cell_type": "code",
      "source": [
        "none_subtitles_count = df_videos['subtitles_text'].isnull().sum()\n",
        "print(f\"Number of rows with 'None' in 'subtitles_text': {none_subtitles_count}\")"
      ],
      "metadata": {
        "colab": {
          "base_uri": "https://localhost:8080/"
        },
        "id": "HdmdQvPXAJS_",
        "outputId": "c65497fe-4bc3-46cc-8c49-ce4bc0f5a43a"
      },
      "execution_count": null,
      "outputs": [
        {
          "output_type": "stream",
          "name": "stdout",
          "text": [
            "Number of rows with 'None' in 'subtitles_text': 0\n"
          ]
        }
      ]
    },
    {
      "cell_type": "code",
      "source": [
        "print(df_videos.iloc[30])"
      ],
      "metadata": {
        "colab": {
          "base_uri": "https://localhost:8080/"
        },
        "id": "LnaRP9qx-9Vz",
        "outputId": "0b30c653-6a6e-4029-ef17-1662131af6ac"
      },
      "execution_count": null,
      "outputs": [
        {
          "output_type": "stream",
          "name": "stdout",
          "text": [
            "title                       Explained | Racial Wealth Gap | FULL EPISODE |...\n",
            "video_id                                                          Mqrhn8khGLM\n",
            "description                 In partnership with Vox Media Studios and Vox,...\n",
            "comment_count                                                            2861\n",
            "view_count                                                            1469023\n",
            "published_at                                             2020-04-17T13:00:03Z\n",
            "channel_subscriber_count                                             28100000\n",
            "subtitles_text                                                           None\n",
            "cleaned_subtitles                                                        None\n",
            "Name: 30, dtype: object\n"
          ]
        }
      ]
    },
    {
      "cell_type": "code",
      "source": [
        "drive.mount('/content/drive')"
      ],
      "metadata": {
        "colab": {
          "base_uri": "https://localhost:8080/"
        },
        "id": "MC3bvCDXOkwT",
        "outputId": "be76cc27-8c79-4889-b0df-66781ca750bd"
      },
      "execution_count": null,
      "outputs": [
        {
          "output_type": "stream",
          "name": "stdout",
          "text": [
            "Mounted at /content/drive\n"
          ]
        }
      ]
    },
    {
      "cell_type": "code",
      "source": [
        "file_path = '/.../videos_index.csv'\n",
        "df_videos.to_csv(file_path, index=False)"
      ],
      "metadata": {
        "id": "S97ZAf12O3i0"
      },
      "execution_count": null,
      "outputs": []
    }
  ]
}